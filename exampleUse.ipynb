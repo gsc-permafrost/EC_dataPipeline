{
 "cells": [
  {
   "cell_type": "markdown",
   "metadata": {},
   "source": [
    "## Example Usage\n",
    "\n"
   ]
  },
  {
   "cell_type": "markdown",
   "metadata": {},
   "source": [
    "## Database.py\n",
    "\n",
    "* Create an empty database"
   ]
  },
  {
   "cell_type": "code",
   "execution_count": 16,
   "metadata": {},
   "outputs": [
    {
     "name": "stdout",
     "output_type": "stream",
     "text": [
      "Fix initalization redundancy\n",
      "Initializing empty database\n",
      "Creating folder:  c:\\Users\\jskeeter\\gsc-permafrost\\EC_dataPipeline\\test\\2024\\SCL\\raw\n",
      "Creating folder:  c:\\Users\\jskeeter\\gsc-permafrost\\EC_dataPipeline\\test\\2024\\SCL\\clean\n",
      "Creating folder:  c:\\Users\\jskeeter\\gsc-permafrost\\EC_dataPipeline\\test\\2025\\SCL\\raw\n",
      "Creating folder:  c:\\Users\\jskeeter\\gsc-permafrost\\EC_dataPipeline\\test\\2025\\SCL\\clean\n",
      "Creating folder:  c:\\Users\\jskeeter\\gsc-permafrost\\EC_dataPipeline\\test\\_metadata.yml\n",
      "Creating file:  c:\\Users\\jskeeter\\gsc-permafrost\\EC_dataPipeline\\test\\_logfile.txt\n"
     ]
    }
   ],
   "source": [
    "import importlib\n",
    "# see: database.py\n",
    "import database as pyDB\n",
    "importlib.reload(pyDB)\n",
    "\n",
    "import os\n",
    "import shutil\n",
    "import numpy as np\n",
    "import pandas as pd\n",
    "\n",
    "# Define a \"test folder\" for database\n",
    "dbpth = os.path.join(os.getcwd(),'test')\n",
    "# Delete previous \"test folder\" if it already exists\n",
    "if os.path.isdir(dbpth): shutil.rmtree(dbpth)\n",
    "\n",
    "print('Fix initalization redundancy')\n",
    "\n",
    "#Create an empty database\n",
    "db = pyDB.database(projectPath=dbpth,\n",
    "    siteID=['SCL'],\n",
    "    Years=[str(y) for y in range(2024,2026)]\n",
    "    )\n"
   ]
  },
  {
   "cell_type": "markdown",
   "metadata": {},
   "source": [
    "## Add Data\n",
    "\n",
    "Create and add some arbitrary data\n",
    "<!-- 2) Add some arbitrary data\n",
    "3) Add new arbitrary data\n",
    "    * Example is done without overwriting existing values, option exists to overwrite values if needed -->"
   ]
  },
  {
   "cell_type": "code",
   "execution_count": 19,
   "metadata": {},
   "outputs": [
    {
     "ename": "AttributeError",
     "evalue": "'genericLoggerFile' object has no attribute 'verbose'",
     "output_type": "error",
     "traceback": [
      "\u001b[1;31m---------------------------------------------------------------------------\u001b[0m",
      "\u001b[1;31mAttributeError\u001b[0m                            Traceback (most recent call last)",
      "Cell \u001b[1;32mIn[19], line 21\u001b[0m\n\u001b[0;32m     13\u001b[0m testData \u001b[38;5;241m=\u001b[39m pd\u001b[38;5;241m.\u001b[39mDataFrame(\n\u001b[0;32m     14\u001b[0m     index\u001b[38;5;241m=\u001b[39mpd\u001b[38;5;241m.\u001b[39mDatetimeIndex([\u001b[38;5;124m'\u001b[39m\u001b[38;5;124m2024-12-31 23:30\u001b[39m\u001b[38;5;124m'\u001b[39m, \u001b[38;5;124m'\u001b[39m\u001b[38;5;124m2025-01-01 00:00\u001b[39m\u001b[38;5;124m'\u001b[39m, \u001b[38;5;124m'\u001b[39m\u001b[38;5;124m2025-01-01 00:30\u001b[39m\u001b[38;5;124m'\u001b[39m,\u001b[38;5;124m'\u001b[39m\u001b[38;5;124m2025-01-01 01:00\u001b[39m\u001b[38;5;124m'\u001b[39m]),\n\u001b[0;32m     15\u001b[0m     data\u001b[38;5;241m=\u001b[39m{\u001b[38;5;124m'\u001b[39m\u001b[38;5;124mTA\u001b[39m\u001b[38;5;124m'\u001b[39m:[\u001b[38;5;241m-\u001b[39m\u001b[38;5;241m1\u001b[39m,\u001b[38;5;241m-\u001b[39m\u001b[38;5;241m2\u001b[39m,\u001b[38;5;241m-\u001b[39m\u001b[38;5;241m3\u001b[39m,\u001b[38;5;241m-\u001b[39m\u001b[38;5;241m4\u001b[39m],\n\u001b[0;32m     16\u001b[0m           \u001b[38;5;124m'\u001b[39m\u001b[38;5;124mT*\u001b[39m\u001b[38;5;124m'\u001b[39m:[\u001b[38;5;241m-\u001b[39m\u001b[38;5;241m1.0\u001b[39m,\u001b[38;5;241m-\u001b[39m\u001b[38;5;241m2.00002\u001b[39m,\u001b[38;5;241m-\u001b[39m\u001b[38;5;241m3.0\u001b[39m,\u001b[38;5;241m-\u001b[39m\u001b[38;5;241m4.2\u001b[39m]}\n\u001b[0;32m     17\u001b[0m )\n\u001b[0;32m     19\u001b[0m \u001b[38;5;66;03m# genericLoggerFile() takes data and metadata for a given file and formats them in a standardized way\u001b[39;00m\n\u001b[0;32m     20\u001b[0m \u001b[38;5;66;03m# typically called from a raw file parser function (e.g., hoboCSV)\u001b[39;00m\n\u001b[1;32m---> 21\u001b[0m testData \u001b[38;5;241m=\u001b[39m \u001b[43mrawDataFile\u001b[49m\u001b[38;5;241;43m.\u001b[39;49m\u001b[43mgenericLoggerFile\u001b[49m\u001b[43m(\u001b[49m\u001b[43msiteID\u001b[49m\u001b[38;5;241;43m=\u001b[39;49m\u001b[38;5;124;43m'\u001b[39;49m\u001b[38;5;124;43mTest\u001b[39;49m\u001b[38;5;124;43m'\u001b[39;49m\u001b[43m,\u001b[49m\u001b[43msubSiteID\u001b[49m\u001b[38;5;241;43m=\u001b[39;49m\u001b[38;5;124;43m'\u001b[39;49m\u001b[38;5;124;43mMetStation\u001b[39;49m\u001b[38;5;124;43m'\u001b[39;49m\u001b[43m,\u001b[49m\u001b[43mData\u001b[49m\u001b[38;5;241;43m=\u001b[39;49m\u001b[43mtestData\u001b[49m\u001b[43m)\u001b[49m\n\u001b[0;32m     23\u001b[0m \u001b[38;5;66;03m# Call the import\u001b[39;00m\n\u001b[0;32m     24\u001b[0m db\u001b[38;5;241m.\u001b[39mrawDatabaseImport(testData\u001b[38;5;241m.\u001b[39mData,testData\u001b[38;5;241m.\u001b[39mMetadata)\n",
      "File \u001b[1;32m<string>:14\u001b[0m, in \u001b[0;36m__init__\u001b[1;34m(self, siteID, fileType, loggerName, subSiteID, siteDescription, replicateID, frequency, timeZone, lat, lon, Data)\u001b[0m\n",
      "File \u001b[1;32mc:\\Users\\jskeeter\\gsc-permafrost\\EC_dataPipeline\\rawDataFile.py:59\u001b[0m, in \u001b[0;36mgenericLoggerFile.__post_init__\u001b[1;34m(self)\u001b[0m\n\u001b[0;32m     57\u001b[0m \u001b[38;5;28mself\u001b[39m\u001b[38;5;241m.\u001b[39mMetadata[\u001b[38;5;124m'\u001b[39m\u001b[38;5;124mVariables\u001b[39m\u001b[38;5;124m'\u001b[39m] \u001b[38;5;241m=\u001b[39m {}\n\u001b[0;32m     58\u001b[0m newNames \u001b[38;5;241m=\u001b[39m []\n\u001b[1;32m---> 59\u001b[0m \u001b[38;5;28;01mif\u001b[39;00m \u001b[38;5;28;43mself\u001b[39;49m\u001b[38;5;241;43m.\u001b[39;49m\u001b[43mverbose\u001b[49m: \u001b[38;5;28mprint\u001b[39m(\u001b[38;5;124m'\u001b[39m\u001b[38;5;124mStandardizing and documenting traces\u001b[39m\u001b[38;5;124m'\u001b[39m)\n\u001b[0;32m     60\u001b[0m \u001b[38;5;28;01mfor\u001b[39;00m col \u001b[38;5;129;01min\u001b[39;00m \u001b[38;5;28mself\u001b[39m\u001b[38;5;241m.\u001b[39mData\u001b[38;5;241m.\u001b[39mcolumns:\n\u001b[0;32m     61\u001b[0m     obs \u001b[38;5;241m=\u001b[39m observation(name_in\u001b[38;5;241m=\u001b[39mcol,dtype\u001b[38;5;241m=\u001b[39m\u001b[38;5;28mself\u001b[39m\u001b[38;5;241m.\u001b[39mData[col]\u001b[38;5;241m.\u001b[39mdtype\u001b[38;5;241m.\u001b[39mstr)\n",
      "\u001b[1;31mAttributeError\u001b[0m: 'genericLoggerFile' object has no attribute 'verbose'"
     ]
    }
   ],
   "source": [
    "# Accepts pandas dataframe and dict of metadata as key inputs\n",
    "# Normally would be parsed from a file using other scripts (see rawDataFile.py)\n",
    "# Just a dummy example here for illustration purposes\n",
    "\n",
    "import rawDataFile\n",
    "importlib.reload(rawDataFile)\n",
    "importlib.reload(pyDB)\n",
    "\n",
    "db = pyDB.database(projectPath=dbpth,\n",
    "    )\n",
    "\n",
    "# A dummy dataset with two traces\n",
    "testData = pd.DataFrame(\n",
    "    index=pd.DatetimeIndex(['2024-12-31 23:30', '2025-01-01 00:00', '2025-01-01 00:30','2025-01-01 01:00']),\n",
    "    data={'TA':[-1,-2,-3,-4],\n",
    "          'T*':[-1.0,-2.00002,-3.0,-4.2]}\n",
    ")\n",
    "\n",
    "# genericLoggerFile() takes data and metadata for a given file and formats them in a standardized way\n",
    "# typically called from a raw file parser function (e.g., hoboCSV)\n",
    "testData = rawDataFile.genericLoggerFile(siteID='Test',subSiteID='MetStation',Data=testData)\n",
    "\n",
    "# Call the import\n",
    "db.rawDatabaseImport(testData.Data,testData.Metadata)"
   ]
  },
  {
   "cell_type": "code",
   "execution_count": null,
   "metadata": {},
   "outputs": [],
   "source": [
    "\n",
    "test2 = pd.DataFrame(\n",
    "    index=pd.DatetimeIndex(['2024-12-31 23:30', '2025-01-01 00:00', '2025-01-01 00:30','2025-01-01 01:00','2025-01-01 01:30']),\n",
    "    data={'TA':[-1,-2,-3,-9999,-5],\n",
    "          'TX':[-1,-2,-3,-9999,-5]}\n",
    ")\n",
    "\n",
    "df.rawDatabaseImport(test2)"
   ]
  },
  {
   "cell_type": "code",
   "execution_count": 44,
   "metadata": {},
   "outputs": [
    {
     "data": {
      "text/plain": [
       "'_a'"
      ]
     },
     "execution_count": 44,
     "metadata": {},
     "output_type": "execute_result"
    }
   ],
   "source": [
    "import re\n",
    "name = '*a'\n",
    "name = re.sub('[^0-9a-zA-Z]+','_',name)\n",
    "name"
   ]
  }
 ],
 "metadata": {
  "kernelspec": {
   "display_name": "base",
   "language": "python",
   "name": "python3"
  },
  "language_info": {
   "codemirror_mode": {
    "name": "ipython",
    "version": 3
   },
   "file_extension": ".py",
   "mimetype": "text/x-python",
   "name": "python",
   "nbconvert_exporter": "python",
   "pygments_lexer": "ipython3",
   "version": "3.12.4"
  }
 },
 "nbformat": 4,
 "nbformat_minor": 2
}
