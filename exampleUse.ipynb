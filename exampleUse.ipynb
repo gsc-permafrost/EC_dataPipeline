{
 "cells": [
  {
   "cell_type": "markdown",
   "metadata": {},
   "source": [
    "## Example Useage\n",
    "\n",
    "* Create an empty database\n",
    "* Add some arbitrary data\n",
    "* Add new arbitrary data\n",
    "    * Example is done without overwriting existing values, option exists to overwrite values if needed.\n"
   ]
  },
  {
   "cell_type": "code",
   "execution_count": null,
   "metadata": {},
   "outputs": [],
   "source": [
    "import importlib\n",
    "import database as pyDB\n",
    "importlib.reload(pyDB)\n",
    "\n",
    "import os\n",
    "import shutil\n",
    "import numpy as np\n",
    "import pandas as pd\n",
    "\n",
    "\n",
    "dbpth = os.path.join(os.getcwd(),'test')\n",
    "\n",
    "if os.path.isdir(dbpth):\n",
    "    shutil.rmtree(dbpth)\n",
    "\n",
    "df = pyDB.database(projectPath=dbpth,\n",
    "    siteID=['SCL'],\n",
    "    Years=[str(y) for y in range(2024,2026)]\n",
    "    )\n",
    "\n",
    "test = pd.DataFrame(\n",
    "    index=pd.DatetimeIndex(['2024-12-31 23:30', '2025-01-01 00:00', '2025-01-01 00:30','2025-01-01 01:00']),\n",
    "    data={'TA':[-1,-2,-3,-4],\n",
    "          'TF':[-1,-2,-3,-4]}\n",
    ")\n",
    "\n",
    "df.writeDatabase(test,'SCL',stage = 'raw/dummy')\n",
    "\n",
    "\n",
    "test2 = pd.DataFrame(\n",
    "    index=pd.DatetimeIndex(['2024-12-31 23:30', '2025-01-01 00:00', '2025-01-01 00:30','2025-01-01 01:00','2025-01-01 01:30']),\n",
    "    data={'TA':[-1,-2,-3,-9999,-5],\n",
    "          'TX':[-1,-2,-3,-9999,-5]}\n",
    ")\n",
    "\n",
    "df.writeDatabase(test2,'SCL',stage = 'raw/dummy')"
   ]
  }
 ],
 "metadata": {
  "language_info": {
   "name": "python"
  }
 },
 "nbformat": 4,
 "nbformat_minor": 2
}
