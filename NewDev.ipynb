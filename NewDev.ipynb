{
 "cells": [
  {
   "cell_type": "markdown",
   "metadata": {},
   "source": [
    "# Fresh take\n",
    "\n",
    "## 1. Initalize sites"
   ]
  },
  {
   "cell_type": "code",
   "execution_count": 398,
   "metadata": {},
   "outputs": [],
   "source": [
    "import os\n",
    "import shutil\n",
    "import importlib\n",
    "import NewDev as ND\n",
    "import helperFunctions\n",
    "importlib.reload(ND)  \n",
    "importlib.reload(helperFunctions)   \n",
    "\n",
    "# fresh database\n",
    "projectPath = os.path.join(os.getcwd(),'test')\n",
    "try:\n",
    "    shutil.rmtree(projectPath)\n",
    "except:\n",
    "    pass\n",
    "\n",
    "sites = helperFunctions.loadDict('example_data/siteInventory.yml')\n",
    "for site in sites.values():\n",
    "    ND.siteInventory(projectPath=projectPath,**site)"
   ]
  },
  {
   "cell_type": "markdown",
   "metadata": {},
   "source": [
    "## 2. Define measurments"
   ]
  },
  {
   "cell_type": "code",
   "execution_count": 399,
   "metadata": {},
   "outputs": [
    {
     "name": "stdout",
     "output_type": "stream",
     "text": [
      "{'Flux//TOBA': {'measurementID': 'Flux', 'subsiteID': None, 'fileType': 'TOBA', 'baseFrequency': '50ms', 'measurementDescription': 'High frequency eddy covariance data'}}\n",
      "[]\n",
      "{'Flux//TOBA': {'measurementID': 'Flux', 'subsiteID': None, 'fileType': 'TOBA', 'baseFrequency': '50ms', 'measurementDescription': 'High frequency eddy covariance data'}, 'Meteorologic//TOBA': {'measurementID': 'Meteorologic', 'subsiteID': None, 'fileType': 'TOBA', 'baseFrequency': '30min', 'measurementDescription': 'Low frequency meteorological data'}}\n",
      "[]\n",
      "{'Flux//TOBA': {'measurementID': 'Flux', 'subsiteID': None, 'fileType': 'TOBA', 'baseFrequency': '50ms', 'measurementDescription': 'High frequency eddy covariance data'}, 'Meteorologic//TOBA': {'measurementID': 'Meteorologic', 'subsiteID': None, 'fileType': 'TOBA', 'baseFrequency': '30min', 'measurementDescription': 'Low frequency meteorological data'}, 'Metadata//TOBA': {'measurementID': 'Metadata', 'subsiteID': None, 'fileType': 'TOBA', 'baseFrequency': '24h', 'measurementDescription': 'Daily metadata summaries'}}\n",
      "[]\n",
      "{'Flux//TOBA': {'measurementID': 'Flux', 'subsiteID': None, 'fileType': 'TOBA', 'baseFrequency': '50ms', 'measurementDescription': 'High frequency eddy covariance data'}, 'Meteorologic//TOBA': {'measurementID': 'Meteorologic', 'subsiteID': None, 'fileType': 'TOBA', 'baseFrequency': '30min', 'measurementDescription': 'Low frequency meteorological data'}, 'Metadata//TOBA': {'measurementID': 'Metadata', 'subsiteID': None, 'fileType': 'TOBA', 'baseFrequency': '24h', 'measurementDescription': 'Daily metadata summaries'}, 'Soil_Profile//SSM//HOBOcsv': {'measurementID': 'Soil_Profile', 'subsiteID': 'SSM', 'fileType': 'HOBOcsv', 'baseFrequency': '30min', 'measurementDescription': 'Soil temperature profiles in the salix sedge meadow'}}\n",
      "[]\n",
      "{'Flux//TOBA': {'measurementID': 'Flux', 'subsiteID': None, 'fileType': 'TOBA', 'baseFrequency': '50ms', 'measurementDescription': 'High frequency eddy covariance data'}, 'Meteorologic//TOBA': {'measurementID': 'Meteorologic', 'subsiteID': None, 'fileType': 'TOBA', 'baseFrequency': '30min', 'measurementDescription': 'Low frequency meteorological data'}, 'Metadata//TOBA': {'measurementID': 'Metadata', 'subsiteID': None, 'fileType': 'TOBA', 'baseFrequency': '24h', 'measurementDescription': 'Daily metadata summaries'}, 'Soil_Profile//SSM//HOBOcsv': {'measurementID': 'Soil_Profile', 'subsiteID': 'SSM', 'fileType': 'HOBOcsv', 'baseFrequency': '30min', 'measurementDescription': 'Soil temperature profiles in the salix sedge meadow'}, 'Soil_Profile//WSM//HOBOcsv': {'measurementID': 'Soil_Profile', 'subsiteID': 'WSM', 'fileType': 'HOBOcsv', 'baseFrequency': '30min', 'measurementDescription': 'Soil temperature profiles in the wet sedge meadow'}}\n",
      "[]\n"
     ]
    }
   ],
   "source": [
    "\n",
    "ND.measurementInventory(projectPath=projectPath,\n",
    "  siteID='SCL',\n",
    "  measurementID='Flux',\n",
    "  fileType='TOBA',\n",
    "  baseFrequency='50ms',\n",
    "  measurementDescription = 'High frequency eddy covariance data'\n",
    "  )\n",
    "ND.measurementInventory(projectPath=projectPath,\n",
    "  siteID='SCL',\n",
    "  measurementID='Meteorologic',\n",
    "  fileType='TOBA',\n",
    "  baseFrequency='30min',\n",
    "  measurementDescription = 'Low frequency meteorological data'\n",
    "  )\n",
    "ND.measurementInventory(projectPath=projectPath,\n",
    "  siteID='SCL',\n",
    "  measurementID='Metadata',\n",
    "  fileType='TOBA',\n",
    "  baseFrequency='24h',\n",
    "  measurementDescription = 'Daily metadata summaries'\n",
    "  )\n",
    "ND.measurementInventory(projectPath=projectPath,\n",
    "  siteID='SCL',\n",
    "  measurementID='Soil Profile',\n",
    "  subsiteID='SSM',\n",
    "  fileType='HOBOcsv',\n",
    "  baseFrequency='30min',\n",
    "  measurementDescription = 'Soil temperature profiles in the salix sedge meadow'\n",
    "  )\n",
    "\n",
    "a = ND.measurementInventory(projectPath=projectPath,\n",
    "  siteID='SCL',\n",
    "  measurementID='Soil Profile',\n",
    "  subsiteID='WSM',\n",
    "  fileType='HOBOcsv',\n",
    "  baseFrequency='30min',\n",
    "  measurementDescription = 'Soil temperature profiles in the wet sedge meadow'\n",
    "  )\n",
    "# a.__dict__"
   ]
  },
  {
   "cell_type": "code",
   "execution_count": 400,
   "metadata": {},
   "outputs": [
    {
     "name": "stdout",
     "output_type": "stream",
     "text": [
      "{'Soil_Profile//SSM//HOBOcsv//c:\\\\Users\\\\jskeeter\\\\gsc-permafrost\\\\EC_dataPipeline\\\\example_data\\\\20240724//csv//SSM_readout': {'sourcePath': 'c:\\\\Users\\\\jskeeter\\\\gsc-permafrost\\\\EC_dataPipeline\\\\example_data\\\\20240724', 'fileExt': 'csv', 'matchPattern': ['SSM', 'readout'], 'excludePattern': []}}\n",
      "[]\n",
      "{'Soil_Profile//SSM//HOBOcsv//c:\\\\Users\\\\jskeeter\\\\gsc-permafrost\\\\EC_dataPipeline\\\\example_data\\\\20240724//csv//SSM_readout': {'sourcePath': 'c:\\\\Users\\\\jskeeter\\\\gsc-permafrost\\\\EC_dataPipeline\\\\example_data\\\\20240724', 'fileExt': 'csv', 'matchPattern': ['SSM', 'readout'], 'excludePattern': []}, 'Soil_Profile//WSM//HOBOcsv//c:\\\\Users\\\\jskeeter\\\\gsc-permafrost\\\\EC_dataPipeline\\\\example_data\\\\20240724//csv//WSM_readoudt': {'sourcePath': 'c:\\\\Users\\\\jskeeter\\\\gsc-permafrost\\\\EC_dataPipeline\\\\example_data\\\\20240724', 'fileExt': 'csv', 'matchPattern': ['WSM', 'readoudt'], 'excludePattern': []}}\n",
      "[]\n"
     ]
    }
   ],
   "source": [
    "importlib.reload(ND)\n",
    "source = r'example_data\\20240724'\n",
    "t = ND.searchInventory(projectPath=projectPath,\n",
    "    siteID='SCL',\n",
    "    measurementID='Soil_Profile',\n",
    "    subsiteID='SSM',\n",
    "    fileType='HOBOcsv',\n",
    "    sourcePath=source,\n",
    "    fileExt='csv',\n",
    "    matchPattern=['SSM','readout']\n",
    "    )\n",
    "\n",
    "t = ND.searchInventory(projectPath=projectPath,\n",
    "    siteID='SCL',\n",
    "    measurementID='Soil_Profile',\n",
    "    subsiteID='WSM',\n",
    "    fileType='HOBOcsv',\n",
    "    sourcePath=source,\n",
    "    fileExt='csv',\n",
    "    matchPattern=['WSM','readoudt']\n",
    "    )\n"
   ]
  },
  {
   "cell_type": "code",
   "execution_count": 396,
   "metadata": {},
   "outputs": [
    {
     "name": "stdout",
     "output_type": "stream",
     "text": [
      "Validating metadta in:  c:\\Users\\jskeeter\\gsc-permafrost\\EC_dataPipeline\\test\n",
      "{'Flux//TOBA': {'measurementID': 'Flux', 'subsiteID': None, 'fileType': 'TOBA', 'baseFrequency': '50ms', 'measurementDescription': 'High frequency eddy covariance data'}, 'Meteorologic//TOBA': {'measurementID': 'Meteorologic', 'subsiteID': None, 'fileType': 'TOBA', 'baseFrequency': '30min', 'measurementDescription': 'Low frequency meteorological data'}, 'Metadata//TOBA': {'measurementID': 'Metadata', 'subsiteID': None, 'fileType': 'TOBA', 'baseFrequency': '24h', 'measurementDescription': 'Daily metadata summaries'}, 'Soil_Profile//SSM//HOBOcsv': {'measurementID': 'Soil_Profile', 'subsiteID': 'SSM', 'fileType': 'HOBOcsv', 'baseFrequency': '30min', 'measurementDescription': 'Soil temperature profiles in the salix sedge meadow'}, 'Soil_Profile//WSM//HOBOcsv': {'measurementID': 'Soil_Profile', 'subsiteID': 'WSM', 'fileType': 'HOBOcsv', 'baseFrequency': '30min', 'measurementDescription': 'Soil temperature profiles in the wet sedge meadow'}}\n",
      "[]\n",
      "setting:  Meteorologic  =  {'Flux//TOBA': {'measurementID': 'Flux', 'subsiteID': None, 'fileType': 'TOBA', 'baseFrequency': '50ms', 'measurementDescription': 'High frequency eddy covariance data'}, 'Meteorologic//TOBA': {'measurementID': 'Meteorologic', 'subsiteID': None, 'fileType': 'TOBA', 'baseFrequency': '30min', 'measurementDescription': 'Low frequency meteorological data'}, 'Metadata//TOBA': {'measurementID': 'Metadata', 'subsiteID': None, 'fileType': 'TOBA', 'baseFrequency': '24h', 'measurementDescription': 'Daily metadata summaries'}, 'Soil_Profile//SSM//HOBOcsv': {'measurementID': 'Soil_Profile', 'subsiteID': 'SSM', 'fileType': 'HOBOcsv', 'baseFrequency': '30min', 'measurementDescription': 'Soil temperature profiles in the salix sedge meadow'}, 'Soil_Profile//WSM//HOBOcsv': {'measurementID': 'Soil_Profile', 'subsiteID': 'WSM', 'fileType': 'HOBOcsv', 'baseFrequency': '30min', 'measurementDescription': 'Soil temperature profiles in the wet sedge meadow'}} \n",
      " to:  Meteorologic  =  {'TOBA': {'measurementID': 'Meteorologic', 'subsiteID': None, 'fileType': 'TOBA', 'baseFrequency': '30min', 'measurementDescription': 'Low frequency meteorological data'}}\n",
      "{'Flux//TOBA': {'measurementID': 'Flux', 'subsiteID': None, 'fileType': 'TOBA', 'baseFrequency': '50ms', 'measurementDescription': 'High frequency eddy covariance data'}, 'Meteorologic//TOBA': {'measurementID': 'Meteorologic', 'subsiteID': None, 'fileType': 'TOBA', 'baseFrequency': '30min', 'measurementDescription': 'Low frequency meteorological data'}, 'Metadata//TOBA': {'measurementID': 'Metadata', 'subsiteID': None, 'fileType': 'TOBA', 'baseFrequency': '24h', 'measurementDescription': 'Daily metadata summaries'}, 'Soil_Profile//SSM//HOBOcsv': {'measurementID': 'Soil_Profile', 'subsiteID': 'SSM', 'fileType': 'HOBOcsv', 'baseFrequency': '30min', 'measurementDescription': 'Soil temperature profiles in the salix sedge meadow'}, 'Soil_Profile//WSM//HOBOcsv': {'measurementID': 'Soil_Profile', 'subsiteID': 'WSM', 'fileType': 'HOBOcsv', 'baseFrequency': '30min', 'measurementDescription': 'Soil temperature profiles in the wet sedge meadow'}}\n",
      "[]\n",
      "setting:  Metadata  =  {'Flux//TOBA': {'measurementID': 'Flux', 'subsiteID': None, 'fileType': 'TOBA', 'baseFrequency': '50ms', 'measurementDescription': 'High frequency eddy covariance data'}, 'Meteorologic//TOBA': {'measurementID': 'Meteorologic', 'subsiteID': None, 'fileType': 'TOBA', 'baseFrequency': '30min', 'measurementDescription': 'Low frequency meteorological data'}, 'Metadata//TOBA': {'measurementID': 'Metadata', 'subsiteID': None, 'fileType': 'TOBA', 'baseFrequency': '24h', 'measurementDescription': 'Daily metadata summaries'}, 'Soil_Profile//SSM//HOBOcsv': {'measurementID': 'Soil_Profile', 'subsiteID': 'SSM', 'fileType': 'HOBOcsv', 'baseFrequency': '30min', 'measurementDescription': 'Soil temperature profiles in the salix sedge meadow'}, 'Soil_Profile//WSM//HOBOcsv': {'measurementID': 'Soil_Profile', 'subsiteID': 'WSM', 'fileType': 'HOBOcsv', 'baseFrequency': '30min', 'measurementDescription': 'Soil temperature profiles in the wet sedge meadow'}} \n",
      " to:  Metadata  =  {'TOBA': {'measurementID': 'Metadata', 'subsiteID': None, 'fileType': 'TOBA', 'baseFrequency': '24h', 'measurementDescription': 'Daily metadata summaries'}}\n",
      "{'Flux//TOBA': {'measurementID': 'Flux', 'subsiteID': None, 'fileType': 'TOBA', 'baseFrequency': '50ms', 'measurementDescription': 'High frequency eddy covariance data'}, 'Meteorologic//TOBA': {'measurementID': 'Meteorologic', 'subsiteID': None, 'fileType': 'TOBA', 'baseFrequency': '30min', 'measurementDescription': 'Low frequency meteorological data'}, 'Metadata//TOBA': {'measurementID': 'Metadata', 'subsiteID': None, 'fileType': 'TOBA', 'baseFrequency': '24h', 'measurementDescription': 'Daily metadata summaries'}, 'Soil_Profile//SSM//HOBOcsv': {'measurementID': 'Soil_Profile', 'subsiteID': 'SSM', 'fileType': 'HOBOcsv', 'baseFrequency': '30min', 'measurementDescription': 'Soil temperature profiles in the salix sedge meadow'}, 'Soil_Profile//WSM//HOBOcsv': {'measurementID': 'Soil_Profile', 'subsiteID': 'WSM', 'fileType': 'HOBOcsv', 'baseFrequency': '30min', 'measurementDescription': 'Soil temperature profiles in the wet sedge meadow'}}\n",
      "[]\n",
      "setting:  Soil_Profile  =  {'Flux//TOBA': {'measurementID': 'Flux', 'subsiteID': None, 'fileType': 'TOBA', 'baseFrequency': '50ms', 'measurementDescription': 'High frequency eddy covariance data'}, 'Meteorologic//TOBA': {'measurementID': 'Meteorologic', 'subsiteID': None, 'fileType': 'TOBA', 'baseFrequency': '30min', 'measurementDescription': 'Low frequency meteorological data'}, 'Metadata//TOBA': {'measurementID': 'Metadata', 'subsiteID': None, 'fileType': 'TOBA', 'baseFrequency': '24h', 'measurementDescription': 'Daily metadata summaries'}, 'Soil_Profile//SSM//HOBOcsv': {'measurementID': 'Soil_Profile', 'subsiteID': 'SSM', 'fileType': 'HOBOcsv', 'baseFrequency': '30min', 'measurementDescription': 'Soil temperature profiles in the salix sedge meadow'}, 'Soil_Profile//WSM//HOBOcsv': {'measurementID': 'Soil_Profile', 'subsiteID': 'WSM', 'fileType': 'HOBOcsv', 'baseFrequency': '30min', 'measurementDescription': 'Soil temperature profiles in the wet sedge meadow'}} \n",
      " to:  Soil_Profile  =  {'SSM': {'HOBOcsv': {'measurementID': 'Soil_Profile', 'subsiteID': 'SSM', 'fileType': 'HOBOcsv', 'baseFrequency': '30min', 'measurementDescription': 'Soil temperature profiles in the salix sedge meadow'}}}\n",
      "{'Flux//TOBA': {'measurementID': 'Flux', 'subsiteID': None, 'fileType': 'TOBA', 'baseFrequency': '50ms', 'measurementDescription': 'High frequency eddy covariance data'}, 'Meteorologic//TOBA': {'measurementID': 'Meteorologic', 'subsiteID': None, 'fileType': 'TOBA', 'baseFrequency': '30min', 'measurementDescription': 'Low frequency meteorological data'}, 'Metadata//TOBA': {'measurementID': 'Metadata', 'subsiteID': None, 'fileType': 'TOBA', 'baseFrequency': '24h', 'measurementDescription': 'Daily metadata summaries'}, 'Soil_Profile//SSM//HOBOcsv': {'measurementID': 'Soil_Profile', 'subsiteID': 'SSM', 'fileType': 'HOBOcsv', 'baseFrequency': '30min', 'measurementDescription': 'Soil temperature profiles in the salix sedge meadow'}, 'Soil_Profile//WSM//HOBOcsv': {'measurementID': 'Soil_Profile', 'subsiteID': 'WSM', 'fileType': 'HOBOcsv', 'baseFrequency': '30min', 'measurementDescription': 'Soil temperature profiles in the wet sedge meadow'}}\n",
      "[]\n",
      "{'Soil_Profile//SSM//HOBOcsv//c:\\\\Users\\\\jskeeter\\\\gsc-permafrost\\\\EC_dataPipeline\\\\example_data\\\\20240724//csv//SSM_readout': {'sourcePath': 'c:\\\\Users\\\\jskeeter\\\\gsc-permafrost\\\\EC_dataPipeline\\\\example_data\\\\20240724', 'fileExt': 'csv', 'matchPattern': ['SSM', 'readout'], 'excludePattern': []}, 'Soil_Profile//WSM//HOBOcsv//c:\\\\Users\\\\jskeeter\\\\gsc-permafrost\\\\EC_dataPipeline\\\\example_data\\\\20240724//csv': {'sourcePath': 'c:\\\\Users\\\\jskeeter\\\\gsc-permafrost\\\\EC_dataPipeline\\\\example_data\\\\20240724', 'fileExt': 'csv', 'matchPattern': ['WSM', 'readoudt'], 'excludePattern': []}, 'Soil_Profile//WSM//HOBOcsv//c:\\\\Users\\\\jskeeter\\\\gsc-permafrost\\\\EC_dataPipeline\\\\example_data\\\\20240724//csv//WSM_readoudt': {'sourcePath': 'c:\\\\Users\\\\jskeeter\\\\gsc-permafrost\\\\EC_dataPipeline\\\\example_data\\\\20240724', 'fileExt': 'csv', 'matchPattern': ['WSM', 'readoudt'], 'excludePattern': []}}\n",
      "['Soil_Profile//WSM//HOBOcsv//c:\\\\Users\\\\jskeeter\\\\gsc-permafrost\\\\EC_dataPipeline\\\\example_data\\\\20240724//csv']\n",
      "setting:  Soil_Profile  =  {'Flux//TOBA': {'measurementID': 'Flux', 'subsiteID': None, 'fileType': 'TOBA', 'baseFrequency': '50ms', 'measurementDescription': 'High frequency eddy covariance data'}, 'Meteorologic//TOBA': {'measurementID': 'Meteorologic', 'subsiteID': None, 'fileType': 'TOBA', 'baseFrequency': '30min', 'measurementDescription': 'Low frequency meteorological data'}, 'Metadata//TOBA': {'measurementID': 'Metadata', 'subsiteID': None, 'fileType': 'TOBA', 'baseFrequency': '24h', 'measurementDescription': 'Daily metadata summaries'}, 'Soil_Profile//SSM//HOBOcsv': {'measurementID': 'Soil_Profile', 'subsiteID': 'SSM', 'fileType': 'HOBOcsv', 'baseFrequency': '30min', 'measurementDescription': 'Soil temperature profiles in the salix sedge meadow'}, 'Soil_Profile//WSM//HOBOcsv': {'measurementID': 'Soil_Profile', 'subsiteID': 'WSM', 'fileType': 'HOBOcsv', 'baseFrequency': '30min', 'measurementDescription': 'Soil temperature profiles in the wet sedge meadow'}} \n",
      " to:  Soil_Profile  =  {'WSM': {'HOBOcsv': {'measurementID': 'Soil_Profile', 'subsiteID': 'WSM', 'fileType': 'HOBOcsv', 'baseFrequency': '30min', 'measurementDescription': 'Soil temperature profiles in the wet sedge meadow'}}}\n",
      "{'Flux//TOBA': {'measurementID': 'Flux', 'subsiteID': None, 'fileType': 'TOBA', 'baseFrequency': '50ms', 'measurementDescription': 'High frequency eddy covariance data'}, 'Meteorologic//TOBA': {'measurementID': 'Meteorologic', 'subsiteID': None, 'fileType': 'TOBA', 'baseFrequency': '30min', 'measurementDescription': 'Low frequency meteorological data'}, 'Metadata//TOBA': {'measurementID': 'Metadata', 'subsiteID': None, 'fileType': 'TOBA', 'baseFrequency': '24h', 'measurementDescription': 'Daily metadata summaries'}, 'Soil_Profile//SSM//HOBOcsv': {'measurementID': 'Soil_Profile', 'subsiteID': 'SSM', 'fileType': 'HOBOcsv', 'baseFrequency': '30min', 'measurementDescription': 'Soil temperature profiles in the salix sedge meadow'}, 'Soil_Profile//WSM//HOBOcsv': {'measurementID': 'Soil_Profile', 'subsiteID': 'WSM', 'fileType': 'HOBOcsv', 'baseFrequency': '30min', 'measurementDescription': 'Soil temperature profiles in the wet sedge meadow'}}\n",
      "[]\n",
      "setting:  Soil_Profile  =  {'Soil_Profile//SSM//HOBOcsv//c:\\\\Users\\\\jskeeter\\\\gsc-permafrost\\\\EC_dataPipeline\\\\example_data\\\\20240724//csv//SSM_readout': {'sourcePath': 'c:\\\\Users\\\\jskeeter\\\\gsc-permafrost\\\\EC_dataPipeline\\\\example_data\\\\20240724', 'fileExt': 'csv', 'matchPattern': ['SSM', 'readout'], 'excludePattern': []}, 'Soil_Profile//WSM//HOBOcsv//c:\\\\Users\\\\jskeeter\\\\gsc-permafrost\\\\EC_dataPipeline\\\\example_data\\\\20240724//csv': {'sourcePath': 'c:\\\\Users\\\\jskeeter\\\\gsc-permafrost\\\\EC_dataPipeline\\\\example_data\\\\20240724', 'fileExt': 'csv', 'matchPattern': ['WSM', 'readoudt'], 'excludePattern': []}, 'Soil_Profile//WSM//HOBOcsv//c:\\\\Users\\\\jskeeter\\\\gsc-permafrost\\\\EC_dataPipeline\\\\example_data\\\\20240724//csv//WSM_readoudt': {'sourcePath': 'c:\\\\Users\\\\jskeeter\\\\gsc-permafrost\\\\EC_dataPipeline\\\\example_data\\\\20240724', 'fileExt': 'csv', 'matchPattern': ['WSM', 'readoudt'], 'excludePattern': []}} \n",
      " to:  Soil_Profile  =  {'WSM': {'HOBOcsv': {'c:\\\\Users\\\\jskeeter\\\\gsc-permafrost\\\\EC_dataPipeline\\\\example_data\\\\20240724': {'csv': {'WSM_readoudt': {'sourcePath': 'c:\\\\Users\\\\jskeeter\\\\gsc-permafrost\\\\EC_dataPipeline\\\\example_data\\\\20240724', 'fileExt': 'csv', 'matchPattern': ['WSM', 'readoudt'], 'excludePattern': []}}}}}}\n",
      "{'Soil_Profile//SSM//HOBOcsv//c:\\\\Users\\\\jskeeter\\\\gsc-permafrost\\\\EC_dataPipeline\\\\example_data\\\\20240724//csv//SSM_readout': {'sourcePath': 'c:\\\\Users\\\\jskeeter\\\\gsc-permafrost\\\\EC_dataPipeline\\\\example_data\\\\20240724', 'fileExt': 'csv', 'matchPattern': ['SSM', 'readout'], 'excludePattern': []}, 'Soil_Profile//WSM//HOBOcsv//c:\\\\Users\\\\jskeeter\\\\gsc-permafrost\\\\EC_dataPipeline\\\\example_data\\\\20240724//csv': {'sourcePath': 'c:\\\\Users\\\\jskeeter\\\\gsc-permafrost\\\\EC_dataPipeline\\\\example_data\\\\20240724', 'fileExt': 'csv', 'matchPattern': ['WSM', 'readoudt'], 'excludePattern': []}, 'Soil_Profile//WSM//HOBOcsv//c:\\\\Users\\\\jskeeter\\\\gsc-permafrost\\\\EC_dataPipeline\\\\example_data\\\\20240724//csv//WSM_readoudt': {'sourcePath': 'c:\\\\Users\\\\jskeeter\\\\gsc-permafrost\\\\EC_dataPipeline\\\\example_data\\\\20240724', 'fileExt': 'csv', 'matchPattern': ['WSM', 'readoudt'], 'excludePattern': []}}\n",
      "['Soil_Profile//WSM//HOBOcsv//c:\\\\Users\\\\jskeeter\\\\gsc-permafrost\\\\EC_dataPipeline\\\\example_data\\\\20240724//csv']\n",
      "setting:  Soil_Profile  =  {'Soil_Profile//SSM//HOBOcsv//c:\\\\Users\\\\jskeeter\\\\gsc-permafrost\\\\EC_dataPipeline\\\\example_data\\\\20240724//csv//SSM_readout': {'sourcePath': 'c:\\\\Users\\\\jskeeter\\\\gsc-permafrost\\\\EC_dataPipeline\\\\example_data\\\\20240724', 'fileExt': 'csv', 'matchPattern': ['SSM', 'readout'], 'excludePattern': []}, 'Soil_Profile//WSM//HOBOcsv//c:\\\\Users\\\\jskeeter\\\\gsc-permafrost\\\\EC_dataPipeline\\\\example_data\\\\20240724//csv': {'sourcePath': 'c:\\\\Users\\\\jskeeter\\\\gsc-permafrost\\\\EC_dataPipeline\\\\example_data\\\\20240724', 'fileExt': 'csv', 'matchPattern': ['WSM', 'readoudt'], 'excludePattern': []}, 'Soil_Profile//WSM//HOBOcsv//c:\\\\Users\\\\jskeeter\\\\gsc-permafrost\\\\EC_dataPipeline\\\\example_data\\\\20240724//csv//WSM_readoudt': {'sourcePath': 'c:\\\\Users\\\\jskeeter\\\\gsc-permafrost\\\\EC_dataPipeline\\\\example_data\\\\20240724', 'fileExt': 'csv', 'matchPattern': ['WSM', 'readoudt'], 'excludePattern': []}} \n",
      " to:  Soil_Profile  =  {'WSM': {'HOBOcsv': {'c:\\\\Users\\\\jskeeter\\\\gsc-permafrost\\\\EC_dataPipeline\\\\example_data\\\\20240724': {'csv': {'WSM_readoudt': {'sourcePath': 'c:\\\\Users\\\\jskeeter\\\\gsc-permafrost\\\\EC_dataPipeline\\\\example_data\\\\20240724', 'fileExt': 'csv', 'matchPattern': ['WSM', 'readoudt'], 'excludePattern': []}}}}}}\n",
      "{'Soil_Profile//SSM//HOBOcsv//c:\\\\Users\\\\jskeeter\\\\gsc-permafrost\\\\EC_dataPipeline\\\\example_data\\\\20240724//csv//SSM_readout': {'sourcePath': 'c:\\\\Users\\\\jskeeter\\\\gsc-permafrost\\\\EC_dataPipeline\\\\example_data\\\\20240724', 'fileExt': 'csv', 'matchPattern': ['SSM', 'readout'], 'excludePattern': []}, 'Soil_Profile//WSM//HOBOcsv//c:\\\\Users\\\\jskeeter\\\\gsc-permafrost\\\\EC_dataPipeline\\\\example_data\\\\20240724//csv': {'sourcePath': 'c:\\\\Users\\\\jskeeter\\\\gsc-permafrost\\\\EC_dataPipeline\\\\example_data\\\\20240724', 'fileExt': 'csv', 'matchPattern': ['WSM', 'readoudt'], 'excludePattern': []}, 'Soil_Profile//WSM//HOBOcsv//c:\\\\Users\\\\jskeeter\\\\gsc-permafrost\\\\EC_dataPipeline\\\\example_data\\\\20240724//csv//WSM_readoudt': {'sourcePath': 'c:\\\\Users\\\\jskeeter\\\\gsc-permafrost\\\\EC_dataPipeline\\\\example_data\\\\20240724', 'fileExt': 'csv', 'matchPattern': ['WSM', 'readoudt'], 'excludePattern': []}}\n",
      "['Soil_Profile//WSM//HOBOcsv//c:\\\\Users\\\\jskeeter\\\\gsc-permafrost\\\\EC_dataPipeline\\\\example_data\\\\20240724//csv']\n"
     ]
    }
   ],
   "source": [
    "importlib.reload(ND)\n",
    "ND.database(verbose=True,projectPath=projectPath).validate()\n",
    "# ND.siteInventory(projectPath=projectPath)\n",
    "# any([j==1 for j in [1,2,3]])"
   ]
  },
  {
   "cell_type": "code",
   "execution_count": null,
   "metadata": {},
   "outputs": [
    {
     "ename": "AttributeError",
     "evalue": "module 'NewDev' has no attribute 'sourcefileInventory'",
     "output_type": "error",
     "traceback": [
      "\u001b[31m---------------------------------------------------------------------------\u001b[39m",
      "\u001b[31mAttributeError\u001b[39m                            Traceback (most recent call last)",
      "\u001b[36mCell\u001b[39m\u001b[36m \u001b[39m\u001b[32mIn[4]\u001b[39m\u001b[32m, line 3\u001b[39m\n\u001b[32m      1\u001b[39m importlib.reload(ND)\n\u001b[32m      2\u001b[39m source = \u001b[33mr\u001b[39m\u001b[33m'\u001b[39m\u001b[33mexample_data\u001b[39m\u001b[33m\\\u001b[39m\u001b[33m20240724\u001b[39m\u001b[33m'\u001b[39m\n\u001b[32m----> \u001b[39m\u001b[32m3\u001b[39m t = \u001b[43mND\u001b[49m\u001b[43m.\u001b[49m\u001b[43msourcefileInventory\u001b[49m(projectPath=projectPath,\n\u001b[32m      4\u001b[39m     siteID=\u001b[33m'\u001b[39m\u001b[33mSCL\u001b[39m\u001b[33m'\u001b[39m,\n\u001b[32m      5\u001b[39m     index=\u001b[33m'\u001b[39m\u001b[33mSoil_Profile-WSM-HOBOcsv\u001b[39m\u001b[33m'\u001b[39m,\n\u001b[32m      6\u001b[39m     sourcePath=source,\n\u001b[32m      7\u001b[39m     fileExt=\u001b[33m'\u001b[39m\u001b[33mcsv\u001b[39m\u001b[33m'\u001b[39m,\n\u001b[32m      8\u001b[39m     matchPattern=\u001b[33m'\u001b[39m\u001b[33mSSsM\u001b[39m\u001b[33m'\u001b[39m)\n\u001b[32m      9\u001b[39m t = ND.sourcefileInventory(projectPath=projectPath,\n\u001b[32m     10\u001b[39m     siteID=\u001b[33m'\u001b[39m\u001b[33mSCL\u001b[39m\u001b[33m'\u001b[39m,\n\u001b[32m     11\u001b[39m     index=\u001b[33m'\u001b[39m\u001b[33mSoil_Profile-WSM-HOBOcsv\u001b[39m\u001b[33m'\u001b[39m,\n\u001b[32m     12\u001b[39m     sourcePath=source,\n\u001b[32m     13\u001b[39m     fileExt=\u001b[33m'\u001b[39m\u001b[33mcsv\u001b[39m\u001b[33m'\u001b[39m,\n\u001b[32m     14\u001b[39m     matchPattern=\u001b[33m'\u001b[39m\u001b[33mSSsM\u001b[39m\u001b[33m'\u001b[39m)\n\u001b[32m     16\u001b[39m source = \u001b[33mr\u001b[39m\u001b[33m'\u001b[39m\u001b[33mexample_data\u001b[39m\u001b[33m\\\u001b[39m\u001b[33m20240914\u001b[39m\u001b[33m'\u001b[39m\n",
      "\u001b[31mAttributeError\u001b[39m: module 'NewDev' has no attribute 'sourcefileInventory'"
     ]
    }
   ],
   "source": [
    "# importlib.reload(ND)\n",
    "# source = r'example_data\\20240724'\n",
    "# t = ND.sourcefileInventory(projectPath=projectPath,\n",
    "#     siteID='SCL',\n",
    "#     index='Soil_Profile-WSM-HOBOcsv',\n",
    "#     sourcePath=source,\n",
    "#     fileExt='csv',\n",
    "#     matchPattern='SSsM')\n",
    "# t = ND.sourcefileInventory(projectPath=projectPath,\n",
    "#     siteID='SCL',\n",
    "#     index='Soil_Profile-WSM-HOBOcsv',\n",
    "#     sourcePath=source,\n",
    "#     fileExt='csv',\n",
    "#     matchPattern='SSsM')\n",
    "\n",
    "# source = r'example_data\\20240914'\n",
    "# t = ND.sourcefileInventory(projectPath=projectPath,\n",
    "#     siteID='SCL',\n",
    "#     index='Soil_Profile-WSM-HOBOcsv',\n",
    "#     sourcePath=source,\n",
    "#     fileExt='csv',\n",
    "#     matchPattern='SSM')\n",
    "# # t.subIndex"
   ]
  },
  {
   "cell_type": "code",
   "execution_count": 454,
   "metadata": {},
   "outputs": [
    {
     "data": {
      "text/plain": [
       "('ab',)"
      ]
     },
     "execution_count": 454,
     "metadata": {},
     "output_type": "execute_result"
    }
   ],
   "source": [
    "# \n",
    "# tuple(['a','b'])\n",
    "tuple(['ab'])"
   ]
  },
  {
   "cell_type": "markdown",
   "metadata": {},
   "source": [
    "## Setup an inventory"
   ]
  },
  {
   "cell_type": "code",
   "execution_count": 433,
   "metadata": {},
   "outputs": [
    {
     "ename": "AttributeError",
     "evalue": "module 'NewDev' has no attribute 'databaseProject'",
     "output_type": "error",
     "traceback": [
      "\u001b[31m---------------------------------------------------------------------------\u001b[39m",
      "\u001b[31mAttributeError\u001b[39m                            Traceback (most recent call last)",
      "\u001b[36mCell\u001b[39m\u001b[36m \u001b[39m\u001b[32mIn[433]\u001b[39m\u001b[32m, line 18\u001b[39m\n\u001b[32m     16\u001b[39m \u001b[38;5;28;01mexcept\u001b[39;00m:\n\u001b[32m     17\u001b[39m     \u001b[38;5;28;01mpass\u001b[39;00m\n\u001b[32m---> \u001b[39m\u001b[32m18\u001b[39m \u001b[43mND\u001b[49m\u001b[43m.\u001b[49m\u001b[43mdatabaseProject\u001b[49m(projectPath)\n\u001b[32m     20\u001b[39m \u001b[38;5;66;03m# load templates\u001b[39;00m\n\u001b[32m     21\u001b[39m template = hf.loadDict(\u001b[33mr\u001b[39m\u001b[33m'\u001b[39m\u001b[33mexample_data\u001b[39m\u001b[33m\\\u001b[39m\u001b[33msiteInventory.yml\u001b[39m\u001b[33m'\u001b[39m)\n",
      "\u001b[31mAttributeError\u001b[39m: module 'NewDev' has no attribute 'databaseProject'"
     ]
    }
   ],
   "source": [
    "import os\n",
    "import yaml\n",
    "import time\n",
    "import shutil\n",
    "import numpy as np\n",
    "import pandas as pd\n",
    "import importlib\n",
    "import NewDev as ND\n",
    "import helperFunctions as hf\n",
    "importlib.reload(ND)     \n",
    "\n",
    "# fresh database\n",
    "projectPath = os.path.join(os.getcwd(),'test')\n",
    "try:\n",
    "    shutil.rmtree(projectPath)\n",
    "except:\n",
    "    pass\n",
    "ND.databaseProject(projectPath)\n",
    "\n",
    "# load templates\n",
    "template = hf.loadDict(r'example_data\\siteInventory.yml')\n",
    "for siteID,values in template.items():\n",
    "    ND.siteInventory(projectPath=projectPath,siteID=siteID,**values)\n",
    "\n",
    "template = hf.loadDict(r'example_data\\SCL\\measurementInventory.yml')\n",
    "for measurementID,values in template.items():\n",
    "    ND.measurementInventory(projectPath=projectPath,measurementID=measurementID,siteID='SCL',**values)\n",
    "\n",
    "source = r'example_data'\n",
    "ND.fileInventory(projectPath=projectPath,source=source,siteID='SCL',measurementID='Profile_SSM',ext='csv',matchPattern='SSM')#,lookup=True)\n",
    "ND.fileInventory(projectPath=projectPath,source=source,siteID='SCL',measurementID='Profile_WSM',ext='csv',matchPattern='WSM')#,lookup=True)"
   ]
  },
  {
   "cell_type": "code",
   "execution_count": 429,
   "metadata": {},
   "outputs": [
    {
     "ename": "TypeError",
     "evalue": "unhashable type: 'list'",
     "output_type": "error",
     "traceback": [
      "\u001b[31m---------------------------------------------------------------------------\u001b[39m",
      "\u001b[31mTypeError\u001b[39m                                 Traceback (most recent call last)",
      "\u001b[36mCell\u001b[39m\u001b[36m \u001b[39m\u001b[32mIn[429]\u001b[39m\u001b[32m, line 5\u001b[39m\n\u001b[32m      1\u001b[39m \u001b[38;5;66;03m# ND.fileInventory(projectPath=projectPath,siteID='SCL',measurementID='Profile_WSM',lookup=True).sessionMetadata\u001b[39;00m\n\u001b[32m      2\u001b[39m \u001b[38;5;66;03m# # a = None\u001b[39;00m\n\u001b[32m      3\u001b[39m \u001b[38;5;66;03m# # if a:\u001b[39;00m\n\u001b[32m      4\u001b[39m \u001b[38;5;66;03m# #     print('d')\u001b[39;00m\n\u001b[32m----> \u001b[39m\u001b[32m5\u001b[39m d={[\u001b[33m'\u001b[39m\u001b[33m1\u001b[39m\u001b[33m'\u001b[39m,\u001b[33m'\u001b[39m\u001b[33m2\u001b[39m\u001b[33m'\u001b[39m]:\u001b[33m'\u001b[39m\u001b[33mx\u001b[39m\u001b[33m'\u001b[39m}\n",
      "\u001b[31mTypeError\u001b[39m: unhashable type: 'list'"
     ]
    }
   ],
   "source": [
    "# ND.fileInventory(projectPath=projectPath,siteID='SCL',measurementID='Profile_WSM',lookup=True).sessionMetadata\n",
    "# # a = None\n",
    "# # if a:\n",
    "# #     print('d')\n",
    "d={['1','2']:'x'}"
   ]
  },
  {
   "cell_type": "markdown",
   "metadata": {},
   "source": [
    "## File Management"
   ]
  },
  {
   "cell_type": "code",
   "execution_count": null,
   "metadata": {},
   "outputs": [
    {
     "data": {
      "text/plain": [
       "{'c:\\\\Users\\\\jskeeter\\\\gsc-permafrost\\\\EC_dataPipeline\\\\example_data': {'ext': 'csv',\n",
       "  'matchPattern': ['SSM'],\n",
       "  'excludePattern': [],\n",
       "  'fileList': [['20240724\\\\20750528-SHSC.SSM.SGT.240720_240724readout.csv',\n",
       "    False],\n",
       "   ['20240914\\\\20750528-SHSC.SSM.SGT.240720_240913readout.csv', False]]}}"
      ]
     },
     "execution_count": 119,
     "metadata": {},
     "output_type": "execute_result"
    }
   ],
   "source": [
    "import time\n",
    "import rawDataFile as rd\n",
    "importlib.reload(rd)\n",
    "source = r'example_data'\n",
    "T1 = time.time()\n",
    "\n",
    "t = rd.fileInventory(projectPath=projectPath,source=source,siteID='SCL',measurementID='Profile_SSM',ext='csv',matchPattern='SSM',lookup=True)\n",
    "\n",
    "t.inventory"
   ]
  },
  {
   "cell_type": "code",
   "execution_count": null,
   "metadata": {},
   "outputs": [
    {
     "data": {
      "text/plain": [
       "DatetimeIndex([       '2025-03-01 00:00:00', '2025-03-01 00:00:00.050000',\n",
       "               '2025-03-01 00:00:00.100000', '2025-03-01 00:00:00.150000',\n",
       "               '2025-03-01 00:00:00.200000', '2025-03-01 00:00:00.250000',\n",
       "               '2025-03-01 00:00:00.300000', '2025-03-01 00:00:00.350000',\n",
       "               '2025-03-01 00:00:00.400000', '2025-03-01 00:00:00.450000',\n",
       "               ...\n",
       "               '2025-03-01 23:59:59.550000', '2025-03-01 23:59:59.600000',\n",
       "               '2025-03-01 23:59:59.650000', '2025-03-01 23:59:59.700000',\n",
       "               '2025-03-01 23:59:59.750000', '2025-03-01 23:59:59.800000',\n",
       "               '2025-03-01 23:59:59.850000', '2025-03-01 23:59:59.900000',\n",
       "               '2025-03-01 23:59:59.950000',        '2025-03-02 00:00:00'],\n",
       "              dtype='datetime64[ns]', length=1728001, freq='50ms')"
      ]
     },
     "execution_count": 1,
     "metadata": {},
     "output_type": "execute_result"
    }
   ],
   "source": [
    "import pandas as pd\n",
    "pd.date_range('2025-03-01','2025-03-02',freq='50ms')"
   ]
  },
  {
   "cell_type": "code",
   "execution_count": null,
   "metadata": {},
   "outputs": [
    {
     "name": "stdout",
     "output_type": "stream",
     "text": [
      "{'TS_1_1_1': {'variableName': 'TS', 'originalName': 'Temp, °C (LGR S/N: 20750527, SEN S/N: 20750527, LBL: 5)', 'ignore': False, 'unit': 'deg C', 'dtype': '<f8', 'variableDescription': 'Soil Temperature at 5 cm depth', 'vertical': 1, 'horizontal': 1, 'replicate': 1}, 'TS_2_1_1': {'variableName': 'TS', 'originalName': 'Temp, °C (LGR S/N: 20750527, SEN S/N: 20750527, LBL: 25)', 'ignore': False, 'unit': 'deg C', 'dtype': '<f8', 'variableDescription': 'Soil Temperature at 25 cm depth', 'vertical': 2, 'horizontal': 1, 'replicate': 1}, 'TS_3_1_1': {'variableName': 'TS', 'originalName': 'Temp, °C (LGR S/N: 20750527, SEN S/N: 20750527, LBL: 50)', 'ignore': False, 'unit': 'deg C', 'dtype': '<f8', 'variableDescription': 'Soil Temperature at 50 cm depth', 'vertical': 3, 'horizontal': 1, 'replicate': 1}, 'TS_4_1_1': {'variableName': 'TS', 'originalName': 'Temp, °C (LGR S/N: 20750527, SEN S/N: 20750527, LBL: 100)', 'ignore': False, 'unit': 'deg C', 'dtype': '<f8', 'variableDescription': 'Soil Temperature at 100 cm depth', 'vertical': 4, 'horizontal': 1, 'replicate': 1}}\n"
     ]
    }
   ],
   "source": [
    "# fn\n",
    "import os\n",
    "import rawDataFile as rawDataFile\n",
    "importlib.reload(rawDataFile)\n",
    "# fn = fi['SCL']['TS_Profile-WSM']['c:\\\\Users\\\\jskeeter\\\\gsc-permafrost\\\\SCL_2024']['sourceFiles'][0]\n",
    "# fn = os.path.join('c:\\\\Users\\\\jskeeter\\\\gsc-permafrost\\\\SCL_2024',fn)\n",
    "fn = r'c:\\\\Users\\\\jskeeter\\\\gsc-permafrost\\\\SCL_2024\\\\20240724\\\\20750527-SHSC.WSM.SGT.240720_240724readout.csv'\n",
    "rd = rawDataFile.hoboCSV(projectPath=projectPath,source=fn,siteID='SCL',measurementType='TS_Profile',loggerID='WSM',\n",
    "                         Metadata='test.yml')\n",
    "\n",
    "with open('test.yml','w+') as f:\n",
    "    yaml.safe_dump(rd.Metadata,f,sort_keys=False)"
   ]
  },
  {
   "cell_type": "markdown",
   "metadata": {},
   "source": [
    "# Database"
   ]
  },
  {
   "cell_type": "code",
   "execution_count": null,
   "metadata": {},
   "outputs": [
    {
     "name": "stdout",
     "output_type": "stream",
     "text": [
      "_ {'ignore': True, 'name_in': '#', 'unit_in': None, 'safe_name': '_', 'dtype': '<i8', 'variableDescription': None}\n",
      "Date_Time_GMT_00_00 {'ignore': True, 'name_in': 'Date Time, GMT+00:00', 'unit_in': None, 'safe_name': 'Date_Time_GMT_00_00', 'dtype': '|O', 'variableDescription': None}\n",
      "Temp_C_5cm {'ignore': False, 'name_in': 'Temp, °C (5cm', 'unit_in': None, 'safe_name': 'Temp_C_5cm', 'dtype': '<f8', 'variableDescription': None}\n",
      "Temp_C_25cm {'ignore': False, 'name_in': 'Temp, °C (25cm', 'unit_in': None, 'safe_name': 'Temp_C_25cm', 'dtype': '<f8', 'variableDescription': None}\n",
      "Temp_C_50cm {'ignore': False, 'name_in': 'Temp, °C (50cm', 'unit_in': None, 'safe_name': 'Temp_C_50cm', 'dtype': '<f8', 'variableDescription': None}\n",
      "Temp_C_100cm {'ignore': False, 'name_in': 'Temp, °C (100cm', 'unit_in': None, 'safe_name': 'Temp_C_100cm', 'dtype': '<f8', 'variableDescription': None}\n"
     ]
    },
    {
     "data": {
      "text/plain": [
       "rawDatabaseImport(projectPath='c:\\\\Users\\\\User\\\\GSC_Work\\\\EC_dataPipeline\\\\test', overwrite=False, verbose=True, logFile='Creating Database: 2025-03-01 21:22:42\\n', metadataFile={'defaultFormat': {'data': {'dtype': 'float32', 'info': 'data are stored as 32-bit floating point numbers'}, 'POSIX_timestamp': {'dtype': 'float64', 'timezone': 'UTC', 'info': 'the POSIX_timestamp is stored as a 64-bit floating point number, representing the seconds elapsed since 1970-01-01 00:00 UTC time'}}, 'Date_created': '2025-03-01 21:22:42', 'Last_modified': '2025-03-01 21:22:42'}, measurementID='test', dataIn=                        _ Date_Time_GMT_00_00  Temp_C_5cm  Temp_C_25cm  \\\n",
       "2024-07-20 21:00:00     1   24/07/20 21:00:00       7.217        2.423   \n",
       "2024-07-20 21:30:00     2   24/07/20 21:30:00      11.759        6.712   \n",
       "2024-07-20 22:00:00     3   24/07/20 22:00:00      11.467        5.257   \n",
       "2024-07-20 22:30:00     4   24/07/20 22:30:00      11.029        4.428   \n",
       "2024-07-20 23:00:00     5   24/07/20 23:00:00      10.907        4.011   \n",
       "...                   ...                 ...         ...          ...   \n",
       "2024-09-13 16:00:00  2632   24/09/13 16:00:00       4.869        3.670   \n",
       "2024-09-13 16:30:00  2633   24/09/13 16:30:00       4.869        3.643   \n",
       "2024-09-13 17:00:00  2634   24/09/13 17:00:00       4.869        3.643   \n",
       "2024-09-13 17:30:00  2635   24/09/13 17:30:00       4.895        3.617   \n",
       "2024-09-13 18:00:00  2636   24/09/13 18:00:00       4.921        3.591   \n",
       "\n",
       "                     Temp_C_50cm  Temp_C_100cm  \n",
       "2024-07-20 21:00:00       -0.032        -1.470  \n",
       "2024-07-20 21:30:00       -0.060        -1.470  \n",
       "2024-07-20 22:00:00       -0.060        -1.470  \n",
       "2024-07-20 22:30:00       -0.088        -1.470  \n",
       "2024-07-20 23:00:00       -0.088        -1.470  \n",
       "...                          ...           ...  \n",
       "2024-09-13 16:00:00        0.412        -0.845  \n",
       "2024-09-13 16:30:00        0.412        -0.845  \n",
       "2024-09-13 17:00:00        0.412        -0.845  \n",
       "2024-09-13 17:30:00        0.412        -0.845  \n",
       "2024-09-13 18:00:00        0.412        -0.845  \n",
       "\n",
       "[2634 rows x 6 columns], metadataIn={'verbose': True, 'loggerName': None, 'timeZone': 'UTC', 'frequency': '30min', 'yearfirst': True, 'Variables': {'_': {'ignore': True, 'name_in': '#', 'unit_in': None, 'safe_name': '_', 'dtype': '<i8', 'variableDescription': None}, 'Date_Time_GMT_00_00': {'ignore': True, 'name_in': 'Date Time, GMT+00:00', 'unit_in': None, 'safe_name': 'Date_Time_GMT_00_00', 'dtype': '|O', 'variableDescription': None}, 'Temp_C_5cm': {'ignore': False, 'name_in': 'Temp, °C (5cm', 'unit_in': None, 'safe_name': 'Temp_C_5cm', 'dtype': '<f8', 'variableDescription': None}, 'Temp_C_25cm': {'ignore': False, 'name_in': 'Temp, °C (25cm', 'unit_in': None, 'safe_name': 'Temp_C_25cm', 'dtype': '<f8', 'variableDescription': None}, 'Temp_C_50cm': {'ignore': False, 'name_in': 'Temp, °C (50cm', 'unit_in': None, 'safe_name': 'Temp_C_50cm', 'dtype': '<f8', 'variableDescription': None}, 'Temp_C_100cm': {'ignore': False, 'name_in': 'Temp, °C (100cm', 'unit_in': None, 'safe_name': 'Temp_C_100cm', 'dtype': '<f8', 'variableDescription': None}}}, mode='fill')"
      ]
     },
     "execution_count": 322,
     "metadata": {},
     "output_type": "execute_result"
    }
   ],
   "source": [
    "importlib.reload(ND)\n",
    "\n",
    "# projectPath = os.path.join(os.getcwd(),'test2')\n",
    "# # if os.path.isdir(projectPath):\n",
    "# #     shutil.rmtree(projectPath)\n",
    "\n",
    "# db = pyDB.database(projectPath=projectPath)\n",
    "# # db = pyDB.database(projectPath=projectPath,\n",
    "# #     # siteID=['SCL'],\n",
    "# #     # Years=[str(y) for y in range(2024,2025)],\n",
    "# #     # verbose=False\n",
    "# #     )\n",
    "# # db.\n",
    "n = ND.rawDatabaseImport(projectPath=projectPath,measurementID ='test',dataIn=rd.Data,metadataIn=rd.Metadata)\n",
    "\n",
    "n"
   ]
  },
  {
   "cell_type": "code",
   "execution_count": null,
   "metadata": {},
   "outputs": [
    {
     "name": "stdout",
     "output_type": "stream",
     "text": [
      "{'b', 'y', 'x'}\n",
      "['b', 'x', 'y']\n"
     ]
    }
   ],
   "source": [
    "\n",
    "# siteFields = set(self.__dataclass_fields__) - {f for base in siteRecord.__bases__ if hasattr(base,'__dataclass_fields__') for f in base.__dataclass_fields__}\n",
    "# siteFields = set(self.__dataclass_fields__) - {f for base in origin.__bases__ if hasattr(base,'__dataclass_fields__') for f in base.__dataclass_fields__}\n",
    "\n",
    "\n",
    "def baseFields(self,repr=True,orderd=True):\n",
    "    X = (set(self.__dataclass_fields__) - {f for base in type(self).__bases__ if hasattr(base,'__dataclass_fields__') for f,v in base.__dataclass_fields__.items() if v.repr==repr})\n",
    "    print(X)\n",
    "    print([k for k in self.__dataclass_fields__ if k in X])\n",
    "\n",
    "\n",
    "from dataclasses import dataclass, field\n",
    "@dataclass\n",
    "class A:\n",
    "    b: int = field(default=2,repr=False)\n",
    "    j: int = 1\n",
    "\n",
    "@dataclass\n",
    "class B(A):\n",
    "    x: str = 'a'\n",
    "    b: int = field(default=3,repr=False)\n",
    "    y: str = 'a'\n",
    "\n",
    "baseFields(B())"
   ]
  }
 ],
 "metadata": {
  "kernelspec": {
   "display_name": ".venv",
   "language": "python",
   "name": "python3"
  },
  "language_info": {
   "codemirror_mode": {
    "name": "ipython",
    "version": 3
   },
   "file_extension": ".py",
   "mimetype": "text/x-python",
   "name": "python",
   "nbconvert_exporter": "python",
   "pygments_lexer": "ipython3",
   "version": "3.12.9"
  }
 },
 "nbformat": 4,
 "nbformat_minor": 2
}
