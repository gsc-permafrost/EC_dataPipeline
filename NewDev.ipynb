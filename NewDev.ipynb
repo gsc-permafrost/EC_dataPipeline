{
 "cells": [
  {
   "cell_type": "markdown",
   "metadata": {},
   "source": [
    "# Fresh take\n",
    "\n",
    "## 1. Initalize sites"
   ]
  },
  {
   "cell_type": "code",
   "execution_count": 1,
   "metadata": {},
   "outputs": [],
   "source": [
    "%load_ext autoreload\n",
    "import os\n",
    "import os\n",
    "import shutil\n",
    "import dbPipeline\n",
    "import time\n",
    "from parseFiles.helperFunctions.loadDict import loadDict"
   ]
  },
  {
   "cell_type": "code",
   "execution_count": 2,
   "metadata": {},
   "outputs": [],
   "source": [
    "data_dump = r'U:\\data-dump'"
   ]
  },
  {
   "cell_type": "code",
   "execution_count": null,
   "metadata": {},
   "outputs": [
    {
     "name": "stdout",
     "output_type": "stream",
     "text": [
      "Creating template project inventory\n",
      "None\n",
      "Saving:  c:\\Users\\jskeeter\\gsc-permafrost\\EC_dataPipeline\\test\\Sites\\siteID\\siteID_metadata.yml\n",
      "c:\\Users\\jskeeter\\gsc-permafrost\\EC_dataPipeline\\test\\Sites\\siteID\\measurementID\\sourceFiles.yml\n",
      "\n",
      "does not exist, creating new file using template\n",
      "line 25:\n",
      "{'w*ldcard': {'matchPattern': 'w*ldcard', 'rootPath': None, 'fileList': {}, 'parserSettings': {}}}\n",
      "\n",
      "Saving:  c:\\Users\\jskeeter\\gsc-permafrost\\EC_dataPipeline\\test\\Sites\\siteID\\measurementID\\sourceFiles.yml\n",
      "Saving:  c:\\Users\\jskeeter\\gsc-permafrost\\EC_dataPipeline\\test\\Sites\\siteID\\siteID_metadata.yml\n",
      "Saving:  c:\\Users\\jskeeter\\gsc-permafrost\\EC_dataPipeline\\test\\Sites\\siteID\\measurementID\\sourceFiles.yml\n"
     ]
    }
   ],
   "source": [
    "%autoreload 2\n",
    "projectPath = os.path.join(os.getcwd(),'test')\n",
    "try:\n",
    "    shutil.rmtree(projectPath)\n",
    "except:\n",
    "    pass\n",
    "db = dbPipeline.database(projectPath=projectPath,verbose=True,enableParallel=True)\n",
    "Sites = loadDict(r'example_data\\projectInventory_Template.yml')\n",
    "# print(Sites)\n",
    "\n",
    "db.projectInventory(newSites=Sites)\n",
    "\n",
    "# template = loadDict(r'example_data\\source_Template.yml')\n",
    "\n",
    "# print(template)\n",
    "\n",
    "# siteID,measurementID = 'SCL','Met'\n",
    "\n",
    "# dpath = r'SCL\\2024\\20240912'\n",
    "# template[siteID][measurementID]['rootPath'] = os.path.join(data_dump,dpath)\n",
    "# print(template[siteID][measurementID]['rootPath'])\n",
    "# db.rawFileSearch(siteID,measurementID,template[siteID][measurementID])"
   ]
  },
  {
   "cell_type": "code",
   "execution_count": 14,
   "metadata": {},
   "outputs": [
    {
     "data": {
      "text/plain": [
       "Index(['POSIX_timestamp'], dtype='object')"
      ]
     },
     "execution_count": 14,
     "metadata": {},
     "output_type": "execute_result"
    }
   ],
   "source": [
    "%autoreload 2\n",
    "\n",
    "df = dbPipeline.databaseFolder(path=r'C:\\Users\\jskeeter\\gsc-permafrost\\EC_dataPipeline\\test\\database\\SCL\\Met',Years=[2024])\n",
    "df.dataOut.columns"
   ]
  },
  {
   "cell_type": "code",
   "execution_count": 15,
   "metadata": {},
   "outputs": [
    {
     "ename": "KeyError",
     "evalue": "'SlrW_Avg'",
     "output_type": "error",
     "traceback": [
      "\u001b[31m---------------------------------------------------------------------------\u001b[39m",
      "\u001b[31mKeyError\u001b[39m                                  Traceback (most recent call last)",
      "\u001b[36mFile \u001b[39m\u001b[32mc:\\Users\\jskeeter\\gsc-permafrost\\EC_dataPipeline\\.venv\\Lib\\site-packages\\pandas\\core\\indexes\\base.py:3805\u001b[39m, in \u001b[36mIndex.get_loc\u001b[39m\u001b[34m(self, key)\u001b[39m\n\u001b[32m   3804\u001b[39m \u001b[38;5;28;01mtry\u001b[39;00m:\n\u001b[32m-> \u001b[39m\u001b[32m3805\u001b[39m     \u001b[38;5;28;01mreturn\u001b[39;00m \u001b[38;5;28;43mself\u001b[39;49m\u001b[43m.\u001b[49m\u001b[43m_engine\u001b[49m\u001b[43m.\u001b[49m\u001b[43mget_loc\u001b[49m\u001b[43m(\u001b[49m\u001b[43mcasted_key\u001b[49m\u001b[43m)\u001b[49m\n\u001b[32m   3806\u001b[39m \u001b[38;5;28;01mexcept\u001b[39;00m \u001b[38;5;167;01mKeyError\u001b[39;00m \u001b[38;5;28;01mas\u001b[39;00m err:\n",
      "\u001b[36mFile \u001b[39m\u001b[32mindex.pyx:167\u001b[39m, in \u001b[36mpandas._libs.index.IndexEngine.get_loc\u001b[39m\u001b[34m()\u001b[39m\n",
      "\u001b[36mFile \u001b[39m\u001b[32mindex.pyx:196\u001b[39m, in \u001b[36mpandas._libs.index.IndexEngine.get_loc\u001b[39m\u001b[34m()\u001b[39m\n",
      "\u001b[36mFile \u001b[39m\u001b[32mpandas\\\\_libs\\\\hashtable_class_helper.pxi:7081\u001b[39m, in \u001b[36mpandas._libs.hashtable.PyObjectHashTable.get_item\u001b[39m\u001b[34m()\u001b[39m\n",
      "\u001b[36mFile \u001b[39m\u001b[32mpandas\\\\_libs\\\\hashtable_class_helper.pxi:7089\u001b[39m, in \u001b[36mpandas._libs.hashtable.PyObjectHashTable.get_item\u001b[39m\u001b[34m()\u001b[39m\n",
      "\u001b[31mKeyError\u001b[39m: 'SlrW_Avg'",
      "\nThe above exception was the direct cause of the following exception:\n",
      "\u001b[31mKeyError\u001b[39m                                  Traceback (most recent call last)",
      "\u001b[36mCell\u001b[39m\u001b[36m \u001b[39m\u001b[32mIn[15]\u001b[39m\u001b[32m, line 1\u001b[39m\n\u001b[32m----> \u001b[39m\u001b[32m1\u001b[39m df.dataOut.loc[\u001b[43mdf\u001b[49m\u001b[43m.\u001b[49m\u001b[43mdataOut\u001b[49m\u001b[43m[\u001b[49m\u001b[33;43m'\u001b[39;49m\u001b[33;43mSlrW_Avg\u001b[39;49m\u001b[33;43m'\u001b[39;49m\u001b[43m]\u001b[49m<df.dataOut[\u001b[33m'\u001b[39m\u001b[33mSlrW_Avg\u001b[39m\u001b[33m'\u001b[39m].quantile(\u001b[32m.99\u001b[39m),\u001b[33m'\u001b[39m\u001b[33mSlrW_Avg\u001b[39m\u001b[33m'\u001b[39m].plot()\u001b[38;5;66;03m#.to_csv(r'C:\\Users\\jskeeter\\OneDrive - NRCan RNCan\\Documents\\Presentations\\CANCH4\\Data\\SCL_met.csv')\u001b[39;00m\n",
      "\u001b[36mFile \u001b[39m\u001b[32mc:\\Users\\jskeeter\\gsc-permafrost\\EC_dataPipeline\\.venv\\Lib\\site-packages\\pandas\\core\\frame.py:4102\u001b[39m, in \u001b[36mDataFrame.__getitem__\u001b[39m\u001b[34m(self, key)\u001b[39m\n\u001b[32m   4100\u001b[39m \u001b[38;5;28;01mif\u001b[39;00m \u001b[38;5;28mself\u001b[39m.columns.nlevels > \u001b[32m1\u001b[39m:\n\u001b[32m   4101\u001b[39m     \u001b[38;5;28;01mreturn\u001b[39;00m \u001b[38;5;28mself\u001b[39m._getitem_multilevel(key)\n\u001b[32m-> \u001b[39m\u001b[32m4102\u001b[39m indexer = \u001b[38;5;28;43mself\u001b[39;49m\u001b[43m.\u001b[49m\u001b[43mcolumns\u001b[49m\u001b[43m.\u001b[49m\u001b[43mget_loc\u001b[49m\u001b[43m(\u001b[49m\u001b[43mkey\u001b[49m\u001b[43m)\u001b[49m\n\u001b[32m   4103\u001b[39m \u001b[38;5;28;01mif\u001b[39;00m is_integer(indexer):\n\u001b[32m   4104\u001b[39m     indexer = [indexer]\n",
      "\u001b[36mFile \u001b[39m\u001b[32mc:\\Users\\jskeeter\\gsc-permafrost\\EC_dataPipeline\\.venv\\Lib\\site-packages\\pandas\\core\\indexes\\base.py:3812\u001b[39m, in \u001b[36mIndex.get_loc\u001b[39m\u001b[34m(self, key)\u001b[39m\n\u001b[32m   3807\u001b[39m     \u001b[38;5;28;01mif\u001b[39;00m \u001b[38;5;28misinstance\u001b[39m(casted_key, \u001b[38;5;28mslice\u001b[39m) \u001b[38;5;129;01mor\u001b[39;00m (\n\u001b[32m   3808\u001b[39m         \u001b[38;5;28misinstance\u001b[39m(casted_key, abc.Iterable)\n\u001b[32m   3809\u001b[39m         \u001b[38;5;129;01mand\u001b[39;00m \u001b[38;5;28many\u001b[39m(\u001b[38;5;28misinstance\u001b[39m(x, \u001b[38;5;28mslice\u001b[39m) \u001b[38;5;28;01mfor\u001b[39;00m x \u001b[38;5;129;01min\u001b[39;00m casted_key)\n\u001b[32m   3810\u001b[39m     ):\n\u001b[32m   3811\u001b[39m         \u001b[38;5;28;01mraise\u001b[39;00m InvalidIndexError(key)\n\u001b[32m-> \u001b[39m\u001b[32m3812\u001b[39m     \u001b[38;5;28;01mraise\u001b[39;00m \u001b[38;5;167;01mKeyError\u001b[39;00m(key) \u001b[38;5;28;01mfrom\u001b[39;00m\u001b[38;5;250m \u001b[39m\u001b[34;01merr\u001b[39;00m\n\u001b[32m   3813\u001b[39m \u001b[38;5;28;01mexcept\u001b[39;00m \u001b[38;5;167;01mTypeError\u001b[39;00m:\n\u001b[32m   3814\u001b[39m     \u001b[38;5;66;03m# If we have a listlike key, _check_indexing_error will raise\u001b[39;00m\n\u001b[32m   3815\u001b[39m     \u001b[38;5;66;03m#  InvalidIndexError. Otherwise we fall through and re-raise\u001b[39;00m\n\u001b[32m   3816\u001b[39m     \u001b[38;5;66;03m#  the TypeError.\u001b[39;00m\n\u001b[32m   3817\u001b[39m     \u001b[38;5;28mself\u001b[39m._check_indexing_error(key)\n",
      "\u001b[31mKeyError\u001b[39m: 'SlrW_Avg'"
     ]
    }
   ],
   "source": [
    "df.dataOut.loc[df.dataOut['SlrW_Avg']<df.dataOut['SlrW_Avg'].quantile(.99),'SlrW_Avg'].plot()#.to_csv(r'C:\\Users\\jskeeter\\OneDrive - NRCan RNCan\\Documents\\Presentations\\CANCH4\\Data\\SCL_met.csv')"
   ]
  },
  {
   "cell_type": "code",
   "execution_count": null,
   "metadata": {},
   "outputs": [],
   "source": [
    "from parseFiles.helperFunctions.loadDict import loadDict\n",
    "# importlib.reload(dbPipeline)\n",
    "\n",
    "# db = dbPipeline.database(projectPath=projectPath,verbose=False,enableParallel=False)\n",
    "template = loadDict(r'example_data\\source_Template.yml')\n",
    "# # sourcePath = r'U:\\EC_Backup\\SCL_2024\\20240724'\n",
    "sourcePath = r'example_data'\n",
    "print(template)\n",
    "for siteID in template:\n",
    "    for measurementID in template[siteID]:\n",
    "        db.rawFileSearch(siteID,measurementID,template[siteID][measurementID])"
   ]
  }
 ],
 "metadata": {
  "kernelspec": {
   "display_name": ".venv",
   "language": "python",
   "name": "python3"
  },
  "language_info": {
   "codemirror_mode": {
    "name": "ipython",
    "version": 3
   },
   "file_extension": ".py",
   "mimetype": "text/x-python",
   "name": "python",
   "nbconvert_exporter": "python",
   "pygments_lexer": "ipython3",
   "version": "3.12.9"
  }
 },
 "nbformat": 4,
 "nbformat_minor": 2
}
