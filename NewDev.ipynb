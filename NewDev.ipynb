{
 "cells": [
  {
   "cell_type": "markdown",
   "metadata": {},
   "source": [
    "# Fresh take\n",
    "\n",
    "Trying to get this right.  2024/02/18"
   ]
  },
  {
   "cell_type": "markdown",
   "metadata": {},
   "source": [
    "## Setup an inventory"
   ]
  },
  {
   "cell_type": "code",
   "execution_count": 196,
   "metadata": {},
   "outputs": [
    {
     "data": {
      "text/plain": [
       "siteInventory(siteID='SCL', measurementType=None, loggerID=None)"
      ]
     },
     "execution_count": 196,
     "metadata": {},
     "output_type": "execute_result"
    }
   ],
   "source": [
    "import os\n",
    "import yaml\n",
    "import copy\n",
    "import shutil\n",
    "import numpy as np\n",
    "import pandas as pd\n",
    "import importlib\n",
    "import NewDev as ND\n",
    "import helperFunctions as hf\n",
    "importlib.reload(ND)\n",
    "importlib.reload(hf)\n",
    "                          \n",
    "dbpth = os.path.join(os.getcwd(),'test')\n",
    "try:\n",
    "    shutil.rmtree(dbpth)\n",
    "except:\n",
    "    pass\n",
    "# os.mkdir(dbpth)\n",
    "ND.siteInventory(projectPath=dbpth)\n",
    "ND.siteInventory(projectPath = dbpth,siteID='SCL',description='Swiss Cheese Lake Eddy Covariance Site',\n",
    "                latitude='N 69 13.5850',longitude='W 135 15.1144',\n",
    "                PI = 'June Skeeter, Peter Morse',dateEstablished='2024-07-20')\n",
    "# ND.siteInventory(projectPath = dbpth,siteID='FIL',description='Fish Island Eddy Covariance Site',\n",
    "#                   latitude ='69°22′20.20″N', longitude = '134°52′51.92″W',\n",
    "#                 PI = 'June Skeeter', dateEstablished='2017-06-21')\n",
    "# ND.siteInventory(projectPath = dbpth,siteID='ILL',description='Illisarvik Research Site',\n",
    "#                   latitude ='69°28′047.500\" N', longitude = '34° 50′ 18.700\"W',\n",
    "#                 PI = 'Chris Burn', dateEstablished='1978-08-01')\n",
    "# list(db.siteInventory.siteInventory.keys())[0]\n",
    "\n",
    "\n",
    "# siteFields = set(self.__dataclass_fields__) - {f for base in siteRecord.__bases__ if hasattr(base,'__dataclass_fields__') for f in base.__dataclass_fields__}\n"
   ]
  },
  {
   "cell_type": "code",
   "execution_count": 170,
   "metadata": {},
   "outputs": [],
   "source": [
    "# db._siteInventory(siteID='SCL',measurementID='EC',description='Eddy Covariance Station',\n",
    "                # latitude='N 69 13.5850',longitude='W 135 15.1144',\n",
    "                # PI = 'June Skeeter, Peter Morse',dateEstablished='2024-07-20' )\n",
    "# db._siteInventory(siteID='SCL',measurementID='TS',description='Wet Sedge Meadow',\n",
    "#                   latitude='N 69 13.5521',longitude='W 135 15.1350',overwrite=True)"
   ]
  },
  {
   "cell_type": "markdown",
   "metadata": {},
   "source": [
    "## File Management"
   ]
  },
  {
   "cell_type": "code",
   "execution_count": 195,
   "metadata": {},
   "outputs": [
    {
     "name": "stdout",
     "output_type": "stream",
     "text": [
      "SCL-TS_Profile-SSM\n",
      "0.012539386749267578\n"
     ]
    }
   ],
   "source": [
    "import time\n",
    "import rawDataFile as rd\n",
    "importlib.reload(rd)\n",
    "source = r'..\\SCL_2024'\n",
    "T1 = time.time()\n",
    "\n",
    "t = rd.measurementInventory(projectPath=dbpth,siteID='SCL',measurementType='TS_Profile',loggerID='SSM',fileType='HoboCSV')\n",
    "print(t.ID)\n",
    "# t = rd.measurementInventory(projectPath=dbpth,siteID='SCL',measurementType='TS_Profile',loggerID='WSM',fileType='HoboCSV')\n",
    "# t = rd.fileInventory(projectPath=dbpth,siteID='SCL',ID='TS_Profile-SSM',source=source)\n",
    "# fi = rd.fileInventory(projectPath=dbpth,siteID='SCL',measurementType='TS_Profile',loggerID='WSM',source=source,matchPattern='WSM')\n",
    "# fi = rd.fileInventory(projectPath=dbpth,siteID='SCL',measurementType='TS_Profile',loggerID='SSM',source=source,matchPattern='SSM')\n",
    "# fi = rd.fileInventory(projectPath=dbpth,siteID='SCL',measurementType='Eddy Covariance',loggerID='CR1000x',source=source,matchPattern='Flux',ext='dat')\n",
    "# fi = rd.fileInventory(projectPath=dbpth,siteID='SCL',measurementType='Meteorological',loggerID='CR1000x',source=source,matchPattern='Met_',ext='dat')\n",
    "# fi = rd.fileInventory(projectPath=dbpth,siteID='SCL',measurementType='Metadata',loggerID='CR1000x',source=source,matchPattern='Meta',ext='dat')\n",
    "# print(t.record)\n",
    "print(time.time()-T1)\n"
   ]
  },
  {
   "cell_type": "code",
   "execution_count": 102,
   "metadata": {},
   "outputs": [
    {
     "name": "stdout",
     "output_type": "stream",
     "text": [
      "{'projectPath': Field(name='projectPath',type=<class 'str'>,default=<dataclasses._MISSING_TYPE object at 0x00000227A17821D0>,default_factory=<dataclasses._MISSING_TYPE object at 0x00000227A17821D0>,init=True,repr=False,hash=None,compare=True,metadata=mappingproxy({}),kw_only=True,_field_type=_FIELD), 'overwrite': Field(name='overwrite',type=<class 'bool'>,default=False,default_factory=<dataclasses._MISSING_TYPE object at 0x00000227A17821D0>,init=True,repr=False,hash=None,compare=True,metadata=mappingproxy({}),kw_only=True,_field_type=_FIELD), 'verbose': Field(name='verbose',type=<class 'bool'>,default=True,default_factory=<dataclasses._MISSING_TYPE object at 0x00000227A17821D0>,init=True,repr=False,hash=None,compare=True,metadata=mappingproxy({}),kw_only=True,_field_type=_FIELD), 'metadataFile': Field(name='metadataFile',type=<class 'dict'>,default=<dataclasses._MISSING_TYPE object at 0x00000227A17821D0>,default_factory=<function database.<lambda> at 0x00000227B5DB5940>,init=True,repr=False,hash=None,compare=True,metadata=mappingproxy({}),kw_only=True,_field_type=_FIELD), 'siteID': Field(name='siteID',type=<class 'str'>,default=None,default_factory=<dataclasses._MISSING_TYPE object at 0x00000227A17821D0>,init=True,repr=True,hash=None,compare=True,metadata=mappingproxy({}),kw_only=True,_field_type=_FIELD), 'safeName': Field(name='safeName',type=<class 'bool'>,default=True,default_factory=<dataclasses._MISSING_TYPE object at 0x00000227A17821D0>,init=True,repr=False,hash=None,compare=True,metadata=mappingproxy({}),kw_only=True,_field_type=_FIELD), 'measurementType': Field(name='measurementType',type=<class 'str'>,default=None,default_factory=<dataclasses._MISSING_TYPE object at 0x00000227A17821D0>,init=True,repr=True,hash=None,compare=True,metadata=mappingproxy({}),kw_only=True,_field_type=_FIELD), 'loggerID': Field(name='loggerID',type=<class 'str'>,default=None,default_factory=<dataclasses._MISSING_TYPE object at 0x00000227A17821D0>,init=True,repr=True,hash=None,compare=True,metadata=mappingproxy({}),kw_only=True,_field_type=_FIELD), 'fileType': Field(name='fileType',type=<class 'str'>,default=None,default_factory=<dataclasses._MISSING_TYPE object at 0x00000227A17821D0>,init=True,repr=None,hash=None,compare=True,metadata=mappingproxy({}),kw_only=True,_field_type=_FIELD), 'ID': Field(name='ID',type=<class 'str'>,default=None,default_factory=<dataclasses._MISSING_TYPE object at 0x00000227A17821D0>,init=True,repr=False,hash=None,compare=True,metadata=mappingproxy({}),kw_only=True,_field_type=_FIELD)}\n"
     ]
    }
   ],
   "source": [
    "print(rd.measurementInventory(projectPath=dbpth,siteID='SCL',measurementType='A').__dataclass_fields__)"
   ]
  },
  {
   "cell_type": "code",
   "execution_count": 59,
   "metadata": {},
   "outputs": [
    {
     "data": {
      "text/plain": [
       "[('c', 'd'), ('a', 'b')]"
      ]
     },
     "execution_count": 59,
     "metadata": {},
     "output_type": "execute_result"
    }
   ],
   "source": [
    "d = {'a':'b',\n",
    "     'c':'d'}\n",
    "\n",
    "list(d.items())[::-1]"
   ]
  },
  {
   "cell_type": "code",
   "execution_count": 126,
   "metadata": {},
   "outputs": [
    {
     "name": "stdout",
     "output_type": "stream",
     "text": [
      "{'TS_1_1_1': {'variableName': 'TS', 'originalName': 'Temp, °C (LGR S/N: 20750527, SEN S/N: 20750527, LBL: 5)', 'ignore': False, 'unit': 'deg C', 'dtype': '<f8', 'variableDescription': 'Soil Temperature at 5 cm depth', 'vertical': 1, 'horizontal': 1, 'replicate': 1}, 'TS_2_1_1': {'variableName': 'TS', 'originalName': 'Temp, °C (LGR S/N: 20750527, SEN S/N: 20750527, LBL: 25)', 'ignore': False, 'unit': 'deg C', 'dtype': '<f8', 'variableDescription': 'Soil Temperature at 25 cm depth', 'vertical': 2, 'horizontal': 1, 'replicate': 1}, 'TS_3_1_1': {'variableName': 'TS', 'originalName': 'Temp, °C (LGR S/N: 20750527, SEN S/N: 20750527, LBL: 50)', 'ignore': False, 'unit': 'deg C', 'dtype': '<f8', 'variableDescription': 'Soil Temperature at 50 cm depth', 'vertical': 3, 'horizontal': 1, 'replicate': 1}, 'TS_4_1_1': {'variableName': 'TS', 'originalName': 'Temp, °C (LGR S/N: 20750527, SEN S/N: 20750527, LBL: 100)', 'ignore': False, 'unit': 'deg C', 'dtype': '<f8', 'variableDescription': 'Soil Temperature at 100 cm depth', 'vertical': 4, 'horizontal': 1, 'replicate': 1}}\n"
     ]
    }
   ],
   "source": [
    "# fn\n",
    "import os\n",
    "import rawDataFile as rawDataFile\n",
    "importlib.reload(rawDataFile)\n",
    "# fn = fi['SCL']['TS_Profile-WSM']['c:\\\\Users\\\\jskeeter\\\\gsc-permafrost\\\\SCL_2024']['sourceFiles'][0]\n",
    "# fn = os.path.join('c:\\\\Users\\\\jskeeter\\\\gsc-permafrost\\\\SCL_2024',fn)\n",
    "fn = r'c:\\\\Users\\\\jskeeter\\\\gsc-permafrost\\\\SCL_2024\\\\20240724\\\\20750527-SHSC.WSM.SGT.240720_240724readout.csv'\n",
    "rd = rawDataFile.hoboCSV(projectPath=dbpth,source=fn,siteID='SCL',measurementType='TS_Profile',loggerID='WSM',\n",
    "                         Metadata='test.yml')\n",
    "\n",
    "with open('test.yml','w+') as f:\n",
    "    yaml.safe_dump(rd.Metadata,f,sort_keys=False)"
   ]
  },
  {
   "cell_type": "markdown",
   "metadata": {},
   "source": [
    "# Database"
   ]
  },
  {
   "cell_type": "code",
   "execution_count": 322,
   "metadata": {},
   "outputs": [
    {
     "name": "stdout",
     "output_type": "stream",
     "text": [
      "_ {'ignore': True, 'name_in': '#', 'unit_in': None, 'safe_name': '_', 'dtype': '<i8', 'variableDescription': None}\n",
      "Date_Time_GMT_00_00 {'ignore': True, 'name_in': 'Date Time, GMT+00:00', 'unit_in': None, 'safe_name': 'Date_Time_GMT_00_00', 'dtype': '|O', 'variableDescription': None}\n",
      "Temp_C_5cm {'ignore': False, 'name_in': 'Temp, °C (5cm', 'unit_in': None, 'safe_name': 'Temp_C_5cm', 'dtype': '<f8', 'variableDescription': None}\n",
      "Temp_C_25cm {'ignore': False, 'name_in': 'Temp, °C (25cm', 'unit_in': None, 'safe_name': 'Temp_C_25cm', 'dtype': '<f8', 'variableDescription': None}\n",
      "Temp_C_50cm {'ignore': False, 'name_in': 'Temp, °C (50cm', 'unit_in': None, 'safe_name': 'Temp_C_50cm', 'dtype': '<f8', 'variableDescription': None}\n",
      "Temp_C_100cm {'ignore': False, 'name_in': 'Temp, °C (100cm', 'unit_in': None, 'safe_name': 'Temp_C_100cm', 'dtype': '<f8', 'variableDescription': None}\n"
     ]
    },
    {
     "data": {
      "text/plain": [
       "rawDatabaseImport(projectPath='c:\\\\Users\\\\User\\\\GSC_Work\\\\EC_dataPipeline\\\\test', overwrite=False, verbose=True, logFile='Creating Database: 2025-03-01 21:22:42\\n', metadataFile={'defaultFormat': {'data': {'dtype': 'float32', 'info': 'data are stored as 32-bit floating point numbers'}, 'POSIX_timestamp': {'dtype': 'float64', 'timezone': 'UTC', 'info': 'the POSIX_timestamp is stored as a 64-bit floating point number, representing the seconds elapsed since 1970-01-01 00:00 UTC time'}}, 'Date_created': '2025-03-01 21:22:42', 'Last_modified': '2025-03-01 21:22:42'}, measurementID='test', dataIn=                        _ Date_Time_GMT_00_00  Temp_C_5cm  Temp_C_25cm  \\\n",
       "2024-07-20 21:00:00     1   24/07/20 21:00:00       7.217        2.423   \n",
       "2024-07-20 21:30:00     2   24/07/20 21:30:00      11.759        6.712   \n",
       "2024-07-20 22:00:00     3   24/07/20 22:00:00      11.467        5.257   \n",
       "2024-07-20 22:30:00     4   24/07/20 22:30:00      11.029        4.428   \n",
       "2024-07-20 23:00:00     5   24/07/20 23:00:00      10.907        4.011   \n",
       "...                   ...                 ...         ...          ...   \n",
       "2024-09-13 16:00:00  2632   24/09/13 16:00:00       4.869        3.670   \n",
       "2024-09-13 16:30:00  2633   24/09/13 16:30:00       4.869        3.643   \n",
       "2024-09-13 17:00:00  2634   24/09/13 17:00:00       4.869        3.643   \n",
       "2024-09-13 17:30:00  2635   24/09/13 17:30:00       4.895        3.617   \n",
       "2024-09-13 18:00:00  2636   24/09/13 18:00:00       4.921        3.591   \n",
       "\n",
       "                     Temp_C_50cm  Temp_C_100cm  \n",
       "2024-07-20 21:00:00       -0.032        -1.470  \n",
       "2024-07-20 21:30:00       -0.060        -1.470  \n",
       "2024-07-20 22:00:00       -0.060        -1.470  \n",
       "2024-07-20 22:30:00       -0.088        -1.470  \n",
       "2024-07-20 23:00:00       -0.088        -1.470  \n",
       "...                          ...           ...  \n",
       "2024-09-13 16:00:00        0.412        -0.845  \n",
       "2024-09-13 16:30:00        0.412        -0.845  \n",
       "2024-09-13 17:00:00        0.412        -0.845  \n",
       "2024-09-13 17:30:00        0.412        -0.845  \n",
       "2024-09-13 18:00:00        0.412        -0.845  \n",
       "\n",
       "[2634 rows x 6 columns], metadataIn={'verbose': True, 'loggerName': None, 'timeZone': 'UTC', 'frequency': '30min', 'yearfirst': True, 'Variables': {'_': {'ignore': True, 'name_in': '#', 'unit_in': None, 'safe_name': '_', 'dtype': '<i8', 'variableDescription': None}, 'Date_Time_GMT_00_00': {'ignore': True, 'name_in': 'Date Time, GMT+00:00', 'unit_in': None, 'safe_name': 'Date_Time_GMT_00_00', 'dtype': '|O', 'variableDescription': None}, 'Temp_C_5cm': {'ignore': False, 'name_in': 'Temp, °C (5cm', 'unit_in': None, 'safe_name': 'Temp_C_5cm', 'dtype': '<f8', 'variableDescription': None}, 'Temp_C_25cm': {'ignore': False, 'name_in': 'Temp, °C (25cm', 'unit_in': None, 'safe_name': 'Temp_C_25cm', 'dtype': '<f8', 'variableDescription': None}, 'Temp_C_50cm': {'ignore': False, 'name_in': 'Temp, °C (50cm', 'unit_in': None, 'safe_name': 'Temp_C_50cm', 'dtype': '<f8', 'variableDescription': None}, 'Temp_C_100cm': {'ignore': False, 'name_in': 'Temp, °C (100cm', 'unit_in': None, 'safe_name': 'Temp_C_100cm', 'dtype': '<f8', 'variableDescription': None}}}, mode='fill')"
      ]
     },
     "execution_count": 322,
     "metadata": {},
     "output_type": "execute_result"
    }
   ],
   "source": [
    "importlib.reload(ND)\n",
    "\n",
    "# dbpth = os.path.join(os.getcwd(),'test2')\n",
    "# # if os.path.isdir(dbpth):\n",
    "# #     shutil.rmtree(dbpth)\n",
    "\n",
    "# db = pyDB.database(projectPath=dbpth)\n",
    "# # db = pyDB.database(projectPath=dbpth,\n",
    "# #     # siteID=['SCL'],\n",
    "# #     # Years=[str(y) for y in range(2024,2025)],\n",
    "# #     # verbose=False\n",
    "# #     )\n",
    "# # db.\n",
    "n = ND.rawDatabaseImport(projectPath=dbpth,measurementID ='test',dataIn=rd.Data,metadataIn=rd.Metadata)\n",
    "\n",
    "n"
   ]
  },
  {
   "cell_type": "code",
   "execution_count": 61,
   "metadata": {},
   "outputs": [
    {
     "ename": "ValueError",
     "evalue": "not enough values to unpack (expected 2, got 1)",
     "output_type": "error",
     "traceback": [
      "\u001b[1;31m---------------------------------------------------------------------------\u001b[0m",
      "\u001b[1;31mValueError\u001b[0m                                Traceback (most recent call last)",
      "Cell \u001b[1;32mIn[61], line 1\u001b[0m\n\u001b[1;32m----> 1\u001b[0m siteID,subsiteID\u001b[38;5;241m=\u001b[39m\u001b[38;5;124m'\u001b[39m\u001b[38;5;124ma\u001b[39m\u001b[38;5;124m'\u001b[39m\u001b[38;5;241m.\u001b[39msplit(\u001b[38;5;124m'\u001b[39m\u001b[38;5;124m-\u001b[39m\u001b[38;5;124m'\u001b[39m,\u001b[38;5;241m1\u001b[39m)\n",
      "\u001b[1;31mValueError\u001b[0m: not enough values to unpack (expected 2, got 1)"
     ]
    }
   ],
   "source": [
    "siteID,subsiteID='a'.split('-',1)"
   ]
  },
  {
   "cell_type": "code",
   "execution_count": 82,
   "metadata": {},
   "outputs": [
    {
     "name": "stdout",
     "output_type": "stream",
     "text": [
      "[<class '__main__.T3'>, <class '__main__.T1'>, <class '__main__.T2'>, <class 'object'>]\n",
      "T3(b='1', a='1', c='1', d='d')\n"
     ]
    }
   ],
   "source": [
    "from dataclasses import dataclass, fields\n",
    "\n",
    "@dataclass\n",
    "class T1:\n",
    "    a: str = \"1\"\n",
    "\n",
    "@dataclass\n",
    "class T2:\n",
    "    b: str = \"1\"\n",
    "\n",
    "@dataclass\n",
    "class T3(T1, T2):\n",
    "    c: str = \"1\"\n",
    "    d: str = \"d\"\n",
    "\n",
    "print(type(T3()).mro())\n",
    "print(T3())\n",
    "\n"
   ]
  }
 ],
 "metadata": {
  "kernelspec": {
   "display_name": "Python 3",
   "language": "python",
   "name": "python3"
  },
  "language_info": {
   "codemirror_mode": {
    "name": "ipython",
    "version": 3
   },
   "file_extension": ".py",
   "mimetype": "text/x-python",
   "name": "python",
   "nbconvert_exporter": "python",
   "pygments_lexer": "ipython3",
   "version": "3.11.5"
  }
 },
 "nbformat": 4,
 "nbformat_minor": 2
}
