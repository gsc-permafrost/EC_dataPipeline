{
 "cells": [
  {
   "cell_type": "markdown",
   "metadata": {},
   "source": [
    "# Fresh take\n",
    "\n",
    "Trying to get this right.  2024/02/18"
   ]
  },
  {
   "cell_type": "markdown",
   "metadata": {},
   "source": [
    "## Setup an inventory"
   ]
  },
  {
   "cell_type": "code",
   "execution_count": 381,
   "metadata": {},
   "outputs": [
    {
     "data": {
      "text/plain": [
       "{'SCL-.site-1': {'siteID': 'SCL',\n",
       "  'measurementID': '.site',\n",
       "  'replicateID': 1,\n",
       "  'description': 'Swiss Cheese Lake Eddy Covariance Station',\n",
       "  'name': None,\n",
       "  'PI': 'June Skeeter, Peter Morse',\n",
       "  'dateEstablished': '2024-07-20',\n",
       "  'landCoverType': None,\n",
       "  'longitude': -135.2519067,\n",
       "  'latitude': 69.2264167}}"
      ]
     },
     "execution_count": 381,
     "metadata": {},
     "output_type": "execute_result"
    }
   ],
   "source": [
    "import os\n",
    "import yaml\n",
    "import copy\n",
    "import shutil\n",
    "import numpy as np\n",
    "import pandas as pd\n",
    "import importlib\n",
    "import NewDev as ND\n",
    "import helperFunctions as hf\n",
    "importlib.reload(ND)\n",
    "importlib.reload(hf)\n",
    "                          \n",
    "dbpth = os.path.join(os.getcwd(),'test')\n",
    "shutil.rmtree(dbpth)\n",
    "os.mkdir(dbpth)\n",
    "\n",
    "# db = ND.database(dbpth,verbose=True)\n",
    "\n",
    "ND.site(siteID='SCL',description='Swiss Cheese Lake Eddy Covariance Station',\n",
    "                latitude='N 69 13.5850',longitude='W 135 15.1144',\n",
    "                PI = 'June Skeeter, Peter Morse',dateEstablished='2024-07-20').entry\n",
    "# db._siteInventory(siteID='SCL',measurementID='TS',description='Salix Sedge Meadow',\n",
    "#                   latitude='N 69 13.5239',longitude='W 135 15.1358')\n",
    "# db._siteInventory(siteID='SCL',measurementID='TS',description='Wet Sedge Meadow',\n",
    "#                   latitude='N 69 13.5521',longitude='W 135 15.1350',overwrite=True)\n",
    "\n",
    "# db.siteInventory.siteInventory\n"
   ]
  },
  {
   "cell_type": "markdown",
   "metadata": {},
   "source": [
    "## File Management"
   ]
  },
  {
   "cell_type": "code",
   "execution_count": 352,
   "metadata": {},
   "outputs": [],
   "source": [
    "\n",
    "source = r'..\\SCL_2024'\n",
    "# print(source)\n",
    "for dir,_,files in os.walk(source):\n",
    "    # print(dir)\n",
    "    for f in files:\n",
    "        if f.endswith('.csv'):\n",
    "            file = os.path.join(dir,f)\n",
    "            for key in ['WSM']:\n",
    "                if key in file:\n",
    "                    fn = file"
   ]
  },
  {
   "cell_type": "code",
   "execution_count": 363,
   "metadata": {},
   "outputs": [
    {
     "data": {
      "text/plain": [
       "{'verbose': False,\n",
       " 'loggerName': None,\n",
       " 'timeZone': 'UTC',\n",
       " 'frequency': '30min',\n",
       " 'yearfirst': True,\n",
       " 'Variables': {'_': {'siteID': '.example',\n",
       "   'measurementID': '.site',\n",
       "   'replicateID': 1,\n",
       "   'description': None,\n",
       "   'name': None,\n",
       "   'PI': None,\n",
       "   'dateEstablished': None,\n",
       "   'landCoverType': None,\n",
       "   'longitude': None,\n",
       "   'latitude': None,\n",
       "   'ignore': True,\n",
       "   'originalName': '#',\n",
       "   'unit': None,\n",
       "   'dtype': '<i8',\n",
       "   'variableDescription': None,\n",
       "   'V': None,\n",
       "   'H': None,\n",
       "   'R': None,\n",
       "   'variableID': '_'},\n",
       "  'Date_Time_GMT_00_00': {'siteID': '.example',\n",
       "   'measurementID': '.site',\n",
       "   'replicateID': 1,\n",
       "   'description': None,\n",
       "   'name': None,\n",
       "   'PI': None,\n",
       "   'dateEstablished': None,\n",
       "   'landCoverType': None,\n",
       "   'longitude': None,\n",
       "   'latitude': None,\n",
       "   'ignore': True,\n",
       "   'originalName': 'Date Time, GMT+00:00',\n",
       "   'unit': None,\n",
       "   'dtype': '|O',\n",
       "   'variableDescription': None,\n",
       "   'V': None,\n",
       "   'H': None,\n",
       "   'R': None,\n",
       "   'variableID': 'Date_Time_GMT_00_00'},\n",
       "  'Temp_C_5cm': {'siteID': '.example',\n",
       "   'measurementID': '.site',\n",
       "   'replicateID': 1,\n",
       "   'description': None,\n",
       "   'name': None,\n",
       "   'PI': None,\n",
       "   'dateEstablished': None,\n",
       "   'landCoverType': None,\n",
       "   'longitude': None,\n",
       "   'latitude': None,\n",
       "   'ignore': False,\n",
       "   'originalName': 'Temp, °C (5cm',\n",
       "   'unit': None,\n",
       "   'dtype': '<f8',\n",
       "   'variableDescription': None,\n",
       "   'V': None,\n",
       "   'H': None,\n",
       "   'R': None,\n",
       "   'variableID': 'Temp_C_5cm'},\n",
       "  'Temp_C_25cm': {'siteID': '.example',\n",
       "   'measurementID': '.site',\n",
       "   'replicateID': 1,\n",
       "   'description': None,\n",
       "   'name': None,\n",
       "   'PI': None,\n",
       "   'dateEstablished': None,\n",
       "   'landCoverType': None,\n",
       "   'longitude': None,\n",
       "   'latitude': None,\n",
       "   'ignore': False,\n",
       "   'originalName': 'Temp, °C (25cm',\n",
       "   'unit': None,\n",
       "   'dtype': '<f8',\n",
       "   'variableDescription': None,\n",
       "   'V': None,\n",
       "   'H': None,\n",
       "   'R': None,\n",
       "   'variableID': 'Temp_C_25cm'},\n",
       "  'Temp_C_50cm': {'siteID': '.example',\n",
       "   'measurementID': '.site',\n",
       "   'replicateID': 1,\n",
       "   'description': None,\n",
       "   'name': None,\n",
       "   'PI': None,\n",
       "   'dateEstablished': None,\n",
       "   'landCoverType': None,\n",
       "   'longitude': None,\n",
       "   'latitude': None,\n",
       "   'ignore': False,\n",
       "   'originalName': 'Temp, °C (50cm',\n",
       "   'unit': None,\n",
       "   'dtype': '<f8',\n",
       "   'variableDescription': None,\n",
       "   'V': None,\n",
       "   'H': None,\n",
       "   'R': None,\n",
       "   'variableID': 'Temp_C_50cm'},\n",
       "  'Temp_C_100cm': {'siteID': '.example',\n",
       "   'measurementID': '.site',\n",
       "   'replicateID': 1,\n",
       "   'description': None,\n",
       "   'name': None,\n",
       "   'PI': None,\n",
       "   'dateEstablished': None,\n",
       "   'landCoverType': None,\n",
       "   'longitude': None,\n",
       "   'latitude': None,\n",
       "   'ignore': False,\n",
       "   'originalName': 'Temp, °C (100cm',\n",
       "   'unit': None,\n",
       "   'dtype': '<f8',\n",
       "   'variableDescription': None,\n",
       "   'V': None,\n",
       "   'H': None,\n",
       "   'R': None,\n",
       "   'variableID': 'Temp_C_100cm'}}}"
      ]
     },
     "execution_count": 363,
     "metadata": {},
     "output_type": "execute_result"
    }
   ],
   "source": [
    "# fn\n",
    "\n",
    "import rawDataFile as rawDataFile\n",
    "importlib.reload(rawDataFile)\n",
    "\n",
    "rd = rawDataFile.hoboCSV(source=fn,verbose=False,excludePattern={r\"LGR(.*?)LBL: \":'',\n",
    "                                                   r'\\)':'cm'})\n",
    "rd.Metadata"
   ]
  },
  {
   "cell_type": "markdown",
   "metadata": {},
   "source": [
    "# Database"
   ]
  },
  {
   "cell_type": "code",
   "execution_count": 322,
   "metadata": {},
   "outputs": [
    {
     "name": "stdout",
     "output_type": "stream",
     "text": [
      "_ {'ignore': True, 'name_in': '#', 'unit_in': None, 'safe_name': '_', 'dtype': '<i8', 'variableDescription': None}\n",
      "Date_Time_GMT_00_00 {'ignore': True, 'name_in': 'Date Time, GMT+00:00', 'unit_in': None, 'safe_name': 'Date_Time_GMT_00_00', 'dtype': '|O', 'variableDescription': None}\n",
      "Temp_C_5cm {'ignore': False, 'name_in': 'Temp, °C (5cm', 'unit_in': None, 'safe_name': 'Temp_C_5cm', 'dtype': '<f8', 'variableDescription': None}\n",
      "Temp_C_25cm {'ignore': False, 'name_in': 'Temp, °C (25cm', 'unit_in': None, 'safe_name': 'Temp_C_25cm', 'dtype': '<f8', 'variableDescription': None}\n",
      "Temp_C_50cm {'ignore': False, 'name_in': 'Temp, °C (50cm', 'unit_in': None, 'safe_name': 'Temp_C_50cm', 'dtype': '<f8', 'variableDescription': None}\n",
      "Temp_C_100cm {'ignore': False, 'name_in': 'Temp, °C (100cm', 'unit_in': None, 'safe_name': 'Temp_C_100cm', 'dtype': '<f8', 'variableDescription': None}\n"
     ]
    },
    {
     "data": {
      "text/plain": [
       "rawDatabaseImport(projectPath='c:\\\\Users\\\\User\\\\GSC_Work\\\\EC_dataPipeline\\\\test', overwrite=False, verbose=True, logFile='Creating Database: 2025-03-01 21:22:42\\n', metadataFile={'defaultFormat': {'data': {'dtype': 'float32', 'info': 'data are stored as 32-bit floating point numbers'}, 'POSIX_timestamp': {'dtype': 'float64', 'timezone': 'UTC', 'info': 'the POSIX_timestamp is stored as a 64-bit floating point number, representing the seconds elapsed since 1970-01-01 00:00 UTC time'}}, 'Date_created': '2025-03-01 21:22:42', 'Last_modified': '2025-03-01 21:22:42'}, measurementID='test', dataIn=                        _ Date_Time_GMT_00_00  Temp_C_5cm  Temp_C_25cm  \\\n",
       "2024-07-20 21:00:00     1   24/07/20 21:00:00       7.217        2.423   \n",
       "2024-07-20 21:30:00     2   24/07/20 21:30:00      11.759        6.712   \n",
       "2024-07-20 22:00:00     3   24/07/20 22:00:00      11.467        5.257   \n",
       "2024-07-20 22:30:00     4   24/07/20 22:30:00      11.029        4.428   \n",
       "2024-07-20 23:00:00     5   24/07/20 23:00:00      10.907        4.011   \n",
       "...                   ...                 ...         ...          ...   \n",
       "2024-09-13 16:00:00  2632   24/09/13 16:00:00       4.869        3.670   \n",
       "2024-09-13 16:30:00  2633   24/09/13 16:30:00       4.869        3.643   \n",
       "2024-09-13 17:00:00  2634   24/09/13 17:00:00       4.869        3.643   \n",
       "2024-09-13 17:30:00  2635   24/09/13 17:30:00       4.895        3.617   \n",
       "2024-09-13 18:00:00  2636   24/09/13 18:00:00       4.921        3.591   \n",
       "\n",
       "                     Temp_C_50cm  Temp_C_100cm  \n",
       "2024-07-20 21:00:00       -0.032        -1.470  \n",
       "2024-07-20 21:30:00       -0.060        -1.470  \n",
       "2024-07-20 22:00:00       -0.060        -1.470  \n",
       "2024-07-20 22:30:00       -0.088        -1.470  \n",
       "2024-07-20 23:00:00       -0.088        -1.470  \n",
       "...                          ...           ...  \n",
       "2024-09-13 16:00:00        0.412        -0.845  \n",
       "2024-09-13 16:30:00        0.412        -0.845  \n",
       "2024-09-13 17:00:00        0.412        -0.845  \n",
       "2024-09-13 17:30:00        0.412        -0.845  \n",
       "2024-09-13 18:00:00        0.412        -0.845  \n",
       "\n",
       "[2634 rows x 6 columns], metadataIn={'verbose': True, 'loggerName': None, 'timeZone': 'UTC', 'frequency': '30min', 'yearfirst': True, 'Variables': {'_': {'ignore': True, 'name_in': '#', 'unit_in': None, 'safe_name': '_', 'dtype': '<i8', 'variableDescription': None}, 'Date_Time_GMT_00_00': {'ignore': True, 'name_in': 'Date Time, GMT+00:00', 'unit_in': None, 'safe_name': 'Date_Time_GMT_00_00', 'dtype': '|O', 'variableDescription': None}, 'Temp_C_5cm': {'ignore': False, 'name_in': 'Temp, °C (5cm', 'unit_in': None, 'safe_name': 'Temp_C_5cm', 'dtype': '<f8', 'variableDescription': None}, 'Temp_C_25cm': {'ignore': False, 'name_in': 'Temp, °C (25cm', 'unit_in': None, 'safe_name': 'Temp_C_25cm', 'dtype': '<f8', 'variableDescription': None}, 'Temp_C_50cm': {'ignore': False, 'name_in': 'Temp, °C (50cm', 'unit_in': None, 'safe_name': 'Temp_C_50cm', 'dtype': '<f8', 'variableDescription': None}, 'Temp_C_100cm': {'ignore': False, 'name_in': 'Temp, °C (100cm', 'unit_in': None, 'safe_name': 'Temp_C_100cm', 'dtype': '<f8', 'variableDescription': None}}}, mode='fill')"
      ]
     },
     "execution_count": 322,
     "metadata": {},
     "output_type": "execute_result"
    }
   ],
   "source": [
    "importlib.reload(ND)\n",
    "\n",
    "# dbpth = os.path.join(os.getcwd(),'test2')\n",
    "# # if os.path.isdir(dbpth):\n",
    "# #     shutil.rmtree(dbpth)\n",
    "\n",
    "# db = pyDB.database(projectPath=dbpth)\n",
    "# # db = pyDB.database(projectPath=dbpth,\n",
    "# #     # siteID=['SCL'],\n",
    "# #     # Years=[str(y) for y in range(2024,2025)],\n",
    "# #     # verbose=False\n",
    "# #     )\n",
    "# # db.\n",
    "n = ND.rawDatabaseImport(projectPath=dbpth,measurementID ='test',dataIn=rd.Data,metadataIn=rd.Metadata)\n",
    "\n",
    "n"
   ]
  },
  {
   "cell_type": "code",
   "execution_count": 61,
   "metadata": {},
   "outputs": [
    {
     "ename": "ValueError",
     "evalue": "not enough values to unpack (expected 2, got 1)",
     "output_type": "error",
     "traceback": [
      "\u001b[1;31m---------------------------------------------------------------------------\u001b[0m",
      "\u001b[1;31mValueError\u001b[0m                                Traceback (most recent call last)",
      "Cell \u001b[1;32mIn[61], line 1\u001b[0m\n\u001b[1;32m----> 1\u001b[0m siteID,subsiteID\u001b[38;5;241m=\u001b[39m\u001b[38;5;124m'\u001b[39m\u001b[38;5;124ma\u001b[39m\u001b[38;5;124m'\u001b[39m\u001b[38;5;241m.\u001b[39msplit(\u001b[38;5;124m'\u001b[39m\u001b[38;5;124m-\u001b[39m\u001b[38;5;124m'\u001b[39m,\u001b[38;5;241m1\u001b[39m)\n",
      "\u001b[1;31mValueError\u001b[0m: not enough values to unpack (expected 2, got 1)"
     ]
    }
   ],
   "source": [
    "siteID,subsiteID='a'.split('-',1)"
   ]
  },
  {
   "cell_type": "code",
   "execution_count": null,
   "metadata": {},
   "outputs": [],
   "source": []
  }
 ],
 "metadata": {
  "kernelspec": {
   "display_name": "Python 3",
   "language": "python",
   "name": "python3"
  },
  "language_info": {
   "codemirror_mode": {
    "name": "ipython",
    "version": 3
   },
   "file_extension": ".py",
   "mimetype": "text/x-python",
   "name": "python",
   "nbconvert_exporter": "python",
   "pygments_lexer": "ipython3",
   "version": "3.11.5"
  }
 },
 "nbformat": 4,
 "nbformat_minor": 2
}
