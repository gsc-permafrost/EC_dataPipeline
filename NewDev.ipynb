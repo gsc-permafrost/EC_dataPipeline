{
 "cells": [
  {
   "cell_type": "markdown",
   "metadata": {},
   "source": [
    "# Fresh take\n",
    "\n",
    "## 1. Initalize sites"
   ]
  },
  {
   "cell_type": "code",
   "execution_count": 2,
   "metadata": {},
   "outputs": [],
   "source": [
    "%load_ext autoreload\n",
    "import os\n",
    "import os\n",
    "import shutil\n",
    "import dbPipeline\n",
    "import time\n",
    "from parseFiles.helperFunctions.loadDict import loadDict"
   ]
  },
  {
   "cell_type": "code",
   "execution_count": 3,
   "metadata": {},
   "outputs": [],
   "source": [
    "data_dump = r'U:\\data-dump\\SCL'"
   ]
  },
  {
   "cell_type": "code",
   "execution_count": null,
   "metadata": {},
   "outputs": [
    {
     "name": "stdout",
     "output_type": "stream",
     "text": [
      "Saving:  c:\\Users\\jskeeter\\gsc-permafrost\\EC_dataPipeline\\test\\Sites\\_TMP\\_TMP_metadata.yml\n",
      "c:\\Users\\jskeeter\\gsc-permafrost\\EC_dataPipeline\\test\\Sites\\_TMP\\_TMP\\sourceFiles.yml\n",
      "\n",
      "does not exist, creating new file using template\n",
      "line 25:\n",
      "{'w*ldcard': {'matchPattern': 'w*ldcard', 'rootPath': None, 'fileList': {}, 'parserSettings': {}}}\n",
      "\n",
      "Saving:  c:\\Users\\jskeeter\\gsc-permafrost\\EC_dataPipeline\\test\\Sites\\_TMP\\_TMP\\sourceFiles.yml\n",
      "Saving:  c:\\Users\\jskeeter\\gsc-permafrost\\EC_dataPipeline\\test\\Sites\\_TMP\\_TMP_metadata.yml\n",
      "Saving:  c:\\Users\\jskeeter\\gsc-permafrost\\EC_dataPipeline\\test\\Sites\\_TMP\\_TMP\\sourceFiles.yml\n",
      "Saving:  c:\\Users\\jskeeter\\gsc-permafrost\\EC_dataPipeline\\test\\Sites\\_TMP\\_TMP_metadata.yml\n",
      "Saving:  c:\\Users\\jskeeter\\gsc-permafrost\\EC_dataPipeline\\test\\Sites\\_TMP\\_TMP\\sourceFiles.yml\n",
      "Saving:  c:\\Users\\jskeeter\\gsc-permafrost\\EC_dataPipeline\\test\\Sites\\_TMP\\_TMP_metadata.yml\n",
      "Saving:  c:\\Users\\jskeeter\\gsc-permafrost\\EC_dataPipeline\\test\\Sites\\_TMP\\_TMP\\sourceFiles.yml\n",
      "Saving:  c:\\Users\\jskeeter\\gsc-permafrost\\EC_dataPipeline\\test\\Sites\\SCL\\SCL_metadata.yml\n",
      "c:\\Users\\jskeeter\\gsc-permafrost\\EC_dataPipeline\\test\\Sites\\SCL\\Flux\\sourceFiles.yml\n",
      "\n",
      "does not exist, creating new file using template\n",
      "line 25:\n",
      "{'w*ldcard': {'matchPattern': 'w*ldcard', 'rootPath': None, 'fileList': {}, 'parserSettings': {}}}\n",
      "\n",
      "Saving:  c:\\Users\\jskeeter\\gsc-permafrost\\EC_dataPipeline\\test\\Sites\\SCL\\SCL_metadata.yml\n",
      "Saving:  c:\\Users\\jskeeter\\gsc-permafrost\\EC_dataPipeline\\test\\Sites\\SCL\\Flux\\sourceFiles.yml\n",
      "c:\\Users\\jskeeter\\gsc-permafrost\\EC_dataPipeline\\test\\Sites\\SCL\\Met\\sourceFiles.yml\n",
      "\n",
      "does not exist, creating new file using template\n",
      "line 25:\n",
      "{'w*ldcard': {'matchPattern': 'w*ldcard', 'rootPath': None, 'fileList': {}, 'parserSettings': {}}}\n",
      "\n",
      "Saving:  c:\\Users\\jskeeter\\gsc-permafrost\\EC_dataPipeline\\test\\Sites\\SCL\\Met\\sourceFiles.yml\n",
      "Saving:  c:\\Users\\jskeeter\\gsc-permafrost\\EC_dataPipeline\\test\\Sites\\SCL\\SCL_metadata.yml\n",
      "Saving:  c:\\Users\\jskeeter\\gsc-permafrost\\EC_dataPipeline\\test\\Sites\\SCL\\Met\\sourceFiles.yml\n",
      "c:\\Users\\jskeeter\\gsc-permafrost\\EC_dataPipeline\\test\\Sites\\SCL\\Metadata\\sourceFiles.yml\n",
      "\n",
      "does not exist, creating new file using template\n",
      "line 25:\n",
      "{'w*ldcard': {'matchPattern': 'w*ldcard', 'rootPath': None, 'fileList': {}, 'parserSettings': {}}}\n",
      "\n",
      "Saving:  c:\\Users\\jskeeter\\gsc-permafrost\\EC_dataPipeline\\test\\Sites\\SCL\\Metadata\\sourceFiles.yml\n",
      "Saving:  c:\\Users\\jskeeter\\gsc-permafrost\\EC_dataPipeline\\test\\Sites\\SCL\\SCL_metadata.yml\n",
      "Saving:  c:\\Users\\jskeeter\\gsc-permafrost\\EC_dataPipeline\\test\\Sites\\SCL\\Metadata\\sourceFiles.yml\n",
      "c:\\Users\\jskeeter\\gsc-permafrost\\EC_dataPipeline\\test\\Sites\\SCL\\SSM_Profile\\sourceFiles.yml\n",
      "\n",
      "does not exist, creating new file using template\n",
      "line 25:\n",
      "{'w*ldcard': {'matchPattern': 'w*ldcard', 'rootPath': None, 'fileList': {}, 'parserSettings': {}}}\n",
      "\n",
      "Saving:  c:\\Users\\jskeeter\\gsc-permafrost\\EC_dataPipeline\\test\\Sites\\SCL\\SSM_Profile\\sourceFiles.yml\n",
      "Saving:  c:\\Users\\jskeeter\\gsc-permafrost\\EC_dataPipeline\\test\\Sites\\SCL\\SCL_metadata.yml\n",
      "Saving:  c:\\Users\\jskeeter\\gsc-permafrost\\EC_dataPipeline\\test\\Sites\\SCL\\SSM_Profile\\sourceFiles.yml\n",
      "c:\\Users\\jskeeter\\gsc-permafrost\\EC_dataPipeline\\test\\Sites\\SCL\\WSM_Profile\\sourceFiles.yml\n",
      "\n",
      "does not exist, creating new file using template\n",
      "line 25:\n",
      "{'w*ldcard': {'matchPattern': 'w*ldcard', 'rootPath': None, 'fileList': {}, 'parserSettings': {}}}\n",
      "\n",
      "Saving:  c:\\Users\\jskeeter\\gsc-permafrost\\EC_dataPipeline\\test\\Sites\\SCL\\WSM_Profile\\sourceFiles.yml\n",
      "Saving:  c:\\Users\\jskeeter\\gsc-permafrost\\EC_dataPipeline\\test\\Sites\\SCL\\SCL_metadata.yml\n",
      "Saving:  c:\\Users\\jskeeter\\gsc-permafrost\\EC_dataPipeline\\test\\Sites\\SCL\\WSM_Profile\\sourceFiles.yml\n",
      "Saving:  c:\\Users\\jskeeter\\gsc-permafrost\\EC_dataPipeline\\test\\Sites\\FIL\\FIL_metadata.yml\n",
      "c:\\Users\\jskeeter\\gsc-permafrost\\EC_dataPipeline\\test\\Sites\\FIL\\_TMP\\sourceFiles.yml\n",
      "\n",
      "does not exist, creating new file using template\n",
      "line 25:\n",
      "{'w*ldcard': {'matchPattern': 'w*ldcard', 'rootPath': None, 'fileList': {}, 'parserSettings': {}}}\n",
      "\n",
      "Saving:  c:\\Users\\jskeeter\\gsc-permafrost\\EC_dataPipeline\\test\\Sites\\FIL\\_TMP\\sourceFiles.yml\n",
      "Saving:  c:\\Users\\jskeeter\\gsc-permafrost\\EC_dataPipeline\\test\\Sites\\FIL\\FIL_metadata.yml\n",
      "Saving:  c:\\Users\\jskeeter\\gsc-permafrost\\EC_dataPipeline\\test\\Sites\\FIL\\_TMP\\sourceFiles.yml\n",
      "Saving:  c:\\Users\\jskeeter\\gsc-permafrost\\EC_dataPipeline\\test\\Sites\\SCL\\Met\\sourceFiles.yml\n",
      "Saving:  c:\\Users\\jskeeter\\gsc-permafrost\\EC_dataPipeline\\test\\Sites\\SCL\\SCL_metadata.yml\n",
      "Saving:  c:\\Users\\jskeeter\\gsc-permafrost\\EC_dataPipeline\\test\\Sites\\SCL\\Met\\sourceFiles.yml\n"
     ]
    }
   ],
   "source": [
    "%autoreload 2\n",
    "projectPath = os.path.join(os.getcwd(),'test')\n",
    "try:\n",
    "    shutil.rmtree(projectPath)\n",
    "except:\n",
    "    pass\n",
    "db = dbPipeline.database(projectPath=projectPath,verbose=True,enableParallel=True)\n",
    "Sites = r'example_data\\projectInventory_Template.yml'\n",
    "db.projectInventory(newSites=Sites)\n",
    "\n",
    "template = loadDict(r'example_data\\source_Template.yml')\n",
    "\n",
    "\n",
    "siteID,measurementID = 'SCL','Met'\n",
    "\n",
    "dpath = 'SCL/2024/20240912'\n",
    "template[siteID][measurementID]['rootPath'] = os.path.join(data_dump,dpath)\n",
    "print(template[siteID][measurementID]['rootPath'])\n",
    "db.rawFileSearch(siteID,measurementID,template[siteID][measurementID])"
   ]
  },
  {
   "cell_type": "code",
   "execution_count": null,
   "metadata": {},
   "outputs": [],
   "source": [
    "%autoreload 2\n",
    "\n",
    "df = dbPipeline.databaseFolder(path=r'C:\\Users\\jskeeter\\gsc-permafrost\\EC_dataPipeline\\test\\database\\SCL\\Met',Years=[2024])\n",
    "df.dataOut.columns"
   ]
  },
  {
   "cell_type": "code",
   "execution_count": null,
   "metadata": {},
   "outputs": [],
   "source": [
    "df.dataOut['NetRad_Avg'].plot()#.to_csv(r'C:\\Users\\jskeeter\\OneDrive - NRCan RNCan\\Documents\\Presentations\\CANCH4\\Data\\SCL_met.csv')"
   ]
  },
  {
   "cell_type": "code",
   "execution_count": null,
   "metadata": {},
   "outputs": [],
   "source": [
    "from parseFiles.helperFunctions.loadDict import loadDict\n",
    "# importlib.reload(dbPipeline)\n",
    "\n",
    "# db = dbPipeline.database(projectPath=projectPath,verbose=False,enableParallel=False)\n",
    "template = loadDict(r'example_data\\source_Template.yml')\n",
    "# # sourcePath = r'U:\\EC_Backup\\SCL_2024\\20240724'\n",
    "sourcePath = r'example_data'\n",
    "print(template)\n",
    "for siteID in template:\n",
    "    for measurementID in template[siteID]:\n",
    "        db.rawFileSearch(siteID,measurementID,template[siteID][measurementID])"
   ]
  }
 ],
 "metadata": {
  "kernelspec": {
   "display_name": ".venv",
   "language": "python",
   "name": "python3"
  },
  "language_info": {
   "codemirror_mode": {
    "name": "ipython",
    "version": 3
   },
   "file_extension": ".py",
   "mimetype": "text/x-python",
   "name": "python",
   "nbconvert_exporter": "python",
   "pygments_lexer": "ipython3",
   "version": "3.12.9"
  }
 },
 "nbformat": 4,
 "nbformat_minor": 2
}
