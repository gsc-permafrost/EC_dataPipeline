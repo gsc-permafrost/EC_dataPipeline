{
 "cells": [
  {
   "cell_type": "markdown",
   "metadata": {},
   "source": [
    "# Fresh take\n",
    "\n",
    "## 1. Initalize sites"
   ]
  },
  {
   "cell_type": "code",
   "execution_count": 1,
   "metadata": {},
   "outputs": [],
   "source": [
    "%load_ext autoreload\n",
    "import os\n",
    "import os\n",
    "import shutil\n",
    "import dbPipeline\n",
    "import time\n",
    "from parseFiles.helperFunctions.loadDict import loadDict"
   ]
  },
  {
   "cell_type": "code",
   "execution_count": 6,
   "metadata": {},
   "outputs": [],
   "source": [
    "data_dump = r'U:\\data-dump'\n",
    "data_dump = 'example_data'"
   ]
  },
  {
   "cell_type": "code",
   "execution_count": 10,
   "metadata": {},
   "outputs": [
    {
     "name": "stdout",
     "output_type": "stream",
     "text": [
      "Creating template project inventory\n",
      "None\n",
      "None\n",
      "W135 15.1144\n",
      "parseCoordinates(ID='SCL', latitude=69.2264167, longitude=-135.2519067)\n",
      "W134 52 51.92\n",
      "parseCoordinates(ID='FIL', latitude=69.3722778, longitude=-134.8810889)\n",
      "example_data\\SCL\\2024\\20240912\n",
      "2024-01-01 00:30:00    1.704069e+09\n",
      "2024-01-01 01:00:00    1.704071e+09\n",
      "2024-01-01 01:30:00    1.704073e+09\n",
      "2024-01-01 02:00:00    1.704074e+09\n",
      "2024-01-01 02:30:00    1.704076e+09\n",
      "                           ...     \n",
      "2024-12-31 22:00:00    1.735682e+09\n",
      "2024-12-31 22:30:00    1.735684e+09\n",
      "2024-12-31 23:00:00    1.735686e+09\n",
      "2024-12-31 23:30:00    1.735688e+09\n",
      "2025-01-01 00:00:00    1.735690e+09\n",
      "Freq: 30min, Name: POSIX_timestamp, Length: 17568, dtype: float64\n",
      "Writing: c:\\Users\\jskeeter\\gsc-permafrost\\EC_dataPipeline\\test\\database\\SCL\\Flux\\2024\\POSIX_timestamp\n",
      "Writing: c:\\Users\\jskeeter\\gsc-permafrost\\EC_dataPipeline\\test\\database\\SCL\\Flux\\2024\\nanoseconds_mean\n",
      "Writing: c:\\Users\\jskeeter\\gsc-permafrost\\EC_dataPipeline\\test\\database\\SCL\\Flux\\2024\\Diagnostic_7700_mean\n",
      "Writing: c:\\Users\\jskeeter\\gsc-permafrost\\EC_dataPipeline\\test\\database\\SCL\\Flux\\2024\\press_mean\n",
      "Writing: c:\\Users\\jskeeter\\gsc-permafrost\\EC_dataPipeline\\test\\database\\SCL\\Flux\\2024\\RSSI_mean\n",
      "Writing: c:\\Users\\jskeeter\\gsc-permafrost\\EC_dataPipeline\\test\\database\\SCL\\Flux\\2024\\Ux_mean\n",
      "Writing: c:\\Users\\jskeeter\\gsc-permafrost\\EC_dataPipeline\\test\\database\\SCL\\Flux\\2024\\CH4_density_mean\n",
      "Writing: c:\\Users\\jskeeter\\gsc-permafrost\\EC_dataPipeline\\test\\database\\SCL\\Flux\\2024\\Uy_mean\n",
      "Writing: c:\\Users\\jskeeter\\gsc-permafrost\\EC_dataPipeline\\test\\database\\SCL\\Flux\\2024\\Uz_mean\n",
      "Writing: c:\\Users\\jskeeter\\gsc-permafrost\\EC_dataPipeline\\test\\database\\SCL\\Flux\\2024\\Ts_mean\n",
      "Writing: c:\\Users\\jskeeter\\gsc-permafrost\\EC_dataPipeline\\test\\database\\SCL\\Flux\\2024\\CH4_mole_fraction_mean\n",
      "Writing: c:\\Users\\jskeeter\\gsc-permafrost\\EC_dataPipeline\\test\\database\\SCL\\Flux\\2024\\LI7500_diag_mean\n",
      "Writing: c:\\Users\\jskeeter\\gsc-permafrost\\EC_dataPipeline\\test\\database\\SCL\\Flux\\2024\\Temperature_mean\n",
      "Writing: c:\\Users\\jskeeter\\gsc-permafrost\\EC_dataPipeline\\test\\database\\SCL\\Flux\\2024\\CO2_mean\n",
      "Writing: c:\\Users\\jskeeter\\gsc-permafrost\\EC_dataPipeline\\test\\database\\SCL\\Flux\\2024\\Pressure_mean\n",
      "Writing: c:\\Users\\jskeeter\\gsc-permafrost\\EC_dataPipeline\\test\\database\\SCL\\Flux\\2024\\LI7550_SignalStrength_mean\n",
      "Writing: c:\\Users\\jskeeter\\gsc-permafrost\\EC_dataPipeline\\test\\database\\SCL\\Flux\\2024\\Diagnostic_CSAT_mean\n",
      "Writing: c:\\Users\\jskeeter\\gsc-permafrost\\EC_dataPipeline\\test\\database\\SCL\\Flux\\2024\\seconds_mean\n",
      "Writing: c:\\Users\\jskeeter\\gsc-permafrost\\EC_dataPipeline\\test\\database\\SCL\\Flux\\2024\\H2O_mean\n",
      "Writing: c:\\Users\\jskeeter\\gsc-permafrost\\EC_dataPipeline\\test\\database\\SCL\\Flux\\2024\\CH4_density_mean\n",
      "Writing: c:\\Users\\jskeeter\\gsc-permafrost\\EC_dataPipeline\\test\\database\\SCL\\Flux\\2024\\CH4_mole_fraction_mean\n",
      "Writing: c:\\Users\\jskeeter\\gsc-permafrost\\EC_dataPipeline\\test\\database\\SCL\\Flux\\2024\\CO2_mean\n",
      "Writing: c:\\Users\\jskeeter\\gsc-permafrost\\EC_dataPipeline\\test\\database\\SCL\\Flux\\2024\\Diagnostic_7700_mean\n",
      "Writing: c:\\Users\\jskeeter\\gsc-permafrost\\EC_dataPipeline\\test\\database\\SCL\\Flux\\2024\\Diagnostic_CSAT_mean\n",
      "Writing: c:\\Users\\jskeeter\\gsc-permafrost\\EC_dataPipeline\\test\\database\\SCL\\Flux\\2024\\H2O_mean\n",
      "Writing: c:\\Users\\jskeeter\\gsc-permafrost\\EC_dataPipeline\\test\\database\\SCL\\Flux\\2024\\LI7500_diag_mean\n",
      "Writing: c:\\Users\\jskeeter\\gsc-permafrost\\EC_dataPipeline\\test\\database\\SCL\\Flux\\2024\\LI7550_SignalStrength_mean\n",
      "Writing: c:\\Users\\jskeeter\\gsc-permafrost\\EC_dataPipeline\\test\\database\\SCL\\Flux\\2024\\nanoseconds_mean\n",
      "Writing: c:\\Users\\jskeeter\\gsc-permafrost\\EC_dataPipeline\\test\\database\\SCL\\Flux\\2024\\POSIX_timestamp\n",
      "Writing: c:\\Users\\jskeeter\\gsc-permafrost\\EC_dataPipeline\\test\\database\\SCL\\Flux\\2024\\Pressure_mean\n",
      "Writing: c:\\Users\\jskeeter\\gsc-permafrost\\EC_dataPipeline\\test\\database\\SCL\\Flux\\2024\\press_mean\n",
      "Writing: c:\\Users\\jskeeter\\gsc-permafrost\\EC_dataPipeline\\test\\database\\SCL\\Flux\\2024\\RSSI_mean\n",
      "Writing: c:\\Users\\jskeeter\\gsc-permafrost\\EC_dataPipeline\\test\\database\\SCL\\Flux\\2024\\seconds_mean\n",
      "Writing: c:\\Users\\jskeeter\\gsc-permafrost\\EC_dataPipeline\\test\\database\\SCL\\Flux\\2024\\Temperature_mean\n",
      "Writing: c:\\Users\\jskeeter\\gsc-permafrost\\EC_dataPipeline\\test\\database\\SCL\\Flux\\2024\\Ts_mean\n",
      "Writing: c:\\Users\\jskeeter\\gsc-permafrost\\EC_dataPipeline\\test\\database\\SCL\\Flux\\2024\\Ux_mean\n",
      "Writing: c:\\Users\\jskeeter\\gsc-permafrost\\EC_dataPipeline\\test\\database\\SCL\\Flux\\2024\\Uy_mean\n",
      "Writing: c:\\Users\\jskeeter\\gsc-permafrost\\EC_dataPipeline\\test\\database\\SCL\\Flux\\2024\\Uz_mean\n",
      "Writing: c:\\Users\\jskeeter\\gsc-permafrost\\EC_dataPipeline\\test\\database\\SCL\\Flux\\2024\\CH4_density_mean\n",
      "Writing: c:\\Users\\jskeeter\\gsc-permafrost\\EC_dataPipeline\\test\\database\\SCL\\Flux\\2024\\CH4_mole_fraction_mean\n",
      "Writing: c:\\Users\\jskeeter\\gsc-permafrost\\EC_dataPipeline\\test\\database\\SCL\\Flux\\2024\\CO2_mean\n",
      "Writing: c:\\Users\\jskeeter\\gsc-permafrost\\EC_dataPipeline\\test\\database\\SCL\\Flux\\2024\\Diagnostic_7700_mean\n",
      "Writing: c:\\Users\\jskeeter\\gsc-permafrost\\EC_dataPipeline\\test\\database\\SCL\\Flux\\2024\\Diagnostic_CSAT_mean\n",
      "Writing: c:\\Users\\jskeeter\\gsc-permafrost\\EC_dataPipeline\\test\\database\\SCL\\Flux\\2024\\H2O_mean\n",
      "Writing: c:\\Users\\jskeeter\\gsc-permafrost\\EC_dataPipeline\\test\\database\\SCL\\Flux\\2024\\LI7500_diag_mean\n",
      "Writing: c:\\Users\\jskeeter\\gsc-permafrost\\EC_dataPipeline\\test\\database\\SCL\\Flux\\2024\\LI7550_SignalStrength_mean\n",
      "Writing: c:\\Users\\jskeeter\\gsc-permafrost\\EC_dataPipeline\\test\\database\\SCL\\Flux\\2024\\nanoseconds_mean\n",
      "Writing: c:\\Users\\jskeeter\\gsc-permafrost\\EC_dataPipeline\\test\\database\\SCL\\Flux\\2024\\POSIX_timestamp\n",
      "Writing: c:\\Users\\jskeeter\\gsc-permafrost\\EC_dataPipeline\\test\\database\\SCL\\Flux\\2024\\Pressure_mean\n",
      "Writing: c:\\Users\\jskeeter\\gsc-permafrost\\EC_dataPipeline\\test\\database\\SCL\\Flux\\2024\\press_mean\n",
      "Writing: c:\\Users\\jskeeter\\gsc-permafrost\\EC_dataPipeline\\test\\database\\SCL\\Flux\\2024\\RSSI_mean\n",
      "Writing: c:\\Users\\jskeeter\\gsc-permafrost\\EC_dataPipeline\\test\\database\\SCL\\Flux\\2024\\seconds_mean\n",
      "Writing: c:\\Users\\jskeeter\\gsc-permafrost\\EC_dataPipeline\\test\\database\\SCL\\Flux\\2024\\Temperature_mean\n",
      "Writing: c:\\Users\\jskeeter\\gsc-permafrost\\EC_dataPipeline\\test\\database\\SCL\\Flux\\2024\\Ts_mean\n",
      "Writing: c:\\Users\\jskeeter\\gsc-permafrost\\EC_dataPipeline\\test\\database\\SCL\\Flux\\2024\\Ux_mean\n",
      "Writing: c:\\Users\\jskeeter\\gsc-permafrost\\EC_dataPipeline\\test\\database\\SCL\\Flux\\2024\\Uy_mean\n",
      "Writing: c:\\Users\\jskeeter\\gsc-permafrost\\EC_dataPipeline\\test\\database\\SCL\\Flux\\2024\\Uz_mean\n",
      "Writing: c:\\Users\\jskeeter\\gsc-permafrost\\EC_dataPipeline\\test\\database\\SCL\\Flux\\2024\\CH4_density_mean\n",
      "Writing: c:\\Users\\jskeeter\\gsc-permafrost\\EC_dataPipeline\\test\\database\\SCL\\Flux\\2024\\CH4_mole_fraction_mean\n",
      "Writing: c:\\Users\\jskeeter\\gsc-permafrost\\EC_dataPipeline\\test\\database\\SCL\\Flux\\2024\\CO2_mean\n",
      "Writing: c:\\Users\\jskeeter\\gsc-permafrost\\EC_dataPipeline\\test\\database\\SCL\\Flux\\2024\\Diagnostic_7700_mean\n",
      "Writing: c:\\Users\\jskeeter\\gsc-permafrost\\EC_dataPipeline\\test\\database\\SCL\\Flux\\2024\\Diagnostic_CSAT_mean\n",
      "Writing: c:\\Users\\jskeeter\\gsc-permafrost\\EC_dataPipeline\\test\\database\\SCL\\Flux\\2024\\H2O_mean\n",
      "Writing: c:\\Users\\jskeeter\\gsc-permafrost\\EC_dataPipeline\\test\\database\\SCL\\Flux\\2024\\LI7500_diag_mean\n",
      "Writing: c:\\Users\\jskeeter\\gsc-permafrost\\EC_dataPipeline\\test\\database\\SCL\\Flux\\2024\\LI7550_SignalStrength_mean\n",
      "Writing: c:\\Users\\jskeeter\\gsc-permafrost\\EC_dataPipeline\\test\\database\\SCL\\Flux\\2024\\nanoseconds_mean\n",
      "Writing: c:\\Users\\jskeeter\\gsc-permafrost\\EC_dataPipeline\\test\\database\\SCL\\Flux\\2024\\POSIX_timestamp\n",
      "Writing: c:\\Users\\jskeeter\\gsc-permafrost\\EC_dataPipeline\\test\\database\\SCL\\Flux\\2024\\Pressure_mean\n",
      "Writing: c:\\Users\\jskeeter\\gsc-permafrost\\EC_dataPipeline\\test\\database\\SCL\\Flux\\2024\\press_mean\n",
      "Writing: c:\\Users\\jskeeter\\gsc-permafrost\\EC_dataPipeline\\test\\database\\SCL\\Flux\\2024\\RSSI_mean\n",
      "Writing: c:\\Users\\jskeeter\\gsc-permafrost\\EC_dataPipeline\\test\\database\\SCL\\Flux\\2024\\seconds_mean\n",
      "Writing: c:\\Users\\jskeeter\\gsc-permafrost\\EC_dataPipeline\\test\\database\\SCL\\Flux\\2024\\Temperature_mean\n",
      "Writing: c:\\Users\\jskeeter\\gsc-permafrost\\EC_dataPipeline\\test\\database\\SCL\\Flux\\2024\\Ts_mean\n",
      "Writing: c:\\Users\\jskeeter\\gsc-permafrost\\EC_dataPipeline\\test\\database\\SCL\\Flux\\2024\\Ux_mean\n",
      "Writing: c:\\Users\\jskeeter\\gsc-permafrost\\EC_dataPipeline\\test\\database\\SCL\\Flux\\2024\\Uy_mean\n",
      "Writing: c:\\Users\\jskeeter\\gsc-permafrost\\EC_dataPipeline\\test\\database\\SCL\\Flux\\2024\\Uz_mean\n",
      "Writing: c:\\Users\\jskeeter\\gsc-permafrost\\EC_dataPipeline\\test\\database\\SCL\\Flux\\2024\\CH4_density_mean\n",
      "Writing: c:\\Users\\jskeeter\\gsc-permafrost\\EC_dataPipeline\\test\\database\\SCL\\Flux\\2024\\CH4_mole_fraction_mean\n",
      "Writing: c:\\Users\\jskeeter\\gsc-permafrost\\EC_dataPipeline\\test\\database\\SCL\\Flux\\2024\\CO2_mean\n",
      "Writing: c:\\Users\\jskeeter\\gsc-permafrost\\EC_dataPipeline\\test\\database\\SCL\\Flux\\2024\\Diagnostic_7700_mean\n",
      "Writing: c:\\Users\\jskeeter\\gsc-permafrost\\EC_dataPipeline\\test\\database\\SCL\\Flux\\2024\\Diagnostic_CSAT_mean\n",
      "Writing: c:\\Users\\jskeeter\\gsc-permafrost\\EC_dataPipeline\\test\\database\\SCL\\Flux\\2024\\H2O_mean\n",
      "Writing: c:\\Users\\jskeeter\\gsc-permafrost\\EC_dataPipeline\\test\\database\\SCL\\Flux\\2024\\LI7500_diag_mean\n",
      "Writing: c:\\Users\\jskeeter\\gsc-permafrost\\EC_dataPipeline\\test\\database\\SCL\\Flux\\2024\\LI7550_SignalStrength_mean\n",
      "Writing: c:\\Users\\jskeeter\\gsc-permafrost\\EC_dataPipeline\\test\\database\\SCL\\Flux\\2024\\nanoseconds_mean\n",
      "Writing: c:\\Users\\jskeeter\\gsc-permafrost\\EC_dataPipeline\\test\\database\\SCL\\Flux\\2024\\POSIX_timestamp\n",
      "Writing: c:\\Users\\jskeeter\\gsc-permafrost\\EC_dataPipeline\\test\\database\\SCL\\Flux\\2024\\Pressure_mean\n",
      "Writing: c:\\Users\\jskeeter\\gsc-permafrost\\EC_dataPipeline\\test\\database\\SCL\\Flux\\2024\\press_mean\n",
      "Writing: c:\\Users\\jskeeter\\gsc-permafrost\\EC_dataPipeline\\test\\database\\SCL\\Flux\\2024\\RSSI_mean\n",
      "Writing: c:\\Users\\jskeeter\\gsc-permafrost\\EC_dataPipeline\\test\\database\\SCL\\Flux\\2024\\seconds_mean\n",
      "Writing: c:\\Users\\jskeeter\\gsc-permafrost\\EC_dataPipeline\\test\\database\\SCL\\Flux\\2024\\Temperature_mean\n",
      "Writing: c:\\Users\\jskeeter\\gsc-permafrost\\EC_dataPipeline\\test\\database\\SCL\\Flux\\2024\\Ts_mean\n",
      "Writing: c:\\Users\\jskeeter\\gsc-permafrost\\EC_dataPipeline\\test\\database\\SCL\\Flux\\2024\\Ux_mean\n",
      "Writing: c:\\Users\\jskeeter\\gsc-permafrost\\EC_dataPipeline\\test\\database\\SCL\\Flux\\2024\\Uy_mean\n",
      "Writing: c:\\Users\\jskeeter\\gsc-permafrost\\EC_dataPipeline\\test\\database\\SCL\\Flux\\2024\\Uz_mean\n"
     ]
    }
   ],
   "source": [
    "%autoreload 2\n",
    "projectPath = os.path.join(os.getcwd(),'test')\n",
    "try:\n",
    "    shutil.rmtree(projectPath)\n",
    "except:\n",
    "    pass\n",
    "db = dbPipeline.database(projectPath=projectPath,verbose=False,enableParallel=True)\n",
    "Sites = loadDict(r'example_data\\projectInventory_Template.yml')\n",
    "# print(Sites)\n",
    "\n",
    "db.projectInventory(newSites=Sites)\n",
    "\n",
    "template = loadDict(r'example_data\\source_Template.yml')\n",
    "\n",
    "# print(template)\n",
    "\n",
    "siteID,measurementID = 'SCL','Flux'\n",
    "\n",
    "dpath = r'SCL\\2024\\20240912'\n",
    "template[siteID][measurementID]['rootPath'] = os.path.join(data_dump,dpath)\n",
    "print(template[siteID][measurementID]['rootPath'])\n",
    "db.rawFileSearch(siteID,measurementID,template[siteID][measurementID])"
   ]
  },
  {
   "cell_type": "code",
   "execution_count": 11,
   "metadata": {},
   "outputs": [
    {
     "data": {
      "text/plain": [
       "Index(['CH4_density_mean', 'CH4_mole_fraction_mean', 'CO2_mean',\n",
       "       'Diagnostic_7700_mean', 'Diagnostic_CSAT_mean', 'H2O_mean',\n",
       "       'LI7500_diag_mean', 'LI7550_SignalStrength_mean', 'nanoseconds_mean',\n",
       "       'POSIX_timestamp', 'Pressure_mean', 'press_mean', 'RSSI_mean',\n",
       "       'seconds_mean', 'Temperature_mean', 'Ts_mean', 'Ux_mean', 'Uy_mean',\n",
       "       'Uz_mean'],\n",
       "      dtype='object')"
      ]
     },
     "execution_count": 11,
     "metadata": {},
     "output_type": "execute_result"
    }
   ],
   "source": [
    "%autoreload 2\n",
    "\n",
    "df = dbPipeline.databaseFolder(path=r'C:\\Users\\jskeeter\\gsc-permafrost\\EC_dataPipeline\\test\\database\\SCL\\Flux',Years=[2024])\n",
    "df.dataOut.columns"
   ]
  },
  {
   "cell_type": "code",
   "execution_count": 13,
   "metadata": {},
   "outputs": [
    {
     "data": {
      "text/plain": [
       "<Axes: xlabel='UTC'>"
      ]
     },
     "execution_count": 13,
     "metadata": {},
     "output_type": "execute_result"
    },
    {
     "data": {
      "image/png": "[encoded data removed]",
      "text/plain": [
       "<Figure size 640x480 with 1 Axes>"
      ]
     },
     "metadata": {},
     "output_type": "display_data"
    }
   ],
   "source": [
    "df.dataOut['CH4_density_mean'].dropna().plot()#.to_csv(r'C:\\Users\\jskeeter\\OneDrive - NRCan RNCan\\Documents\\Presentations\\CANCH4\\Data\\SCL_met.csv')"
   ]
  },
  {
   "cell_type": "code",
   "execution_count": null,
   "metadata": {},
   "outputs": [],
   "source": [
    "from parseFiles.helperFunctions.loadDict import loadDict\n",
    "# importlib.reload(dbPipeline)\n",
    "\n",
    "# db = dbPipeline.database(projectPath=projectPath,verbose=False,enableParallel=False)\n",
    "template = loadDict(r'example_data\\source_Template.yml')\n",
    "# # sourcePath = r'U:\\EC_Backup\\SCL_2024\\20240724'\n",
    "sourcePath = r'example_data'\n",
    "print(template)\n",
    "for siteID in template:\n",
    "    for measurementID in template[siteID]:\n",
    "        db.rawFileSearch(siteID,measurementID,template[siteID][measurementID])"
   ]
  }
 ],
 "metadata": {
  "kernelspec": {
   "display_name": ".venv",
   "language": "python",
   "name": "python3"
  },
  "language_info": {
   "codemirror_mode": {
    "name": "ipython",
    "version": 3
   },
   "file_extension": ".py",
   "mimetype": "text/x-python",
   "name": "python",
   "nbconvert_exporter": "python",
   "pygments_lexer": "ipython3",
   "version": "3.12.9"
  }
 },
 "nbformat": 4,
 "nbformat_minor": 2
}
