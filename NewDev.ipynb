{
 "cells": [
  {
   "cell_type": "markdown",
   "metadata": {},
   "source": [
    "# Fresh take\n",
    "\n",
    "Trying to get this right.  2024/02/18"
   ]
  },
  {
   "cell_type": "code",
   "execution_count": 139,
   "metadata": {},
   "outputs": [
    {
     "data": {
      "text/plain": [
       "databaseProject()"
      ]
     },
     "execution_count": 139,
     "metadata": {},
     "output_type": "execute_result"
    }
   ],
   "source": [
    "import os\n",
    "import yaml\n",
    "import time\n",
    "import shutil\n",
    "import numpy as np\n",
    "import pandas as pd\n",
    "import importlib\n",
    "import NewDev as ND\n",
    "import helperFunctions as hf\n",
    "importlib.reload(ND)            \n",
    "dbpth = os.path.join(os.getcwd(),'test')\n",
    "try:\n",
    "    shutil.rmtree(dbpth)\n",
    "except:\n",
    "    pass\n",
    "ND.databaseProject(dbpth)\n"
   ]
  },
  {
   "cell_type": "markdown",
   "metadata": {},
   "source": [
    "## Setup an inventory"
   ]
  },
  {
   "cell_type": "code",
   "execution_count": 140,
   "metadata": {},
   "outputs": [
    {
     "data": {
      "text/plain": [
       "measurementInventory(measurementType='Metadata', loggerID='CR1000x')"
      ]
     },
     "execution_count": 140,
     "metadata": {},
     "output_type": "execute_result"
    }
   ],
   "source": [
    "\n",
    "importlib.reload(ND)\n",
    "importlib.reload(hf)\n",
    "                          \n",
    "dbpth = os.path.join(os.getcwd(),'test')\n",
    "try:\n",
    "    shutil.rmtree(dbpth)\n",
    "except:\n",
    "    pass\n",
    "\n",
    "\n",
    "ND.siteInventory(projectPath = dbpth,\n",
    "                siteID = 'SCL',\n",
    "                name = 'Swiss Cheese Lake',\n",
    "                description = 'Eddy covariance site in a permafrost wetland',\n",
    "                latitude = 'N 69 13.5850',\n",
    "                longitude = 'W 135 15.1144',\n",
    "                PI = 'June Skeeter, Peter Morse',\n",
    "                startDate = '2024-07-20')\n",
    "ND.siteInventory(projectPath = dbpth,\n",
    "                siteID='FIL',\n",
    "                name = 'Fish Island',\n",
    "                description = 'Eddy covariance site in a polygonal permafrost peatland',\n",
    "                latitude ='69°22′20.20″N', \n",
    "                longitude = '134°52′51.92″W',\n",
    "                PI = 'June Skeeter',\n",
    "                startDate='2017-06-21',\n",
    "                endDate='2017-09-13')\n",
    "ND.siteInventory(projectPath = dbpth,\n",
    "                siteID='ILL',\n",
    "                name = 'Illisarvik',\n",
    "                description='Eddy Covariance site in an artificially drained thermokarst lake basin',\n",
    "                latitude ='69°28′047.500\" N',\n",
    "                longitude = '34° 50′ 18.700\"W',\n",
    "                PI = 'Chris Burn',\n",
    "                startDate='2016-07-08',\n",
    "                endDate='2016-08-07')\n",
    "\n",
    "ND.measurementInventory(projectPath=dbpth,\n",
    "                        siteID='SCL',\n",
    "                        frequency='50ms',\n",
    "                        measurementType='Eddy Covariance',\n",
    "                        loggerID='CR1000x',\n",
    "                        fileType='TOBA',\n",
    "                        description='High Frequency Eddy Covariance Data')\n",
    "ND.measurementInventory(projectPath=dbpth,\n",
    "                        siteID='SCL',\n",
    "                        frequency='30min',\n",
    "                        measurementType='TS_Profile',\n",
    "                        loggerID='SSM',\n",
    "                        fileType='HoboCSV',\n",
    "                        latitude='N 69 13.5239',\n",
    "                        longitude='W 135 15.1358',\n",
    "                        description='Soil temperature profile from a hobo data logger, in the salix sedge meadow')\n",
    "ND.measurementInventory(projectPath=dbpth,\n",
    "                        siteID='SCL',\n",
    "                        frequency='30min',\n",
    "                        measurementType='TS_Profile',\n",
    "                        loggerID='WSM',\n",
    "                        fileType='HoboCSV',\n",
    "                        latitude='N 69 13.5521',\n",
    "                        longitude='W 135 15.1350',\n",
    "                        description='Soil temperature profile from a hobo data logger, in the wet sedge meadow')\n",
    "ND.measurementInventory(projectPath=dbpth,\n",
    "                        siteID='SCL',\n",
    "                        frequency='30min',\n",
    "                        measurementType='Meteorological',\n",
    "                        loggerID='CR1000x',\n",
    "                        fileType='TOBA',\n",
    "                        description='Low Frequency Meteorological Data')\n",
    "ND.measurementInventory(projectPath=dbpth,\n",
    "                        siteID='SCL',\n",
    "                        frequency='24h',\n",
    "                        measurementType='Metadata',\n",
    "                        loggerID='CR1000x',\n",
    "                        fileType='TOBA',\n",
    "                        description='Daily Metadata Summaries')"
   ]
  },
  {
   "cell_type": "code",
   "execution_count": 141,
   "metadata": {},
   "outputs": [
    {
     "name": "stdout",
     "output_type": "stream",
     "text": [
      "0.1976606845855713\n"
     ]
    }
   ],
   "source": [
    "importlib.reload(ND)\n",
    "T1 = time.time()\n",
    "ND.databaseProject(dbpth)\n",
    "print(time.time()-T1)"
   ]
  },
  {
   "cell_type": "markdown",
   "metadata": {},
   "source": [
    "## File Management"
   ]
  },
  {
   "cell_type": "code",
   "execution_count": 136,
   "metadata": {},
   "outputs": [
    {
     "data": {
      "text/plain": [
       "{'SCL-TS_Profile-SSM': {'source': 'c:\\\\Users\\\\jskeeter\\\\gsc-permafrost\\\\SCL_2024',\n",
       "  'ext': 'csv',\n",
       "  'matchPattern': ['SSM'],\n",
       "  'excludePattern': []}}"
      ]
     },
     "execution_count": 136,
     "metadata": {},
     "output_type": "execute_result"
    }
   ],
   "source": [
    "import time\n",
    "import rawDataFile as rd\n",
    "importlib.reload(rd)\n",
    "source = r'..\\SCL_2024'\n",
    "T1 = time.time()\n",
    "\n",
    "t = rd.fileInventory(projectPath=dbpth,source=source,ID='SCL-TS_Profile-SSM',ext='csv',matchPattern='SSM')\n",
    "\n",
    "t.record\n"
   ]
  },
  {
   "cell_type": "code",
   "execution_count": 1,
   "metadata": {},
   "outputs": [
    {
     "data": {
      "text/plain": [
       "DatetimeIndex([       '2025-03-01 00:00:00', '2025-03-01 00:00:00.050000',\n",
       "               '2025-03-01 00:00:00.100000', '2025-03-01 00:00:00.150000',\n",
       "               '2025-03-01 00:00:00.200000', '2025-03-01 00:00:00.250000',\n",
       "               '2025-03-01 00:00:00.300000', '2025-03-01 00:00:00.350000',\n",
       "               '2025-03-01 00:00:00.400000', '2025-03-01 00:00:00.450000',\n",
       "               ...\n",
       "               '2025-03-01 23:59:59.550000', '2025-03-01 23:59:59.600000',\n",
       "               '2025-03-01 23:59:59.650000', '2025-03-01 23:59:59.700000',\n",
       "               '2025-03-01 23:59:59.750000', '2025-03-01 23:59:59.800000',\n",
       "               '2025-03-01 23:59:59.850000', '2025-03-01 23:59:59.900000',\n",
       "               '2025-03-01 23:59:59.950000',        '2025-03-02 00:00:00'],\n",
       "              dtype='datetime64[ns]', length=1728001, freq='50ms')"
      ]
     },
     "execution_count": 1,
     "metadata": {},
     "output_type": "execute_result"
    }
   ],
   "source": [
    "import pandas as pd\n",
    "pd.date_range('2025-03-01','2025-03-02',freq='50ms')"
   ]
  },
  {
   "cell_type": "code",
   "execution_count": 126,
   "metadata": {},
   "outputs": [
    {
     "name": "stdout",
     "output_type": "stream",
     "text": [
      "{'TS_1_1_1': {'variableName': 'TS', 'originalName': 'Temp, °C (LGR S/N: 20750527, SEN S/N: 20750527, LBL: 5)', 'ignore': False, 'unit': 'deg C', 'dtype': '<f8', 'variableDescription': 'Soil Temperature at 5 cm depth', 'vertical': 1, 'horizontal': 1, 'replicate': 1}, 'TS_2_1_1': {'variableName': 'TS', 'originalName': 'Temp, °C (LGR S/N: 20750527, SEN S/N: 20750527, LBL: 25)', 'ignore': False, 'unit': 'deg C', 'dtype': '<f8', 'variableDescription': 'Soil Temperature at 25 cm depth', 'vertical': 2, 'horizontal': 1, 'replicate': 1}, 'TS_3_1_1': {'variableName': 'TS', 'originalName': 'Temp, °C (LGR S/N: 20750527, SEN S/N: 20750527, LBL: 50)', 'ignore': False, 'unit': 'deg C', 'dtype': '<f8', 'variableDescription': 'Soil Temperature at 50 cm depth', 'vertical': 3, 'horizontal': 1, 'replicate': 1}, 'TS_4_1_1': {'variableName': 'TS', 'originalName': 'Temp, °C (LGR S/N: 20750527, SEN S/N: 20750527, LBL: 100)', 'ignore': False, 'unit': 'deg C', 'dtype': '<f8', 'variableDescription': 'Soil Temperature at 100 cm depth', 'vertical': 4, 'horizontal': 1, 'replicate': 1}}\n"
     ]
    }
   ],
   "source": [
    "# fn\n",
    "import os\n",
    "import rawDataFile as rawDataFile\n",
    "importlib.reload(rawDataFile)\n",
    "# fn = fi['SCL']['TS_Profile-WSM']['c:\\\\Users\\\\jskeeter\\\\gsc-permafrost\\\\SCL_2024']['sourceFiles'][0]\n",
    "# fn = os.path.join('c:\\\\Users\\\\jskeeter\\\\gsc-permafrost\\\\SCL_2024',fn)\n",
    "fn = r'c:\\\\Users\\\\jskeeter\\\\gsc-permafrost\\\\SCL_2024\\\\20240724\\\\20750527-SHSC.WSM.SGT.240720_240724readout.csv'\n",
    "rd = rawDataFile.hoboCSV(projectPath=dbpth,source=fn,siteID='SCL',measurementType='TS_Profile',loggerID='WSM',\n",
    "                         Metadata='test.yml')\n",
    "\n",
    "with open('test.yml','w+') as f:\n",
    "    yaml.safe_dump(rd.Metadata,f,sort_keys=False)"
   ]
  },
  {
   "cell_type": "markdown",
   "metadata": {},
   "source": [
    "# Database"
   ]
  },
  {
   "cell_type": "code",
   "execution_count": 322,
   "metadata": {},
   "outputs": [
    {
     "name": "stdout",
     "output_type": "stream",
     "text": [
      "_ {'ignore': True, 'name_in': '#', 'unit_in': None, 'safe_name': '_', 'dtype': '<i8', 'variableDescription': None}\n",
      "Date_Time_GMT_00_00 {'ignore': True, 'name_in': 'Date Time, GMT+00:00', 'unit_in': None, 'safe_name': 'Date_Time_GMT_00_00', 'dtype': '|O', 'variableDescription': None}\n",
      "Temp_C_5cm {'ignore': False, 'name_in': 'Temp, °C (5cm', 'unit_in': None, 'safe_name': 'Temp_C_5cm', 'dtype': '<f8', 'variableDescription': None}\n",
      "Temp_C_25cm {'ignore': False, 'name_in': 'Temp, °C (25cm', 'unit_in': None, 'safe_name': 'Temp_C_25cm', 'dtype': '<f8', 'variableDescription': None}\n",
      "Temp_C_50cm {'ignore': False, 'name_in': 'Temp, °C (50cm', 'unit_in': None, 'safe_name': 'Temp_C_50cm', 'dtype': '<f8', 'variableDescription': None}\n",
      "Temp_C_100cm {'ignore': False, 'name_in': 'Temp, °C (100cm', 'unit_in': None, 'safe_name': 'Temp_C_100cm', 'dtype': '<f8', 'variableDescription': None}\n"
     ]
    },
    {
     "data": {
      "text/plain": [
       "rawDatabaseImport(projectPath='c:\\\\Users\\\\User\\\\GSC_Work\\\\EC_dataPipeline\\\\test', overwrite=False, verbose=True, logFile='Creating Database: 2025-03-01 21:22:42\\n', metadataFile={'defaultFormat': {'data': {'dtype': 'float32', 'info': 'data are stored as 32-bit floating point numbers'}, 'POSIX_timestamp': {'dtype': 'float64', 'timezone': 'UTC', 'info': 'the POSIX_timestamp is stored as a 64-bit floating point number, representing the seconds elapsed since 1970-01-01 00:00 UTC time'}}, 'Date_created': '2025-03-01 21:22:42', 'Last_modified': '2025-03-01 21:22:42'}, measurementID='test', dataIn=                        _ Date_Time_GMT_00_00  Temp_C_5cm  Temp_C_25cm  \\\n",
       "2024-07-20 21:00:00     1   24/07/20 21:00:00       7.217        2.423   \n",
       "2024-07-20 21:30:00     2   24/07/20 21:30:00      11.759        6.712   \n",
       "2024-07-20 22:00:00     3   24/07/20 22:00:00      11.467        5.257   \n",
       "2024-07-20 22:30:00     4   24/07/20 22:30:00      11.029        4.428   \n",
       "2024-07-20 23:00:00     5   24/07/20 23:00:00      10.907        4.011   \n",
       "...                   ...                 ...         ...          ...   \n",
       "2024-09-13 16:00:00  2632   24/09/13 16:00:00       4.869        3.670   \n",
       "2024-09-13 16:30:00  2633   24/09/13 16:30:00       4.869        3.643   \n",
       "2024-09-13 17:00:00  2634   24/09/13 17:00:00       4.869        3.643   \n",
       "2024-09-13 17:30:00  2635   24/09/13 17:30:00       4.895        3.617   \n",
       "2024-09-13 18:00:00  2636   24/09/13 18:00:00       4.921        3.591   \n",
       "\n",
       "                     Temp_C_50cm  Temp_C_100cm  \n",
       "2024-07-20 21:00:00       -0.032        -1.470  \n",
       "2024-07-20 21:30:00       -0.060        -1.470  \n",
       "2024-07-20 22:00:00       -0.060        -1.470  \n",
       "2024-07-20 22:30:00       -0.088        -1.470  \n",
       "2024-07-20 23:00:00       -0.088        -1.470  \n",
       "...                          ...           ...  \n",
       "2024-09-13 16:00:00        0.412        -0.845  \n",
       "2024-09-13 16:30:00        0.412        -0.845  \n",
       "2024-09-13 17:00:00        0.412        -0.845  \n",
       "2024-09-13 17:30:00        0.412        -0.845  \n",
       "2024-09-13 18:00:00        0.412        -0.845  \n",
       "\n",
       "[2634 rows x 6 columns], metadataIn={'verbose': True, 'loggerName': None, 'timeZone': 'UTC', 'frequency': '30min', 'yearfirst': True, 'Variables': {'_': {'ignore': True, 'name_in': '#', 'unit_in': None, 'safe_name': '_', 'dtype': '<i8', 'variableDescription': None}, 'Date_Time_GMT_00_00': {'ignore': True, 'name_in': 'Date Time, GMT+00:00', 'unit_in': None, 'safe_name': 'Date_Time_GMT_00_00', 'dtype': '|O', 'variableDescription': None}, 'Temp_C_5cm': {'ignore': False, 'name_in': 'Temp, °C (5cm', 'unit_in': None, 'safe_name': 'Temp_C_5cm', 'dtype': '<f8', 'variableDescription': None}, 'Temp_C_25cm': {'ignore': False, 'name_in': 'Temp, °C (25cm', 'unit_in': None, 'safe_name': 'Temp_C_25cm', 'dtype': '<f8', 'variableDescription': None}, 'Temp_C_50cm': {'ignore': False, 'name_in': 'Temp, °C (50cm', 'unit_in': None, 'safe_name': 'Temp_C_50cm', 'dtype': '<f8', 'variableDescription': None}, 'Temp_C_100cm': {'ignore': False, 'name_in': 'Temp, °C (100cm', 'unit_in': None, 'safe_name': 'Temp_C_100cm', 'dtype': '<f8', 'variableDescription': None}}}, mode='fill')"
      ]
     },
     "execution_count": 322,
     "metadata": {},
     "output_type": "execute_result"
    }
   ],
   "source": [
    "importlib.reload(ND)\n",
    "\n",
    "# dbpth = os.path.join(os.getcwd(),'test2')\n",
    "# # if os.path.isdir(dbpth):\n",
    "# #     shutil.rmtree(dbpth)\n",
    "\n",
    "# db = pyDB.database(projectPath=dbpth)\n",
    "# # db = pyDB.database(projectPath=dbpth,\n",
    "# #     # siteID=['SCL'],\n",
    "# #     # Years=[str(y) for y in range(2024,2025)],\n",
    "# #     # verbose=False\n",
    "# #     )\n",
    "# # db.\n",
    "n = ND.rawDatabaseImport(projectPath=dbpth,measurementID ='test',dataIn=rd.Data,metadataIn=rd.Metadata)\n",
    "\n",
    "n"
   ]
  },
  {
   "cell_type": "code",
   "execution_count": null,
   "metadata": {},
   "outputs": [
    {
     "ename": "ValueError",
     "evalue": "not enough values to unpack (expected 2, got 1)",
     "output_type": "error",
     "traceback": [
      "\u001b[1;31m---------------------------------------------------------------------------\u001b[0m",
      "\u001b[1;31mValueError\u001b[0m                                Traceback (most recent call last)",
      "Cell \u001b[1;32mIn[61], line 1\u001b[0m\n\u001b[1;32m----> 1\u001b[0m siteID,subsiteID\u001b[38;5;241m=\u001b[39m\u001b[38;5;124m'\u001b[39m\u001b[38;5;124ma\u001b[39m\u001b[38;5;124m'\u001b[39m\u001b[38;5;241m.\u001b[39msplit(\u001b[38;5;124m'\u001b[39m\u001b[38;5;124m-\u001b[39m\u001b[38;5;124m'\u001b[39m,\u001b[38;5;241m1\u001b[39m)\n",
      "\u001b[1;31mValueError\u001b[0m: not enough values to unpack (expected 2, got 1)"
     ]
    }
   ],
   "source": [
    "\n",
    "# siteFields = set(self.__dataclass_fields__) - {f for base in siteRecord.__bases__ if hasattr(base,'__dataclass_fields__') for f in base.__dataclass_fields__}\n"
   ]
  }
 ],
 "metadata": {
  "kernelspec": {
   "display_name": "base",
   "language": "python",
   "name": "python3"
  },
  "language_info": {
   "codemirror_mode": {
    "name": "ipython",
    "version": 3
   },
   "file_extension": ".py",
   "mimetype": "text/x-python",
   "name": "python",
   "nbconvert_exporter": "python",
   "pygments_lexer": "ipython3",
   "version": "3.12.4"
  }
 },
 "nbformat": 4,
 "nbformat_minor": 2
}
