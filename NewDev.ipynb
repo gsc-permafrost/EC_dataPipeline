{
 "cells": [
  {
   "cell_type": "markdown",
   "metadata": {},
   "source": [
    "# Fresh take\n",
    "\n",
    "## 1. Initalize sites"
   ]
  },
  {
   "cell_type": "code",
   "execution_count": null,
   "metadata": {},
   "outputs": [
    {
     "name": "stdout",
     "output_type": "stream",
     "text": [
      "c:\\Users\\jskeeter\\gsc-permafrost\\EC_dataPipeline\\dbPipeline.py line 57:\n",
      "{'SCL': {'siteID': 'SCL', 'description': 'Eddy covariance site in a permafrost wetland in the outer Mackenzie River Delta', 'Name': 'Swiss Cheese Lake', 'PI': 'June Skeeter, Peter Morse', 'startDate': datetime.date(2024, 7, 20), 'stopDate': None, 'landCoverType': 'Sedge Wetland', 'latitude': 69.2098, 'longitude': -135.2519067, 'Measurements': {'Flux': {'measurementID': 'Flux', 'fileType': 'TOBA', 'sampleFrequency': '50ms', 'description': 'High frequency (20 Hz) Eddy Covariance data', 'latitude': 69.2098, 'longitude': -135.2519067, 'startDate': datetime.date(2024, 7, 20), 'stopDate': None}, 'SSM_Profile': {'measurementID': 'SSM_Profile', 'fileType': 'HOBOcsv', 'sampleFrequency': '30m', 'description': 'HOBO logger in salix sedge meadow', 'latitude': 69.2253983, 'longitude': -135.2522633, 'startDate': datetime.date(2024, 7, 20), 'stopDate': None}, 'WSM_Profile': {'measurementID': 'WSM_Profile', 'fileType': 'HOBOcsv', 'sampleFrequency': '30m', 'description': 'HOBO logger in wet sedge meadow', 'latitude': 69.2258683, 'longitude': -135.252265, 'startDate': datetime.date(2024, 7, 20), 'stopDate': None}}}, 'FIL': {'siteID': 'FIL', 'description': None, 'Name': None, 'PI': None, 'startDate': None, 'stopDate': None, 'landCoverType': None, 'latitude': None, 'longitude': None, 'Measurements': {'measurementID': {'measurementID': 'measurementID', 'fileType': 'fileType', 'sampleFrequency': 'sampleFrequency', 'description': 'description', 'latitude': 0.0, 'longitude': 0.0, 'startDate': 'startDate', 'stopDate': 'stopDate'}}}}\n",
      "\n",
      "c:\\Users\\jskeeter\\gsc-permafrost\\EC_dataPipeline\\dbPipeline.py line 57:\n",
      "{'SCL': {'siteID': 'SCL', 'description': 'Eddy covariance site in a permafrost wetland in the outer Mackenzie River Delta', 'Name': 'Swiss Cheese Lake', 'PI': 'June Skeeter, Peter Morse', 'startDate': datetime.date(2024, 7, 20), 'stopDate': None, 'landCoverType': 'Sedge Wetland', 'latitude': 69.2098, 'longitude': -135.2519067, 'Measurements': {'Flux': {'measurementID': 'Flux', 'fileType': 'TOBA', 'sampleFrequency': '50ms', 'description': 'High frequency (20 Hz) Eddy Covariance data', 'latitude': 69.2098, 'longitude': -135.2519067, 'startDate': datetime.date(2024, 7, 20), 'stopDate': None}, 'SSM_Profile': {'measurementID': 'SSM_Profile', 'fileType': 'HOBOcsv', 'sampleFrequency': '30m', 'description': 'HOBO logger in salix sedge meadow', 'latitude': 69.2253983, 'longitude': -135.2522633, 'startDate': datetime.date(2024, 7, 20), 'stopDate': None}, 'WSM_Profile': {'measurementID': 'WSM_Profile', 'fileType': 'HOBOcsv', 'sampleFrequency': '30m', 'description': 'HOBO logger in wet sedge meadow', 'latitude': 69.2258683, 'longitude': -135.252265, 'startDate': datetime.date(2024, 7, 20), 'stopDate': None}}}, 'FIL': {'siteID': 'FIL', 'description': None, 'Name': None, 'PI': None, 'startDate': None, 'stopDate': None, 'landCoverType': None, 'latitude': None, 'longitude': None, 'Measurements': {'measurementID': {'measurementID': 'measurementID', 'fileType': 'fileType', 'sampleFrequency': 'sampleFrequency', 'description': 'description', 'latitude': 0.0, 'longitude': 0.0, 'startDate': 'startDate', 'stopDate': 'stopDate'}}}}\n",
      "\n",
      "c:\\Users\\jskeeter\\gsc-permafrost\\EC_dataPipeline\\dbPipeline.py line 57:\n",
      "{'SCL': {'siteID': 'SCL', 'description': 'Eddy covariance site in a permafrost wetland in the outer Mackenzie River Delta', 'Name': 'Swiss Cheese Lake', 'PI': 'June Skeeter, Peter Morse', 'startDate': datetime.date(2024, 7, 20), 'stopDate': None, 'landCoverType': 'Sedge Wetland', 'latitude': 69.2098, 'longitude': -135.2519067, 'Measurements': {'Flux': {'measurementID': 'Flux', 'fileType': 'TOBA', 'sampleFrequency': '50ms', 'description': 'High frequency (20 Hz) Eddy Covariance data', 'latitude': 69.2098, 'longitude': -135.2519067, 'startDate': datetime.date(2024, 7, 20), 'stopDate': None}, 'SSM_Profile': {'measurementID': 'SSM_Profile', 'fileType': 'HOBOcsv', 'sampleFrequency': '30m', 'description': 'HOBO logger in salix sedge meadow', 'latitude': 69.2253983, 'longitude': -135.2522633, 'startDate': datetime.date(2024, 7, 20), 'stopDate': None}, 'WSM_Profile': {'measurementID': 'WSM_Profile', 'fileType': 'HOBOcsv', 'sampleFrequency': '30m', 'description': 'HOBO logger in wet sedge meadow', 'latitude': 69.2258683, 'longitude': -135.252265, 'startDate': datetime.date(2024, 7, 20), 'stopDate': None}}}, 'FIL': {'siteID': 'FIL', 'description': None, 'Name': None, 'PI': None, 'startDate': None, 'stopDate': None, 'landCoverType': None, 'latitude': None, 'longitude': None, 'Measurements': {'measurementID': {'measurementID': 'measurementID', 'fileType': 'fileType', 'sampleFrequency': 'sampleFrequency', 'description': 'description', 'latitude': 0.0, 'longitude': 0.0, 'startDate': 'startDate', 'stopDate': 'stopDate'}}}}\n",
      "\n"
     ]
    }
   ],
   "source": [
    "import os\n",
    "import os\n",
    "import shutil\n",
    "import dbPipeline\n",
    "import importlib\n",
    "importlib.reload(dbPipeline)\n",
    "\n",
    "projectPath = os.path.join(os.getcwd(),'test')\n",
    "try:\n",
    "    shutil.rmtree(projectPath)\n",
    "except:\n",
    "    pass\n",
    "\n",
    "db = dbPipeline.database(projectPath=projectPath)\n",
    "# dbPipeline.projectInventory(projectPath=projectPath)\n",
    "\n",
    "Sites = r'example_data\\projectInventory_Template.yml'\n",
    "db.projectInventory()\n",
    "db.projectInventory(Sites=Sites)\n",
    "db.projectInventory(Sites = {'FIL':{'siteID':'FIL'}})"
   ]
  },
  {
   "cell_type": "code",
   "execution_count": 752,
   "metadata": {},
   "outputs": [
    {
     "data": {
      "text/plain": [
       "projectInventory(projectPath='c:\\\\Users\\\\jskeeter\\\\gsc-permafrost\\\\EC_dataPipeline\\\\test', fillChar='_', sepChar='//', verbose=False, projectInfo={'dateCreated': '2025-03-20T15:38:53.712651', 'dateModified': '2025-03-20T15:38:53.759269', 'directoryStructure': {'database': {'.info': 'binary database files', 'defaultFormat': {'data': {'dtype': 'float32', 'info': 'data are stored as 32-bit floating point numbers'}, 'timestamp': {'dtype': 'float64', 'info': 'the POSIX_timestamp is stored as a 64-bit floating point number, representing the seconds elapsed since 1970-01-01 00:00 UTC time', 'timezone': 'UTC'}}}, 'metadata': {'.info': 'yaml files containing metadata'}}}, Sites={'SCL': {'siteID': 'SCL', 'description': 'Eddy covariance site in a permafrost wetland in the outer Mackenzie River Delta', 'Name': 'Swiss Cheese Lake', 'PI': 'June Skeeter, Peter Morse', 'startDate': datetime.date(2024, 7, 20), 'stopDate': None, 'landCoverType': 'Sedge Wetland', 'latitude': 69.2098, 'longitude': -135.2519067, 'Measurements': {'Flux': {'measurementID': 'Flux', 'fileType': 'TOBA', 'sampleFrequency': '50ms', 'description': 'High frequency (20 Hz) Eddy Covariance data', 'latitude': 69.2098, 'longitude': -135.2519067, 'startDate': datetime.date(2024, 7, 20), 'stopDate': None}, 'SSM_Profile': {'measurementID': 'SSM_Profile', 'fileType': 'HOBOcsv', 'sampleFrequency': '30m', 'description': 'HOBO logger in salix sedge meadow', 'latitude': 69.2253983, 'longitude': -135.2522633, 'startDate': datetime.date(2024, 7, 20), 'stopDate': None}, 'WSM_Profile': {'measurementID': 'WSM_Profile', 'fileType': 'HOBOcsv', 'sampleFrequency': '30m', 'description': 'HOBO logger in wet sedge meadow', 'latitude': 69.2258683, 'longitude': -135.252265, 'startDate': datetime.date(2024, 7, 20), 'stopDate': None}}}}, fileSearch={'SCL': {'Flux': {'searchInventory': {'sourcePath': 'example_data', 'wildcard': '*Flux*.dat'}, 'projectPath': 'c:\\\\Users\\\\jskeeter\\\\gsc-permafrost\\\\EC_dataPipeline\\\\test', 'siteID': 'SCL', 'measurementID': 'Flux'}, 'SSM_Profile': {'searchInventory': {'sourcePath': 'example_data', 'wildcard': '*SSM*.csv'}, 'projectPath': 'c:\\\\Users\\\\jskeeter\\\\gsc-permafrost\\\\EC_dataPipeline\\\\test', 'siteID': 'SCL', 'measurementID': 'SSM_Profile'}, 'WSM_Profile': {'searchInventory': {'sourcePath': 'example_data', 'wildcard': '*WSM*.csv'}, 'projectPath': 'c:\\\\Users\\\\jskeeter\\\\gsc-permafrost\\\\EC_dataPipeline\\\\test', 'siteID': 'SCL', 'measurementID': 'WSM_Profile'}}})"
      ]
     },
     "execution_count": 752,
     "metadata": {},
     "output_type": "execute_result"
    }
   ],
   "source": [
    "importlib.reload(dbPipeline)\n",
    "\n",
    "fpath = r'example_data\\projectInventory_Template.yml'\n",
    "sourcePath = r'example_data'\n",
    "dbPipeline.projectInventory(\n",
    "    projectPath=projectPath,Sites=fpath,\n",
    "    fileSearch={'SCL':{'Flux':{'searchInventory':{'sourcePath':sourcePath,'wildcard':'*Flux*.dat'}},\n",
    "                       'SSM_Profile':{'searchInventory':{'sourcePath':sourcePath,'wildcard':'*SSM*.csv'}},\n",
    "                       'WSM_Profile':{'searchInventory':{'sourcePath':sourcePath,'wildcard':'*WSM*.csv'}},\n",
    "                       }}\n",
    ")"
   ]
  },
  {
   "cell_type": "code",
   "execution_count": 763,
   "metadata": {},
   "outputs": [
    {
     "name": "stdout",
     "output_type": "stream",
     "text": [
      "c:\\Users\\jskeeter\\gsc-permafrost\\EC_dataPipeline\\dbPipeline.py line 64:\n",
      "{'FIL': {'siteID': 'FIL', 'description': None, 'Name': None, 'PI': None, 'startDate': None, 'stopDate': None, 'landCoverType': None, 'latitude': None, 'longitude': None, 'Measurements': {'measurementID': {'measurementID': 'measurementID', 'fileType': 'fileType', 'sampleFrequency': 'sampleFrequency', 'description': 'description', 'latitude': 0.0, 'longitude': 0.0, 'startDate': 'startDate', 'stopDate': 'stopDate'}}}}\n",
      "\n"
     ]
    }
   ],
   "source": [
    "importlib.reload(dbPipeline)\n",
    "f = dbPipeline.database(projectPath=projectPath)\n",
    "f.projectInventory(Sites = {'FIL':{'siteID':'FIL'}})\n"
   ]
  },
  {
   "cell_type": "code",
   "execution_count": 665,
   "metadata": {},
   "outputs": [
    {
     "data": {
      "text/plain": [
       "projectInventory(projectPath='c:\\\\Users\\\\jskeeter\\\\gsc-permafrost\\\\EC_dataPipeline\\\\test', fillChar='_', sepChar='//', verbose=False, projectInfo={'dateCreated': '2025-03-20T13:41:35.964147', 'dateModified': '2025-03-20T14:27:26.493351', 'directoryStructure': {'database': {'.info': 'binary database files', 'defaultFormat': {'data': {'dtype': 'float32', 'info': 'data are stored as 32-bit floating point numbers'}, 'timestamp': {'dtype': 'float64', 'info': 'the POSIX_timestamp is stored as a 64-bit floating point number, representing the seconds elapsed since 1970-01-01 00:00 UTC time', 'timezone': 'UTC'}}}, 'metadata': {'.info': 'yaml files containing metadata'}}}, Sites={'SCL': {'siteID': 'SCL', 'description': 'Eddy covariance site in a permafrost wetland in the outer Mackenzie River Delta', 'Name': 'Swiss Cheese Lake', 'PI': 'June Skeeter, Peter Morse', 'startDate': datetime.date(2024, 7, 20), 'stopDate': None, 'landCoverType': 'Sedge Wetland', 'latitude': 69.2098, 'longitude': -135.2519067, 'Measurements': {'Flux': {'measurementID': 'Flux', 'fileType': 'TOBA', 'sampleFrequency': '50ms', 'description': 'High frequency (20 Hz) Eddy Covariance data', 'latitude': 69.2098, 'longitude': -135.2519067, 'startDate': datetime.date(2024, 7, 20), 'stopDate': None}, 'SSM_Profile': {'measurementID': 'SSM_Profile', 'fileType': 'HOBOcsv', 'sampleFrequency': '30m', 'description': 'HOBO logger in salix sedge meadow', 'latitude': 69.2253983, 'longitude': -135.2522633, 'startDate': datetime.date(2024, 7, 20), 'stopDate': None}, 'WSM_Profile': {'measurementID': 'WSM_Profile', 'fileType': 'HOBOcsv', 'sampleFrequency': '30m', 'description': 'HOBO logger in wet sedge meadow', 'latitude': 69.2258683, 'longitude': -135.252265, 'startDate': datetime.date(2024, 7, 20), 'stopDate': None}}}}, fileSearch={'projectPath': None, 'siteID': None, 'measurementID': None, 'template': True, 'searchInventory': {'ID': 'sourcePath\\\\*', 'sourcePath': 'sourcePath', 'wildcard': '*', 'nFiles': 0, 'nLoaded': 0, 'nPending': 0, 'fileList': [], 'loadList': [], 'template': True}})"
      ]
     },
     "execution_count": 665,
     "metadata": {},
     "output_type": "execute_result"
    }
   ],
   "source": [
    "import os\n",
    "import shutil\n",
    "import cleanDev as cD\n",
    "import importlib\n",
    "importlib.reload(cD)\n",
    "\n",
    "projectPath = os.path.join(os.getcwd(),'test')\n",
    "# try:\n",
    "#     shutil.rmtree(projectPath)\n",
    "# except:\n",
    "#     pass\n",
    "\n",
    "fpath = r'example_data\\projectInventory_Template.yml'\n",
    "sourcePath = r'example_data'\n",
    "cD.projectInventory(\n",
    "    projectPath=projectPath,Sites=fpath,\n",
    "    # fileSearch={'SCL':{'Flux':{'searchInventory':{'sourcePath':sourcePath,'wildcard':'*Flux*.dat'}}}}\n",
    "        # 'SCL':{\n",
    "        #     'SSM_Profile':cD.Source(sourcePath=sourcePath,fileExt='csv',matchPattern=['SSM','readout'],fileType='HOBOcsv').__dict__,\n",
    "        #     'WSM_Profile':cD.Source(sourcePath=sourcePath,fileExt='csv',matchPattern=['WSM','readout'],fileType='HOBOcsv').__dict__,\n",
    "        #     'Flux':cD.Source(sourcePath=sourcePath,fileExt='dat',matchPattern=['Flux'],fileType='TOBA').__dict__}}\n",
    ")\n"
   ]
  },
  {
   "cell_type": "code",
   "execution_count": 245,
   "metadata": {},
   "outputs": [
    {
     "name": "stdout",
     "output_type": "stream",
     "text": [
      "line 177: {'example_data\\\\*Flux*.dat': {'sourcePath': 'c:\\\\Users\\\\User\\\\GSC_Work\\\\EC_dataPipeline\\\\example_data', 'wildcard': '*Flux*.dat', 'nFiles': 5, 'nLoaded': 0, 'nPending': 5, 'fileList': ['20240912\\\\Flux_Data2628.dat', '20240912\\\\Flux_Data2629.dat', '20240912\\\\Flux_Data2630.dat', '20240912\\\\Flux_Data2631.dat', '20240912\\\\Flux_Data2632.dat'], 'loadList': [False, False, False, False, False]}}\n",
      "line 179: example_data\\*Flux*.dat\n"
     ]
    },
    {
     "data": {
      "text/plain": [
       "searchInventory(projectPath='c:\\\\Users\\\\User\\\\GSC_Work\\\\EC_dataPipeline\\\\test', siteID='SCL', measurementID='Flux', searchInventory={'example_data\\\\*Flux*.dat': {'sourcePath': 'c:\\\\Users\\\\User\\\\GSC_Work\\\\EC_dataPipeline\\\\example_data', 'wildcard': '*Flux*.dat', 'nFiles': 5, 'nLoaded': 0, 'nPending': 5}})"
      ]
     },
     "execution_count": 245,
     "metadata": {},
     "output_type": "execute_result"
    }
   ],
   "source": [
    "importlib.reload(cD)\n",
    "# cD.searchInventory(\n",
    "#     projectPath=projectPath,\n",
    "#     siteID='SCL',\n",
    "#     measurementID='Flux',\n",
    "#     searchInventory={\n",
    "#     'sourcePath':r'example_data',\n",
    "#     'fileType':'HOBOcsv',\n",
    "#     'fileExt':'csv',\n",
    "#     'matchPattern':['20240724','SSM','readout']\n",
    "#     })\n",
    "cD.searchInventory(\n",
    "    projectPath=projectPath,\n",
    "    siteID='SCL',\n",
    "    measurementID='Flux',\n",
    "    searchInventory={\n",
    "    'sourcePath':r'example_data',\n",
    "    'wildcard':'*Flux*.dat',\n",
    "    })"
   ]
  },
  {
   "cell_type": "code",
   "execution_count": 227,
   "metadata": {},
   "outputs": [
    {
     "name": "stdout",
     "output_type": "stream",
     "text": [
      "['c:\\\\Users\\\\User\\\\GSC_Work\\\\EC_dataPipeline\\\\example_data\\\\projectInventory_Template.yml', 'c:\\\\Users\\\\User\\\\GSC_Work\\\\EC_dataPipeline\\\\example_data\\\\siteInventory.yml']\n",
      "['c:\\\\Users\\\\User\\\\GSC_Work\\\\EC_dataPipeline\\\\example_data\\\\20240724\\\\20750527-SHSC.WSM.SGT.240720_240724readout.csv', 'c:\\\\Users\\\\User\\\\GSC_Work\\\\EC_dataPipeline\\\\example_data\\\\20240724\\\\20750528-SHSC.SSM.SGT.240720_240724readout.csv']\n",
      "['c:\\\\Users\\\\User\\\\GSC_Work\\\\EC_dataPipeline\\\\example_data\\\\20240912\\\\Flux_Data2628.dat', 'c:\\\\Users\\\\User\\\\GSC_Work\\\\EC_dataPipeline\\\\example_data\\\\20240912\\\\Flux_Data2629.dat', 'c:\\\\Users\\\\User\\\\GSC_Work\\\\EC_dataPipeline\\\\example_data\\\\20240912\\\\Flux_Data2630.dat', 'c:\\\\Users\\\\User\\\\GSC_Work\\\\EC_dataPipeline\\\\example_data\\\\20240912\\\\Flux_Data2631.dat', 'c:\\\\Users\\\\User\\\\GSC_Work\\\\EC_dataPipeline\\\\example_data\\\\20240912\\\\Flux_Data2632.dat']\n",
      "['c:\\\\Users\\\\User\\\\GSC_Work\\\\EC_dataPipeline\\\\example_data\\\\20240914\\\\20750527-SHSC.WSM.SGT.240720_240913readout.csv', 'c:\\\\Users\\\\User\\\\GSC_Work\\\\EC_dataPipeline\\\\example_data\\\\20240914\\\\20750528-SHSC.SSM.SGT.240720_240913readout.csv', 'c:\\\\Users\\\\User\\\\GSC_Work\\\\EC_dataPipeline\\\\example_data\\\\20240914\\\\WX_data.dat']\n",
      "['c:\\\\Users\\\\User\\\\GSC_Work\\\\EC_dataPipeline\\\\example_data\\\\SCL\\\\measurementInventory copy.yml', 'c:\\\\Users\\\\User\\\\GSC_Work\\\\EC_dataPipeline\\\\example_data\\\\SCL\\\\measurementInventory.yml']\n"
     ]
    }
   ],
   "source": [
    "import fnmatch\n",
    "sourcePath=r'example_data'\n",
    "sourcePath=os.path.abspath(sourcePath)\n",
    "for dir,_,fn in os.walk(sourcePath):\n",
    "   #  subDir = os.path.relpath(dir,sourcePath)\n",
    "    print([os.path.join(dir,f) for f in fn \n",
    "           if fnmatch.fnmatch(os.path.join(sourcePath,f),os.path.join(sourcePath+'*'))\n",
    "        #    and not fnmatch.fnmatch(os.path.join(subDir,f),'202409*SSM*readout*.csv')\n",
    "           ])"
   ]
  },
  {
   "cell_type": "code",
   "execution_count": 320,
   "metadata": {},
   "outputs": [
    {
     "data": {
      "text/plain": [
       "'uID 2025-03-19T16:22:45'"
      ]
     },
     "execution_count": 320,
     "metadata": {},
     "output_type": "execute_result"
    }
   ],
   "source": [
    "\n",
    "cD.Search().uID"
   ]
  },
  {
   "cell_type": "code",
   "execution_count": 58,
   "metadata": {},
   "outputs": [
    {
     "name": "stdout",
     "output_type": "stream",
     "text": [
      "sourceFiles(siteID='SCL', measurementID='Flux', sourceFiles={'X': {'sourceID': 'X', 'fileType': None, 'fileExt': None, 'sourcePath': None, 'matchPattern': [], 'excludePattern': []}})\n"
     ]
    }
   ],
   "source": [
    "from dataclasses import dataclass, field\n",
    "import helperFunctions as helper\n",
    "@dataclass\n",
    "class fileSearch:\n",
    "    sourceID: str = 'sourceID'\n",
    "    fileType: str = None\n",
    "    fileExt: str = None\n",
    "    sourcePath: str = None\n",
    "    matchPattern: list = field(default_factory=lambda:[])\n",
    "    excludePattern: list = field(default_factory=lambda:[])\n",
    "    \n",
    "    def __post_init__(self):\n",
    "        self.sourceID = helper.safeFmt(self.sourceID)\n",
    "        for f,v in self.__dataclass_fields__.items():\n",
    "            if v.type is list:\n",
    "                if type(self.__dict__[f]) is not list:\n",
    "                    self.__dict__[f] = [self.__dict__[f]]\n",
    "        if self.sourcePath:\n",
    "            self.sourcePath = os.path.abspath(self.sourcePath)\n",
    "        pass\n",
    "\n",
    "@dataclass\n",
    "class sourceFiles:\n",
    "    siteID: str\n",
    "    measurementID: str\n",
    "    sourceFiles: fileSearch\n",
    "\n",
    "    def __post_init__(self):\n",
    "        if type(list(self.sourceFiles.values())[0]) is dict:\n",
    "            self.sourceFiles = {fileSearch(**value).sourceID:fileSearch(**value).__dict__ for key,value in self.sourceFiles.items()}\n",
    "        else:\n",
    "            self.sourceFiles = {fileSearch(**self.sourceFiles).sourceID:fileSearch(**self.sourceFiles).__dict__}\n",
    "\n",
    "data = {'siteID': 'SCL', 'measurementID': 'Flux', 'sourceFiles': {'sourceID':'X'}}\n",
    "\n",
    "print(sourceFiles(**data))"
   ]
  },
  {
   "cell_type": "code",
   "execution_count": 92,
   "metadata": {},
   "outputs": [
    {
     "name": "stdout",
     "output_type": "stream",
     "text": [
      "SCL\n",
      "['siteID', 'description', 'Name', 'PI', 'startDate', 'stopDate', 'landCoverType', 'latitude', 'longitude', 'samplePoints']\n",
      "Saving:  c:\\Users\\jskeeter\\gsc-permafrost\\EC_dataPipeline\\test\\metadata\\SCL\\samplePoints.yml\n",
      "Saving:  siteInventory.yml\n",
      "ILL\n",
      "['siteID', 'description', 'Name', 'PI', 'startDate', 'stopDate', 'landCoverType', 'latitude', 'longitude', 'samplePoints']\n",
      "Saving:  c:\\Users\\jskeeter\\gsc-permafrost\\EC_dataPipeline\\test\\metadata\\ILL\\samplePoints.yml\n",
      "Saving:  siteInventory.yml\n",
      "FIL\n",
      "['siteID', 'description', 'Name', 'PI', 'startDate', 'stopDate', 'landCoverType', 'latitude', 'longitude', 'samplePoints']\n",
      "Saving:  c:\\Users\\jskeeter\\gsc-permafrost\\EC_dataPipeline\\test\\metadata\\FIL\\samplePoints.yml\n",
      "Saving:  siteInventory.yml\n"
     ]
    }
   ],
   "source": [
    "import os\n",
    "import shutil\n",
    "import importlib\n",
    "import NewDev as ND\n",
    "import helperFunctions\n",
    "importlib.reload(ND)  \n",
    "importlib.reload(helperFunctions)   \n",
    "\n",
    "# # fresh database\n",
    "projectPath = os.path.join(os.getcwd(),'test')\n",
    "try:\n",
    "    shutil.rmtree(projectPath)\n",
    "except:\n",
    "    pass\n",
    "\n",
    "sites = helperFunctions.loadDict('example_data/siteInventory.yml')\n",
    "for site in sites.values():\n",
    "    ND.siteInventory(projectPath=projectPath,**site)\n",
    "\n",
    "\n",
    "# source = r'example_data'\n",
    "# ND.measurementInventory(projectPath=projectPath,\n",
    "#   siteID='SCL',\n",
    "#   measurementID='Soil Profile',\n",
    "#   pointID='SSM',\n",
    "#   fileType='HOBOcsv',\n",
    "#   baseFrequency='30min',\n",
    "#   description = 'Soil temperature profiles in the salix sedge meadow',\n",
    "#   sourceInventory={\n",
    "#     '20240724':{\n",
    "#         'sourcePath':source,\n",
    "#         'sourceID':'20240724',\n",
    "#         'matchPattern':['20240724','SSM','readout'],\n",
    "#         'fileExt':'csv'},\n",
    "#     '20240914':{\n",
    "#         'sourcePath':source,\n",
    "#         'sourceID':'20240914',\n",
    "#         'matchPattern':['20240914','SSM','readout'],\n",
    "#         'fileExt':'csv'},\n",
    "#   })"
   ]
  },
  {
   "cell_type": "markdown",
   "metadata": {},
   "source": [
    "## 2. Define measurments"
   ]
  },
  {
   "cell_type": "code",
   "execution_count": 46,
   "metadata": {},
   "outputs": [],
   "source": [
    "\n",
    "ND.measurementInventory(projectPath=projectPath,\n",
    "  siteID='SCL',\n",
    "  measurementID='Flux',\n",
    "  fileType='TOBA',\n",
    "  baseFrequency='50ms',\n",
    "  measurementDescription = 'High frequency eddy covariance data'\n",
    "  )\n",
    "ND.measurementInventory(projectPath=projectPath,\n",
    "  siteID='SCL',\n",
    "  measurementID='Meteorologic',\n",
    "  fileType='TOBA',\n",
    "  baseFrequency='30min',\n",
    "  measurementDescription = 'Low frequency meteorological data'\n",
    "  )\n",
    "ND.measurementInventory(projectPath=projectPath,\n",
    "  siteID='SCL',\n",
    "  measurementID='Metadata',\n",
    "  fileType='TOBA',\n",
    "  baseFrequency='24h',\n",
    "  measurementDescription = 'Daily metadata summaries'\n",
    "  )\n",
    "ND.measurementInventory(projectPath=projectPath,\n",
    "  siteID='SCL',\n",
    "  measurementID='Soil Profile',\n",
    "  subsiteID='SSM',\n",
    "  fileType='HOBOcsv',\n",
    "  baseFrequency='30min',\n",
    "  measurementDescription = 'Soil temperature profiles in the salix sedge meadow'\n",
    "  )\n",
    "\n",
    "a = ND.measurementInventory(projectPath=projectPath,\n",
    "  siteID='SCL',\n",
    "  measurementID='Soil Profile',\n",
    "  subsiteID='WSM',\n",
    "  fileType='HOBOcsv',\n",
    "  baseFrequency='30min',\n",
    "  measurementDescription = 'Soil temperature profiles in the wet sedge meadow'\n",
    "  )\n",
    "# a.__dict__"
   ]
  },
  {
   "cell_type": "code",
   "execution_count": 48,
   "metadata": {},
   "outputs": [
    {
     "name": "stdout",
     "output_type": "stream",
     "text": [
      "c:\\Users\\jskeeter\\gsc-permafrost\\EC_dataPipeline\\example_data\\20240724\n"
     ]
    }
   ],
   "source": [
    "# importlib.reload(ND)\n",
    "source = r'example_data\\20240724'\n",
    "# t = ND.searchInventory(projectPath=projectPath,\n",
    "#     siteID='SCL',\n",
    "#     measurementID='Soil_Profile',\n",
    "#     subsiteID='SSM',\n",
    "#     fileType='HOBOcsv',\n",
    "#     sourcePath=source,\n",
    "#     fileExt='csv',\n",
    "#     matchPattern=['SSM','readout']\n",
    "#     )\n",
    "\n",
    "# t = ND.searchInventory(projectPath=projectPath,\n",
    "#     siteID='SCL',\n",
    "#     measurementID='Soil_Profile',\n",
    "#     subsiteID='WSM',\n",
    "#     fileType='HOBOcsv',\n",
    "#     sourcePath=source,\n",
    "#     fileExt='csv',\n",
    "#     matchPattern=['WSM','readout']\n",
    "#     )\n",
    "\n",
    "# t.findNewSourceFiles()\n",
    "print(os.path.abspath(source))"
   ]
  },
  {
   "cell_type": "code",
   "execution_count": 39,
   "metadata": {},
   "outputs": [
    {
     "name": "stdout",
     "output_type": "stream",
     "text": [
      "Validating metadta in:  c:\\Users\\User\\GSC_Work\\EC_dataPipeline\\test\n"
     ]
    }
   ],
   "source": [
    "importlib.reload(ND)\n",
    "ND.database(verbose=True,projectPath=projectPath).validate()\n",
    "# ND.siteInventory(projectPath=projectPath)\n",
    "# any([j==1 for j in [1,2,3]])"
   ]
  },
  {
   "cell_type": "code",
   "execution_count": null,
   "metadata": {},
   "outputs": [
    {
     "ename": "AttributeError",
     "evalue": "module 'NewDev' has no attribute 'sourcefileInventory'",
     "output_type": "error",
     "traceback": [
      "\u001b[31m---------------------------------------------------------------------------\u001b[39m",
      "\u001b[31mAttributeError\u001b[39m                            Traceback (most recent call last)",
      "\u001b[36mCell\u001b[39m\u001b[36m \u001b[39m\u001b[32mIn[4]\u001b[39m\u001b[32m, line 3\u001b[39m\n\u001b[32m      1\u001b[39m importlib.reload(ND)\n\u001b[32m      2\u001b[39m source = \u001b[33mr\u001b[39m\u001b[33m'\u001b[39m\u001b[33mexample_data\u001b[39m\u001b[33m\\\u001b[39m\u001b[33m20240724\u001b[39m\u001b[33m'\u001b[39m\n\u001b[32m----> \u001b[39m\u001b[32m3\u001b[39m t = \u001b[43mND\u001b[49m\u001b[43m.\u001b[49m\u001b[43msourcefileInventory\u001b[49m(projectPath=projectPath,\n\u001b[32m      4\u001b[39m     siteID=\u001b[33m'\u001b[39m\u001b[33mSCL\u001b[39m\u001b[33m'\u001b[39m,\n\u001b[32m      5\u001b[39m     index=\u001b[33m'\u001b[39m\u001b[33mSoil_Profile-WSM-HOBOcsv\u001b[39m\u001b[33m'\u001b[39m,\n\u001b[32m      6\u001b[39m     sourcePath=source,\n\u001b[32m      7\u001b[39m     fileExt=\u001b[33m'\u001b[39m\u001b[33mcsv\u001b[39m\u001b[33m'\u001b[39m,\n\u001b[32m      8\u001b[39m     matchPattern=\u001b[33m'\u001b[39m\u001b[33mSSsM\u001b[39m\u001b[33m'\u001b[39m)\n\u001b[32m      9\u001b[39m t = ND.sourcefileInventory(projectPath=projectPath,\n\u001b[32m     10\u001b[39m     siteID=\u001b[33m'\u001b[39m\u001b[33mSCL\u001b[39m\u001b[33m'\u001b[39m,\n\u001b[32m     11\u001b[39m     index=\u001b[33m'\u001b[39m\u001b[33mSoil_Profile-WSM-HOBOcsv\u001b[39m\u001b[33m'\u001b[39m,\n\u001b[32m     12\u001b[39m     sourcePath=source,\n\u001b[32m     13\u001b[39m     fileExt=\u001b[33m'\u001b[39m\u001b[33mcsv\u001b[39m\u001b[33m'\u001b[39m,\n\u001b[32m     14\u001b[39m     matchPattern=\u001b[33m'\u001b[39m\u001b[33mSSsM\u001b[39m\u001b[33m'\u001b[39m)\n\u001b[32m     16\u001b[39m source = \u001b[33mr\u001b[39m\u001b[33m'\u001b[39m\u001b[33mexample_data\u001b[39m\u001b[33m\\\u001b[39m\u001b[33m20240914\u001b[39m\u001b[33m'\u001b[39m\n",
      "\u001b[31mAttributeError\u001b[39m: module 'NewDev' has no attribute 'sourcefileInventory'"
     ]
    }
   ],
   "source": [
    "# importlib.reload(ND)\n",
    "# source = r'example_data\\20240724'\n",
    "# t = ND.sourcefileInventory(projectPath=projectPath,\n",
    "#     siteID='SCL',\n",
    "#     index='Soil_Profile-WSM-HOBOcsv',\n",
    "#     sourcePath=source,\n",
    "#     fileExt='csv',\n",
    "#     matchPattern='SSsM')\n",
    "# t = ND.sourcefileInventory(projectPath=projectPath,\n",
    "#     siteID='SCL',\n",
    "#     index='Soil_Profile-WSM-HOBOcsv',\n",
    "#     sourcePath=source,\n",
    "#     fileExt='csv',\n",
    "#     matchPattern='SSsM')\n",
    "\n",
    "# source = r'example_data\\20240914'\n",
    "# t = ND.sourcefileInventory(projectPath=projectPath,\n",
    "#     siteID='SCL',\n",
    "#     index='Soil_Profile-WSM-HOBOcsv',\n",
    "#     sourcePath=source,\n",
    "#     fileExt='csv',\n",
    "#     matchPattern='SSM')\n",
    "# # t.subIndex"
   ]
  },
  {
   "cell_type": "code",
   "execution_count": 454,
   "metadata": {},
   "outputs": [
    {
     "data": {
      "text/plain": [
       "('ab',)"
      ]
     },
     "execution_count": 454,
     "metadata": {},
     "output_type": "execute_result"
    }
   ],
   "source": [
    "# \n",
    "# tuple(['a','b'])\n",
    "tuple(['ab'])"
   ]
  },
  {
   "cell_type": "markdown",
   "metadata": {},
   "source": [
    "## Setup an inventory"
   ]
  },
  {
   "cell_type": "code",
   "execution_count": 27,
   "metadata": {},
   "outputs": [
    {
     "name": "stdout",
     "output_type": "stream",
     "text": [
      "{'siteID': 'SCL', 'siteDescription': 'Eddy covariance site in a permafrost wetland in the outer Mackenzie River Delta', 'Name': 'Swiss Cheese Lake', 'PI': 'June Skeeter, Peter Morse', 'startDate': '2024-07-20', 'stopDate': None, 'landCoverType': 'Sedge Wetland', 'latitude': 69.3722778, 'longitude': -134.8810889, 'subSites': {'SSM': {'subsiteID': 'SSM', 'description': 'Salix sedge meadow', 'latitude': 69.3722778, 'longitude': -134.8810889}, 'WSM': {'subsiteID': 'WSM', 'description': 'Wet sedge meadow', 'latitude': 69.3722778, 'longitude': -134.8810889}}}\n",
      "Saving:  c:\\Users\\jskeeter\\gsc-permafrost\\EC_dataPipeline\\test\\metadata\\SCL\\subSites.yml\n",
      "Saving:  siteInventory.yml\n",
      "{'siteID': 'ILL', 'Name': 'Illisarvik', 'PI': 'Chris Burn', 'siteDescription': \"Eddy Covariance site in an artificially drained thermokarst lake basin on Richard's Island\", 'stopDate': '2016-08-07', 'landCoverType': 'Low Shrub/Meadow', 'latitude': 69.4798611, 'longitude': 'W 134 50.8385278', 'startDate': '2016-07-08'}\n",
      "Saving:  c:\\Users\\jskeeter\\gsc-permafrost\\EC_dataPipeline\\test\\metadata\\ILL\\subSites.yml\n",
      "Saving:  siteInventory.yml\n",
      "{'siteID': 'FIL', 'Name': 'Fish Island', 'PI': 'June Skeeter', 'siteDescription': 'Eddy covariance station low center polygon permafrost peatland site in the Mackenzie River Delta', 'stopDate': '2017-09-13', 'landCoverType': 'Peatland', 'latitude': 69.3722778, 'longitude': -134.8810889, 'startDate': '2017-06-21', 'subSites': {'RIM': {'subsiteID': 'RIM', 'description': 'Polygon rim'}, 'CNT': {'subsiteID': 'CNT', 'description': 'Polygon centre'}}}\n",
      "Saving:  c:\\Users\\jskeeter\\gsc-permafrost\\EC_dataPipeline\\test\\metadata\\FIL\\subSites.yml\n",
      "Saving:  siteInventory.yml\n"
     ]
    },
    {
     "ename": "TypeError",
     "evalue": "measurementInventory.__init__() got an unexpected keyword argument 'description'",
     "output_type": "error",
     "traceback": [
      "\u001b[31m---------------------------------------------------------------------------\u001b[39m",
      "\u001b[31mTypeError\u001b[39m                                 Traceback (most recent call last)",
      "\u001b[36mCell\u001b[39m\u001b[36m \u001b[39m\u001b[32mIn[27]\u001b[39m\u001b[32m, line 28\u001b[39m\n\u001b[32m     26\u001b[39m template = hf.loadDict(\u001b[33mr\u001b[39m\u001b[33m'\u001b[39m\u001b[33mexample_data\u001b[39m\u001b[33m\\\u001b[39m\u001b[33mSCL\u001b[39m\u001b[33m\\\u001b[39m\u001b[33mmeasurementInventory.yml\u001b[39m\u001b[33m'\u001b[39m)\n\u001b[32m     27\u001b[39m \u001b[38;5;28;01mfor\u001b[39;00m measurementID,values \u001b[38;5;129;01min\u001b[39;00m template.items():\n\u001b[32m---> \u001b[39m\u001b[32m28\u001b[39m     \u001b[43mND\u001b[49m\u001b[43m.\u001b[49m\u001b[43mmeasurementInventory\u001b[49m\u001b[43m(\u001b[49m\u001b[43mprojectPath\u001b[49m\u001b[43m=\u001b[49m\u001b[43mprojectPath\u001b[49m\u001b[43m,\u001b[49m\u001b[43mmeasurementID\u001b[49m\u001b[43m=\u001b[49m\u001b[43mmeasurementID\u001b[49m\u001b[43m,\u001b[49m\u001b[43msiteID\u001b[49m\u001b[43m=\u001b[49m\u001b[33;43m'\u001b[39;49m\u001b[33;43mSCL\u001b[39;49m\u001b[33;43m'\u001b[39;49m\u001b[43m,\u001b[49m\u001b[43m*\u001b[49m\u001b[43m*\u001b[49m\u001b[43mvalues\u001b[49m\u001b[43m)\u001b[49m\n\u001b[32m     30\u001b[39m source = \u001b[33mr\u001b[39m\u001b[33m'\u001b[39m\u001b[33mexample_data\u001b[39m\u001b[33m'\u001b[39m\n\u001b[32m     31\u001b[39m ND.fileInventory(projectPath=projectPath,source=source,siteID=\u001b[33m'\u001b[39m\u001b[33mSCL\u001b[39m\u001b[33m'\u001b[39m,measurementID=\u001b[33m'\u001b[39m\u001b[33mProfile_SSM\u001b[39m\u001b[33m'\u001b[39m,ext=\u001b[33m'\u001b[39m\u001b[33mcsv\u001b[39m\u001b[33m'\u001b[39m,matchPattern=\u001b[33m'\u001b[39m\u001b[33mSSM\u001b[39m\u001b[33m'\u001b[39m)\u001b[38;5;66;03m#,lookup=True)\u001b[39;00m\n",
      "\u001b[31mTypeError\u001b[39m: measurementInventory.__init__() got an unexpected keyword argument 'description'"
     ]
    }
   ],
   "source": [
    "import os\n",
    "import yaml\n",
    "import time\n",
    "import shutil\n",
    "import numpy as np\n",
    "import pandas as pd\n",
    "import importlib\n",
    "import NewDev as ND\n",
    "import helperFunctions as hf\n",
    "importlib.reload(ND)     \n",
    "\n",
    "# fresh database\n",
    "projectPath = os.path.join(os.getcwd(),'test')\n",
    "try:\n",
    "    shutil.rmtree(projectPath)\n",
    "except:\n",
    "    pass\n",
    "# ND.databaseProject(projectPath)\n",
    "\n",
    "# load templates\n",
    "template = hf.loadDict(r'example_data\\siteInventory.yml')\n",
    "for siteID,values in template.items():\n",
    "    print(values)\n",
    "    ND.siteInventory(projectPath=projectPath,**values)\n",
    "\n",
    "template = hf.loadDict(r'example_data\\SCL\\measurementInventory.yml')\n",
    "for measurementID,values in template.items():\n",
    "    ND.measurementInventory(projectPath=projectPath,measurementID=measurementID,siteID='SCL',**values)\n",
    "\n",
    "source = r'example_data'\n",
    "ND.fileInventory(projectPath=projectPath,source=source,siteID='SCL',measurementID='Profile_SSM',ext='csv',matchPattern='SSM')#,lookup=True)\n",
    "ND.fileInventory(projectPath=projectPath,source=source,siteID='SCL',measurementID='Profile_WSM',ext='csv',matchPattern='WSM')#,lookup=True)"
   ]
  },
  {
   "cell_type": "code",
   "execution_count": 429,
   "metadata": {},
   "outputs": [
    {
     "ename": "TypeError",
     "evalue": "unhashable type: 'list'",
     "output_type": "error",
     "traceback": [
      "\u001b[31m---------------------------------------------------------------------------\u001b[39m",
      "\u001b[31mTypeError\u001b[39m                                 Traceback (most recent call last)",
      "\u001b[36mCell\u001b[39m\u001b[36m \u001b[39m\u001b[32mIn[429]\u001b[39m\u001b[32m, line 5\u001b[39m\n\u001b[32m      1\u001b[39m \u001b[38;5;66;03m# ND.fileInventory(projectPath=projectPath,siteID='SCL',measurementID='Profile_WSM',lookup=True).sessionMetadata\u001b[39;00m\n\u001b[32m      2\u001b[39m \u001b[38;5;66;03m# # a = None\u001b[39;00m\n\u001b[32m      3\u001b[39m \u001b[38;5;66;03m# # if a:\u001b[39;00m\n\u001b[32m      4\u001b[39m \u001b[38;5;66;03m# #     print('d')\u001b[39;00m\n\u001b[32m----> \u001b[39m\u001b[32m5\u001b[39m d={[\u001b[33m'\u001b[39m\u001b[33m1\u001b[39m\u001b[33m'\u001b[39m,\u001b[33m'\u001b[39m\u001b[33m2\u001b[39m\u001b[33m'\u001b[39m]:\u001b[33m'\u001b[39m\u001b[33mx\u001b[39m\u001b[33m'\u001b[39m}\n",
      "\u001b[31mTypeError\u001b[39m: unhashable type: 'list'"
     ]
    }
   ],
   "source": [
    "# ND.fileInventory(projectPath=projectPath,siteID='SCL',measurementID='Profile_WSM',lookup=True).sessionMetadata\n",
    "# # a = None\n",
    "# # if a:\n",
    "# #     print('d')\n",
    "d={['1','2']:'x'}"
   ]
  },
  {
   "cell_type": "markdown",
   "metadata": {},
   "source": [
    "## File Management"
   ]
  },
  {
   "cell_type": "code",
   "execution_count": null,
   "metadata": {},
   "outputs": [
    {
     "data": {
      "text/plain": [
       "{'c:\\\\Users\\\\jskeeter\\\\gsc-permafrost\\\\EC_dataPipeline\\\\example_data': {'ext': 'csv',\n",
       "  'matchPattern': ['SSM'],\n",
       "  'excludePattern': [],\n",
       "  'fileList': [['20240724\\\\20750528-SHSC.SSM.SGT.240720_240724readout.csv',\n",
       "    False],\n",
       "   ['20240914\\\\20750528-SHSC.SSM.SGT.240720_240913readout.csv', False]]}}"
      ]
     },
     "execution_count": 119,
     "metadata": {},
     "output_type": "execute_result"
    }
   ],
   "source": [
    "import time\n",
    "import rawDataFile as rd\n",
    "importlib.reload(rd)\n",
    "source = r'example_data'\n",
    "T1 = time.time()\n",
    "\n",
    "t = rd.fileInventory(projectPath=projectPath,source=source,siteID='SCL',measurementID='Profile_SSM',ext='csv',matchPattern='SSM',lookup=True)\n",
    "\n",
    "t.inventory"
   ]
  },
  {
   "cell_type": "code",
   "execution_count": null,
   "metadata": {},
   "outputs": [
    {
     "data": {
      "text/plain": [
       "DatetimeIndex([       '2025-03-01 00:00:00', '2025-03-01 00:00:00.050000',\n",
       "               '2025-03-01 00:00:00.100000', '2025-03-01 00:00:00.150000',\n",
       "               '2025-03-01 00:00:00.200000', '2025-03-01 00:00:00.250000',\n",
       "               '2025-03-01 00:00:00.300000', '2025-03-01 00:00:00.350000',\n",
       "               '2025-03-01 00:00:00.400000', '2025-03-01 00:00:00.450000',\n",
       "               ...\n",
       "               '2025-03-01 23:59:59.550000', '2025-03-01 23:59:59.600000',\n",
       "               '2025-03-01 23:59:59.650000', '2025-03-01 23:59:59.700000',\n",
       "               '2025-03-01 23:59:59.750000', '2025-03-01 23:59:59.800000',\n",
       "               '2025-03-01 23:59:59.850000', '2025-03-01 23:59:59.900000',\n",
       "               '2025-03-01 23:59:59.950000',        '2025-03-02 00:00:00'],\n",
       "              dtype='datetime64[ns]', length=1728001, freq='50ms')"
      ]
     },
     "execution_count": 1,
     "metadata": {},
     "output_type": "execute_result"
    }
   ],
   "source": [
    "import pandas as pd\n",
    "pd.date_range('2025-03-01','2025-03-02',freq='50ms')"
   ]
  },
  {
   "cell_type": "code",
   "execution_count": null,
   "metadata": {},
   "outputs": [
    {
     "name": "stdout",
     "output_type": "stream",
     "text": [
      "{'TS_1_1_1': {'variableName': 'TS', 'originalName': 'Temp, °C (LGR S/N: 20750527, SEN S/N: 20750527, LBL: 5)', 'ignore': False, 'unit': 'deg C', 'dtype': '<f8', 'variableDescription': 'Soil Temperature at 5 cm depth', 'vertical': 1, 'horizontal': 1, 'replicate': 1}, 'TS_2_1_1': {'variableName': 'TS', 'originalName': 'Temp, °C (LGR S/N: 20750527, SEN S/N: 20750527, LBL: 25)', 'ignore': False, 'unit': 'deg C', 'dtype': '<f8', 'variableDescription': 'Soil Temperature at 25 cm depth', 'vertical': 2, 'horizontal': 1, 'replicate': 1}, 'TS_3_1_1': {'variableName': 'TS', 'originalName': 'Temp, °C (LGR S/N: 20750527, SEN S/N: 20750527, LBL: 50)', 'ignore': False, 'unit': 'deg C', 'dtype': '<f8', 'variableDescription': 'Soil Temperature at 50 cm depth', 'vertical': 3, 'horizontal': 1, 'replicate': 1}, 'TS_4_1_1': {'variableName': 'TS', 'originalName': 'Temp, °C (LGR S/N: 20750527, SEN S/N: 20750527, LBL: 100)', 'ignore': False, 'unit': 'deg C', 'dtype': '<f8', 'variableDescription': 'Soil Temperature at 100 cm depth', 'vertical': 4, 'horizontal': 1, 'replicate': 1}}\n"
     ]
    }
   ],
   "source": [
    "# fn\n",
    "import os\n",
    "import rawDataFile as rawDataFile\n",
    "importlib.reload(rawDataFile)\n",
    "# fn = fi['SCL']['TS_Profile-WSM']['c:\\\\Users\\\\jskeeter\\\\gsc-permafrost\\\\SCL_2024']['sourceFiles'][0]\n",
    "# fn = os.path.join('c:\\\\Users\\\\jskeeter\\\\gsc-permafrost\\\\SCL_2024',fn)\n",
    "fn = r'c:\\\\Users\\\\jskeeter\\\\gsc-permafrost\\\\SCL_2024\\\\20240724\\\\20750527-SHSC.WSM.SGT.240720_240724readout.csv'\n",
    "rd = rawDataFile.hoboCSV(projectPath=projectPath,source=fn,siteID='SCL',measurementType='TS_Profile',loggerID='WSM',\n",
    "                         Metadata='test.yml')\n",
    "\n",
    "with open('test.yml','w+') as f:\n",
    "    yaml.safe_dump(rd.Metadata,f,sort_keys=False)"
   ]
  },
  {
   "cell_type": "markdown",
   "metadata": {},
   "source": [
    "# Database"
   ]
  },
  {
   "cell_type": "code",
   "execution_count": null,
   "metadata": {},
   "outputs": [
    {
     "name": "stdout",
     "output_type": "stream",
     "text": [
      "_ {'ignore': True, 'name_in': '#', 'unit_in': None, 'safe_name': '_', 'dtype': '<i8', 'variableDescription': None}\n",
      "Date_Time_GMT_00_00 {'ignore': True, 'name_in': 'Date Time, GMT+00:00', 'unit_in': None, 'safe_name': 'Date_Time_GMT_00_00', 'dtype': '|O', 'variableDescription': None}\n",
      "Temp_C_5cm {'ignore': False, 'name_in': 'Temp, °C (5cm', 'unit_in': None, 'safe_name': 'Temp_C_5cm', 'dtype': '<f8', 'variableDescription': None}\n",
      "Temp_C_25cm {'ignore': False, 'name_in': 'Temp, °C (25cm', 'unit_in': None, 'safe_name': 'Temp_C_25cm', 'dtype': '<f8', 'variableDescription': None}\n",
      "Temp_C_50cm {'ignore': False, 'name_in': 'Temp, °C (50cm', 'unit_in': None, 'safe_name': 'Temp_C_50cm', 'dtype': '<f8', 'variableDescription': None}\n",
      "Temp_C_100cm {'ignore': False, 'name_in': 'Temp, °C (100cm', 'unit_in': None, 'safe_name': 'Temp_C_100cm', 'dtype': '<f8', 'variableDescription': None}\n"
     ]
    },
    {
     "data": {
      "text/plain": [
       "rawDatabaseImport(projectPath='c:\\\\Users\\\\User\\\\GSC_Work\\\\EC_dataPipeline\\\\test', overwrite=False, verbose=True, logFile='Creating Database: 2025-03-01 21:22:42\\n', metadataFile={'defaultFormat': {'data': {'dtype': 'float32', 'info': 'data are stored as 32-bit floating point numbers'}, 'POSIX_timestamp': {'dtype': 'float64', 'timezone': 'UTC', 'info': 'the POSIX_timestamp is stored as a 64-bit floating point number, representing the seconds elapsed since 1970-01-01 00:00 UTC time'}}, 'Date_created': '2025-03-01 21:22:42', 'Last_modified': '2025-03-01 21:22:42'}, measurementID='test', dataIn=                        _ Date_Time_GMT_00_00  Temp_C_5cm  Temp_C_25cm  \\\n",
       "2024-07-20 21:00:00     1   24/07/20 21:00:00       7.217        2.423   \n",
       "2024-07-20 21:30:00     2   24/07/20 21:30:00      11.759        6.712   \n",
       "2024-07-20 22:00:00     3   24/07/20 22:00:00      11.467        5.257   \n",
       "2024-07-20 22:30:00     4   24/07/20 22:30:00      11.029        4.428   \n",
       "2024-07-20 23:00:00     5   24/07/20 23:00:00      10.907        4.011   \n",
       "...                   ...                 ...         ...          ...   \n",
       "2024-09-13 16:00:00  2632   24/09/13 16:00:00       4.869        3.670   \n",
       "2024-09-13 16:30:00  2633   24/09/13 16:30:00       4.869        3.643   \n",
       "2024-09-13 17:00:00  2634   24/09/13 17:00:00       4.869        3.643   \n",
       "2024-09-13 17:30:00  2635   24/09/13 17:30:00       4.895        3.617   \n",
       "2024-09-13 18:00:00  2636   24/09/13 18:00:00       4.921        3.591   \n",
       "\n",
       "                     Temp_C_50cm  Temp_C_100cm  \n",
       "2024-07-20 21:00:00       -0.032        -1.470  \n",
       "2024-07-20 21:30:00       -0.060        -1.470  \n",
       "2024-07-20 22:00:00       -0.060        -1.470  \n",
       "2024-07-20 22:30:00       -0.088        -1.470  \n",
       "2024-07-20 23:00:00       -0.088        -1.470  \n",
       "...                          ...           ...  \n",
       "2024-09-13 16:00:00        0.412        -0.845  \n",
       "2024-09-13 16:30:00        0.412        -0.845  \n",
       "2024-09-13 17:00:00        0.412        -0.845  \n",
       "2024-09-13 17:30:00        0.412        -0.845  \n",
       "2024-09-13 18:00:00        0.412        -0.845  \n",
       "\n",
       "[2634 rows x 6 columns], metadataIn={'verbose': True, 'loggerName': None, 'timeZone': 'UTC', 'frequency': '30min', 'yearfirst': True, 'Variables': {'_': {'ignore': True, 'name_in': '#', 'unit_in': None, 'safe_name': '_', 'dtype': '<i8', 'variableDescription': None}, 'Date_Time_GMT_00_00': {'ignore': True, 'name_in': 'Date Time, GMT+00:00', 'unit_in': None, 'safe_name': 'Date_Time_GMT_00_00', 'dtype': '|O', 'variableDescription': None}, 'Temp_C_5cm': {'ignore': False, 'name_in': 'Temp, °C (5cm', 'unit_in': None, 'safe_name': 'Temp_C_5cm', 'dtype': '<f8', 'variableDescription': None}, 'Temp_C_25cm': {'ignore': False, 'name_in': 'Temp, °C (25cm', 'unit_in': None, 'safe_name': 'Temp_C_25cm', 'dtype': '<f8', 'variableDescription': None}, 'Temp_C_50cm': {'ignore': False, 'name_in': 'Temp, °C (50cm', 'unit_in': None, 'safe_name': 'Temp_C_50cm', 'dtype': '<f8', 'variableDescription': None}, 'Temp_C_100cm': {'ignore': False, 'name_in': 'Temp, °C (100cm', 'unit_in': None, 'safe_name': 'Temp_C_100cm', 'dtype': '<f8', 'variableDescription': None}}}, mode='fill')"
      ]
     },
     "execution_count": 322,
     "metadata": {},
     "output_type": "execute_result"
    }
   ],
   "source": [
    "importlib.reload(ND)\n",
    "\n",
    "# projectPath = os.path.join(os.getcwd(),'test2')\n",
    "# # if os.path.isdir(projectPath):\n",
    "# #     shutil.rmtree(projectPath)\n",
    "\n",
    "# db = pyDB.database(projectPath=projectPath)\n",
    "# # db = pyDB.database(projectPath=projectPath,\n",
    "# #     # siteID=['SCL'],\n",
    "# #     # Years=[str(y) for y in range(2024,2025)],\n",
    "# #     # verbose=False\n",
    "# #     )\n",
    "# # db.\n",
    "n = ND.rawDatabaseImport(projectPath=projectPath,measurementID ='test',dataIn=rd.Data,metadataIn=rd.Metadata)\n",
    "\n",
    "n"
   ]
  },
  {
   "cell_type": "code",
   "execution_count": null,
   "metadata": {},
   "outputs": [
    {
     "name": "stdout",
     "output_type": "stream",
     "text": [
      "{'b', 'y', 'x'}\n",
      "['b', 'x', 'y']\n"
     ]
    }
   ],
   "source": [
    "\n",
    "# siteFields = set(self.__dataclass_fields__) - {f for base in siteRecord.__bases__ if hasattr(base,'__dataclass_fields__') for f in base.__dataclass_fields__}\n",
    "# siteFields = set(self.__dataclass_fields__) - {f for base in origin.__bases__ if hasattr(base,'__dataclass_fields__') for f in base.__dataclass_fields__}\n",
    "\n",
    "\n",
    "def baseFields(self,repr=True,orderd=True):\n",
    "    X = (set(self.__dataclass_fields__) - {f for base in type(self).__bases__ if hasattr(base,'__dataclass_fields__') for f,v in base.__dataclass_fields__.items() if v.repr==repr})\n",
    "    print(X)\n",
    "    print([k for k in self.__dataclass_fields__ if k in X])\n",
    "\n",
    "\n",
    "from dataclasses import dataclass, field\n",
    "@dataclass\n",
    "class A:\n",
    "    b: int = field(default=2,repr=False)\n",
    "    j: int = 1\n",
    "\n",
    "@dataclass\n",
    "class B(A):\n",
    "    x: str = 'a'\n",
    "    b: int = field(default=3,repr=False)\n",
    "    y: str = 'a'\n",
    "\n",
    "baseFields(B())"
   ]
  }
 ],
 "metadata": {
  "kernelspec": {
   "display_name": ".venv",
   "language": "python",
   "name": "python3"
  },
  "language_info": {
   "codemirror_mode": {
    "name": "ipython",
    "version": 3
   },
   "file_extension": ".py",
   "mimetype": "text/x-python",
   "name": "python",
   "nbconvert_exporter": "python",
   "pygments_lexer": "ipython3",
   "version": "3.12.9"
  }
 },
 "nbformat": 4,
 "nbformat_minor": 2
}
