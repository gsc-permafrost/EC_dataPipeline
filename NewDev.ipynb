{
 "cells": [
  {
   "cell_type": "markdown",
   "metadata": {},
   "source": [
    "# Fresh take\n",
    "\n",
    "## 1. Initalize sites"
   ]
  },
  {
   "cell_type": "code",
   "execution_count": 51,
   "metadata": {},
   "outputs": [],
   "source": [
    "import os\n",
    "import os\n",
    "import shutil\n",
    "import dbPipeline\n",
    "import importlib\n",
    "import time\n",
    "importlib.reload(dbPipeline)\n",
    "\n",
    "projectPath = os.path.join(os.getcwd(),'test')\n",
    "\n",
    "try:\n",
    "    shutil.rmtree(projectPath)\n",
    "except:\n",
    "    pass\n",
    "\n",
    "db = dbPipeline.database(projectPath=projectPath)\n",
    "db.projectInventory()\n",
    "# time.sleep(.25)\n",
    "Sites = r'example_data\\projectInventory_Template.yml'\n",
    "db.projectInventory(newSites=Sites)\n"
   ]
  },
  {
   "cell_type": "code",
   "execution_count": 53,
   "metadata": {},
   "outputs": [
    {
     "name": "stdout",
     "output_type": "stream",
     "text": [
      "c:\\Users\\User\\GSC_Work\\EC_dataPipeline\\dbPipeline.py line 130:\n",
      "make robust to kwarg update\n",
      "\n",
      "c:\\Users\\User\\GSC_Work\\EC_dataPipeline\\dbPipeline.py line 130:\n",
      "make robust to kwarg update\n",
      "\n",
      "c:\\Users\\User\\GSC_Work\\EC_dataPipeline\\dbPipeline.py line 130:\n",
      "make robust to kwarg update\n",
      "\n"
     ]
    }
   ],
   "source": [
    "importlib.reload(dbPipeline)\n",
    "\n",
    "db = dbPipeline.database(projectPath=projectPath)\n",
    "db.rawFileSearch('SCL','Flux',sourcePath='example_data',wildcard='*Flux*.dat',parserKwargs={'timezone':'UTC',\n",
    "    'readData':True,'calcStats':True,})\n",
    "\n",
    "parserKwargs = {'timezone':'UTC',\n",
    "    'variableMap':{\n",
    "    'Temp, °C (LGR S/N: 20750528, SEN S/N: 20750528, LBL: 5)':{\n",
    "        'safeName':'TS_1_1_1',\n",
    "        'unit':'deg C'},\n",
    "    'Temp, °C (LGR S/N: 20750528, SEN S/N: 20750528, LBL: 25)':{\n",
    "        'safeName':'TS_2_1_1',\n",
    "        'unit':'deg C'},\n",
    "    'Temp, °C (LGR S/N: 20750528, SEN S/N: 20750528, LBL: 50)':{\n",
    "        'safeName':'TS_3_1_1',\n",
    "        'unit':'deg C'},\n",
    "    'Temp, °C (LGR S/N: 20750528, SEN S/N: 20750528, LBL: 100)':{\n",
    "        'safeName':'TS_4_1_1',\n",
    "        'unit':'deg C'},\n",
    "    },}\n",
    "db.rawFileSearch('SCL','SSM_Profile',sourcePath='example_data',wildcard='*SSM*.csv',parserKwargs=parserKwargs)\n",
    "\n",
    "parserKwargs = {'timezone':'UTC',\n",
    "    'variableMap': {'Temp, °C (LGR S/N: 20750527, SEN S/N: 20750527, LBL: 5)': {'safeName': 'TS_1_2_1',\n",
    "   'unit': 'deg C',},\n",
    "  'Temp, °C (LGR S/N: 20750527, SEN S/N: 20750527, LBL: 25)': {'safeName': 'TS_2_2_1',\n",
    "   'unit': 'deg C',},\n",
    "  'Temp, °C (LGR S/N: 20750527, SEN S/N: 20750527, LBL: 50)': {'safeName': 'TS_3_2_1',\n",
    "   'unit': 'deg C',},\n",
    "  'Temp, °C (LGR S/N: 20750527, SEN S/N: 20750527, LBL: 100)': {'safeName': 'TS_4_2_1',\n",
    "   'unit': 'deg C',}}}\n",
    "db.rawFileSearch('SCL','WSM_Profile',sourcePath='example_data',wildcard='*WSM*.csv',parserKwargs=parserKwargs)\n",
    "\n"
   ]
  },
  {
   "cell_type": "code",
   "execution_count": 54,
   "metadata": {},
   "outputs": [
    {
     "data": {
      "text/plain": [
       "[<matplotlib.lines.Line2D at 0x1b3ad1bef20>]"
      ]
     },
     "execution_count": 54,
     "metadata": {},
     "output_type": "execute_result"
    },
    {
     "data": {
      "image/png": "[encoded data removed]",
      "text/plain": [
       "<Figure size 640x480 with 1 Axes>"
      ]
     },
     "metadata": {},
     "output_type": "display_data"
    }
   ],
   "source": [
    "import matplotlib.pyplot as plt\n",
    "importlib.reload(dbPipeline)\n",
    "path = r'test\\database\\SCL\\Flux\\2024'\n",
    "f = dbPipeline.databaseFolder(path = path,year = 2024)\n",
    "f.Data\n",
    "plt.figure()\n",
    "plt.plot(f.Data['Ux_mean'])\n",
    "# plt.plot(f.Data['TS_1_2_1'])\n",
    "# plt.plot(f.Data['TS_2_2_1'])\n",
    "# plt.plot(f.Data['TS_3_2_1'])\n",
    "# plt.plot(f.Data['TS_4_2_1'])"
   ]
  },
  {
   "cell_type": "code",
   "execution_count": 113,
   "metadata": {},
   "outputs": [
    {
     "name": "stdout",
     "output_type": "stream",
     "text": [
      "Empty DataFrame\n",
      "Columns: []\n",
      "Index: []\n"
     ]
    }
   ],
   "source": [
    "print(f.Data.head())"
   ]
  },
  {
   "cell_type": "code",
   "execution_count": null,
   "metadata": {},
   "outputs": [],
   "source": [
    "sourceFile = \"c:\\\\Users\\\\User\\\\GSC_Work\\\\EC_dataPipeline\\\\example_data\\\\20240912\\\\Flux_Data2628.dat\"\n",
    "import pandas as pd\n",
    "import numpy as np\n",
    "import re\n",
    "import rawDataFile\n",
    "importlib.reload(rawDataFile)\n",
    "import datetime\n",
    "import pandas as pd\n",
    "from dataclasses import dataclass, field\n",
    "import helperFunctions as helper\n",
    "\n",
    "# f = rawDataFile.TOB3(sourceFile=sourceFile,readData=True)\n",
    "# f.Agg\n",
    "\n",
    "f.Timestamp[-1]\n",
    "# f.Agg\n",
    "\n",
    "# missing = pd.to_datetime(f.Timestamp[np.isnan(f.Data).max(axis=1)],unit='s')\n",
    "# print(missing.shape[0],missing.shape[0]/f.Data.shape[0])\n",
    "# print(missing)"
   ]
  },
  {
   "cell_type": "code",
   "execution_count": null,
   "metadata": {},
   "outputs": [],
   "source": [
    "f.fileTimestamp.strftime('%Y-%m-%dT%H:%M:%S')"
   ]
  },
  {
   "cell_type": "code",
   "execution_count": null,
   "metadata": {},
   "outputs": [],
   "source": [
    "# This works:\n",
    "from dataclasses import dataclass\n",
    "@dataclass(kw_only=True)\n",
    "class test:\n",
    "  a: str\n",
    "  b: str\n",
    "i = {1:{'a':'a','b':'b'},2:{'a':'a','b':'b'}}\n",
    "x = map(lambda kwargs: test(**kwargs),i.values())\n",
    "print(list(x))\n",
    "\n",
    "# but this doesn't\n",
    "from dataclasses import dataclass\n",
    "@dataclass(kw_only=True)\n",
    "class test:\n",
    "  name: int\n",
    "  a: str\n",
    "  b: str\n",
    "i = {1:{'a':'a','b':'b'},2:{'a':'a','b':'b'}}\n",
    "x = map(lambda name: test(name=name,**i[name]),i.keys())\n",
    "print(list(x))\n",
    "#"
   ]
  },
  {
   "cell_type": "code",
   "execution_count": null,
   "metadata": {},
   "outputs": [],
   "source": [
    "def myfunc(n):\n",
    "  return len(n)\n",
    "\n",
    "x = map(myfunc, ('apple', 'banana', 'cherry')) \n",
    "list(x)"
   ]
  },
  {
   "cell_type": "code",
   "execution_count": null,
   "metadata": {},
   "outputs": [],
   "source": [
    "importlib.reload(dbPipeline)\n",
    "\n",
    "fpath = r'example_data\\projectInventory_Template.yml'\n",
    "sourcePath = r'example_data'\n",
    "dbPipeline.projectInventory(\n",
    "    projectPath=projectPath,Sites=fpath,\n",
    "    fileSearch={'SCL':{'Flux':{'searchInventory':{'sourcePath':sourcePath,'wildcard':'*Flux*.dat'}},\n",
    "                       'SSM_Profile':{'searchInventory':{'sourcePath':sourcePath,'wildcard':'*SSM*.csv'}},\n",
    "                       'WSM_Profile':{'searchInventory':{'sourcePath':sourcePath,'wildcard':'*WSM*.csv'}},\n",
    "                       }}\n",
    ")"
   ]
  },
  {
   "cell_type": "code",
   "execution_count": null,
   "metadata": {},
   "outputs": [],
   "source": [
    "importlib.reload(dbPipeline)\n",
    "f = dbPipeline.database(projectPath=projectPath)\n",
    "f.projectInventory(Sites = {'FIL':{'siteID':'FIL'}})\n"
   ]
  },
  {
   "cell_type": "code",
   "execution_count": null,
   "metadata": {},
   "outputs": [],
   "source": [
    "import os\n",
    "import shutil\n",
    "import cleanDev as cD\n",
    "import importlib\n",
    "importlib.reload(cD)\n",
    "\n",
    "projectPath = os.path.join(os.getcwd(),'test')\n",
    "# try:\n",
    "#     shutil.rmtree(projectPath)\n",
    "# except:\n",
    "#     pass\n",
    "\n",
    "fpath = r'example_data\\projectInventory_Template.yml'\n",
    "sourcePath = r'example_data'\n",
    "cD.projectInventory(\n",
    "    projectPath=projectPath,Sites=fpath,\n",
    "    # fileSearch={'SCL':{'Flux':{'searchInventory':{'sourcePath':sourcePath,'wildcard':'*Flux*.dat'}}}}\n",
    "        # 'SCL':{\n",
    "        #     'SSM_Profile':cD.Source(sourcePath=sourcePath,fileExt='csv',matchPattern=['SSM','readout'],fileType='HOBOcsv').__dict__,\n",
    "        #     'WSM_Profile':cD.Source(sourcePath=sourcePath,fileExt='csv',matchPattern=['WSM','readout'],fileType='HOBOcsv').__dict__,\n",
    "        #     'Flux':cD.Source(sourcePath=sourcePath,fileExt='dat',matchPattern=['Flux'],fileType='TOBA').__dict__}}\n",
    ")\n"
   ]
  },
  {
   "cell_type": "code",
   "execution_count": null,
   "metadata": {},
   "outputs": [],
   "source": [
    "importlib.reload(cD)\n",
    "# cD.searchInventory(\n",
    "#     projectPath=projectPath,\n",
    "#     siteID='SCL',\n",
    "#     measurementID='Flux',\n",
    "#     searchInventory={\n",
    "#     'sourcePath':r'example_data',\n",
    "#     'fileType':'HOBOcsv',\n",
    "#     'fileExt':'csv',\n",
    "#     'matchPattern':['20240724','SSM','readout']\n",
    "#     })\n",
    "cD.searchInventory(\n",
    "    projectPath=projectPath,\n",
    "    siteID='SCL',\n",
    "    measurementID='Flux',\n",
    "    searchInventory={\n",
    "    'sourcePath':r'example_data',\n",
    "    'wildcard':'*Flux*.dat',\n",
    "    })"
   ]
  },
  {
   "cell_type": "code",
   "execution_count": null,
   "metadata": {},
   "outputs": [],
   "source": [
    "import fnmatch\n",
    "sourcePath=r'example_data'\n",
    "sourcePath=os.path.abspath(sourcePath)\n",
    "for dir,_,fn in os.walk(sourcePath):\n",
    "   #  subDir = os.path.relpath(dir,sourcePath)\n",
    "    print([os.path.join(dir,f) for f in fn \n",
    "           if fnmatch.fnmatch(os.path.join(sourcePath,f),os.path.join(sourcePath+'*'))\n",
    "        #    and not fnmatch.fnmatch(os.path.join(subDir,f),'202409*SSM*readout*.csv')\n",
    "           ])"
   ]
  },
  {
   "cell_type": "code",
   "execution_count": null,
   "metadata": {},
   "outputs": [],
   "source": [
    "\n",
    "cD.Search().uID"
   ]
  },
  {
   "cell_type": "code",
   "execution_count": null,
   "metadata": {},
   "outputs": [],
   "source": [
    "from dataclasses import dataclass, field\n",
    "import helperFunctions as helper\n",
    "@dataclass\n",
    "class fileSearch:\n",
    "    sourceID: str = 'sourceID'\n",
    "    fileType: str = None\n",
    "    fileExt: str = None\n",
    "    sourcePath: str = None\n",
    "    matchPattern: list = field(default_factory=lambda:[])\n",
    "    excludePattern: list = field(default_factory=lambda:[])\n",
    "    \n",
    "    def __post_init__(self):\n",
    "        self.sourceID = helper.safeFmt(self.sourceID)\n",
    "        for f,v in self.__dataclass_fields__.items():\n",
    "            if v.type is list:\n",
    "                if type(self.__dict__[f]) is not list:\n",
    "                    self.__dict__[f] = [self.__dict__[f]]\n",
    "        if self.sourcePath:\n",
    "            self.sourcePath = os.path.abspath(self.sourcePath)\n",
    "        pass\n",
    "\n",
    "@dataclass\n",
    "class sourceFiles:\n",
    "    siteID: str\n",
    "    measurementID: str\n",
    "    sourceFiles: fileSearch\n",
    "\n",
    "    def __post_init__(self):\n",
    "        if type(list(self.sourceFiles.values())[0]) is dict:\n",
    "            self.sourceFiles = {fileSearch(**value).sourceID:fileSearch(**value).__dict__ for key,value in self.sourceFiles.items()}\n",
    "        else:\n",
    "            self.sourceFiles = {fileSearch(**self.sourceFiles).sourceID:fileSearch(**self.sourceFiles).__dict__}\n",
    "\n",
    "data = {'siteID': 'SCL', 'measurementID': 'Flux', 'sourceFiles': {'sourceID':'X'}}\n",
    "\n",
    "print(sourceFiles(**data))"
   ]
  },
  {
   "cell_type": "code",
   "execution_count": null,
   "metadata": {},
   "outputs": [],
   "source": [
    "import os\n",
    "import shutil\n",
    "import importlib\n",
    "import NewDev as ND\n",
    "import helperFunctions\n",
    "importlib.reload(ND)  \n",
    "importlib.reload(helperFunctions)   \n",
    "\n",
    "# # fresh database\n",
    "projectPath = os.path.join(os.getcwd(),'test')\n",
    "try:\n",
    "    shutil.rmtree(projectPath)\n",
    "except:\n",
    "    pass\n",
    "\n",
    "sites = helperFunctions.loadDict('example_data/siteInventory.yml')\n",
    "for site in sites.values():\n",
    "    ND.siteInventory(projectPath=projectPath,**site)\n",
    "\n",
    "\n",
    "# source = r'example_data'\n",
    "# ND.measurementInventory(projectPath=projectPath,\n",
    "#   siteID='SCL',\n",
    "#   measurementID='Soil Profile',\n",
    "#   pointID='SSM',\n",
    "#   fileType='HOBOcsv',\n",
    "#   baseFrequency='30min',\n",
    "#   description = 'Soil temperature profiles in the salix sedge meadow',\n",
    "#   sourceInventory={\n",
    "#     '20240724':{\n",
    "#         'sourcePath':source,\n",
    "#         'sourceID':'20240724',\n",
    "#         'matchPattern':['20240724','SSM','readout'],\n",
    "#         'fileExt':'csv'},\n",
    "#     '20240914':{\n",
    "#         'sourcePath':source,\n",
    "#         'sourceID':'20240914',\n",
    "#         'matchPattern':['20240914','SSM','readout'],\n",
    "#         'fileExt':'csv'},\n",
    "#   })"
   ]
  },
  {
   "cell_type": "markdown",
   "metadata": {},
   "source": [
    "## 2. Define measurments"
   ]
  },
  {
   "cell_type": "code",
   "execution_count": null,
   "metadata": {},
   "outputs": [],
   "source": [
    "\n",
    "ND.measurementInventory(projectPath=projectPath,\n",
    "  siteID='SCL',\n",
    "  measurementID='Flux',\n",
    "  fileType='TOBA',\n",
    "  baseFrequency='50ms',\n",
    "  measurementDescription = 'High frequency eddy covariance data'\n",
    "  )\n",
    "ND.measurementInventory(projectPath=projectPath,\n",
    "  siteID='SCL',\n",
    "  measurementID='Meteorologic',\n",
    "  fileType='TOBA',\n",
    "  baseFrequency='30min',\n",
    "  measurementDescription = 'Low frequency meteorological data'\n",
    "  )\n",
    "ND.measurementInventory(projectPath=projectPath,\n",
    "  siteID='SCL',\n",
    "  measurementID='Metadata',\n",
    "  fileType='TOBA',\n",
    "  baseFrequency='24h',\n",
    "  measurementDescription = 'Daily metadata summaries'\n",
    "  )\n",
    "ND.measurementInventory(projectPath=projectPath,\n",
    "  siteID='SCL',\n",
    "  measurementID='Soil Profile',\n",
    "  subsiteID='SSM',\n",
    "  fileType='HOBOcsv',\n",
    "  baseFrequency='30min',\n",
    "  measurementDescription = 'Soil temperature profiles in the salix sedge meadow'\n",
    "  )\n",
    "\n",
    "a = ND.measurementInventory(projectPath=projectPath,\n",
    "  siteID='SCL',\n",
    "  measurementID='Soil Profile',\n",
    "  subsiteID='WSM',\n",
    "  fileType='HOBOcsv',\n",
    "  baseFrequency='30min',\n",
    "  measurementDescription = 'Soil temperature profiles in the wet sedge meadow'\n",
    "  )\n",
    "# a.__dict__"
   ]
  },
  {
   "cell_type": "code",
   "execution_count": null,
   "metadata": {},
   "outputs": [],
   "source": [
    "# importlib.reload(ND)\n",
    "source = r'example_data\\20240724'\n",
    "# t = ND.searchInventory(projectPath=projectPath,\n",
    "#     siteID='SCL',\n",
    "#     measurementID='Soil_Profile',\n",
    "#     subsiteID='SSM',\n",
    "#     fileType='HOBOcsv',\n",
    "#     sourcePath=source,\n",
    "#     fileExt='csv',\n",
    "#     matchPattern=['SSM','readout']\n",
    "#     )\n",
    "\n",
    "# t = ND.searchInventory(projectPath=projectPath,\n",
    "#     siteID='SCL',\n",
    "#     measurementID='Soil_Profile',\n",
    "#     subsiteID='WSM',\n",
    "#     fileType='HOBOcsv',\n",
    "#     sourcePath=source,\n",
    "#     fileExt='csv',\n",
    "#     matchPattern=['WSM','readout']\n",
    "#     )\n",
    "\n",
    "# t.findNewSourceFiles()\n",
    "print(os.path.abspath(source))"
   ]
  },
  {
   "cell_type": "code",
   "execution_count": null,
   "metadata": {},
   "outputs": [],
   "source": [
    "importlib.reload(ND)\n",
    "ND.database(verbose=True,projectPath=projectPath).validate()\n",
    "# ND.siteInventory(projectPath=projectPath)\n",
    "# any([j==1 for j in [1,2,3]])"
   ]
  },
  {
   "cell_type": "code",
   "execution_count": null,
   "metadata": {},
   "outputs": [],
   "source": [
    "# importlib.reload(ND)\n",
    "# source = r'example_data\\20240724'\n",
    "# t = ND.sourcefileInventory(projectPath=projectPath,\n",
    "#     siteID='SCL',\n",
    "#     index='Soil_Profile-WSM-HOBOcsv',\n",
    "#     sourcePath=source,\n",
    "#     fileExt='csv',\n",
    "#     matchPattern='SSsM')\n",
    "# t = ND.sourcefileInventory(projectPath=projectPath,\n",
    "#     siteID='SCL',\n",
    "#     index='Soil_Profile-WSM-HOBOcsv',\n",
    "#     sourcePath=source,\n",
    "#     fileExt='csv',\n",
    "#     matchPattern='SSsM')\n",
    "\n",
    "# source = r'example_data\\20240914'\n",
    "# t = ND.sourcefileInventory(projectPath=projectPath,\n",
    "#     siteID='SCL',\n",
    "#     index='Soil_Profile-WSM-HOBOcsv',\n",
    "#     sourcePath=source,\n",
    "#     fileExt='csv',\n",
    "#     matchPattern='SSM')\n",
    "# # t.subIndex"
   ]
  },
  {
   "cell_type": "code",
   "execution_count": null,
   "metadata": {},
   "outputs": [],
   "source": [
    "# \n",
    "# tuple(['a','b'])\n",
    "tuple(['ab'])"
   ]
  },
  {
   "cell_type": "markdown",
   "metadata": {},
   "source": [
    "## Setup an inventory"
   ]
  },
  {
   "cell_type": "code",
   "execution_count": null,
   "metadata": {},
   "outputs": [],
   "source": [
    "import os\n",
    "import yaml\n",
    "import time\n",
    "import shutil\n",
    "import numpy as np\n",
    "import pandas as pd\n",
    "import importlib\n",
    "import NewDev as ND\n",
    "import helperFunctions as hf\n",
    "importlib.reload(ND)     \n",
    "\n",
    "# fresh database\n",
    "projectPath = os.path.join(os.getcwd(),'test')\n",
    "try:\n",
    "    shutil.rmtree(projectPath)\n",
    "except:\n",
    "    pass\n",
    "# ND.databaseProject(projectPath)\n",
    "\n",
    "# load templates\n",
    "template = hf.loadDict(r'example_data\\siteInventory.yml')\n",
    "for siteID,values in template.items():\n",
    "    print(values)\n",
    "    ND.siteInventory(projectPath=projectPath,**values)\n",
    "\n",
    "template = hf.loadDict(r'example_data\\SCL\\measurementInventory.yml')\n",
    "for measurementID,values in template.items():\n",
    "    ND.measurementInventory(projectPath=projectPath,measurementID=measurementID,siteID='SCL',**values)\n",
    "\n",
    "source = r'example_data'\n",
    "ND.fileInventory(projectPath=projectPath,source=source,siteID='SCL',measurementID='Profile_SSM',ext='csv',matchPattern='SSM')#,lookup=True)\n",
    "ND.fileInventory(projectPath=projectPath,source=source,siteID='SCL',measurementID='Profile_WSM',ext='csv',matchPattern='WSM')#,lookup=True)"
   ]
  },
  {
   "cell_type": "code",
   "execution_count": null,
   "metadata": {},
   "outputs": [],
   "source": [
    "# ND.fileInventory(projectPath=projectPath,siteID='SCL',measurementID='Profile_WSM',lookup=True).sessionMetadata\n",
    "# # a = None\n",
    "# # if a:\n",
    "# #     print('d')\n",
    "d={['1','2']:'x'}"
   ]
  },
  {
   "cell_type": "markdown",
   "metadata": {},
   "source": [
    "## File Management"
   ]
  },
  {
   "cell_type": "code",
   "execution_count": null,
   "metadata": {},
   "outputs": [],
   "source": [
    "import time\n",
    "import rawDataFile_bu2 as rd\n",
    "importlib.reload(rd)\n",
    "source = r'example_data'\n",
    "T1 = time.time()\n",
    "\n",
    "t = rd.fileInventory(projectPath=projectPath,source=source,siteID='SCL',measurementID='Profile_SSM',ext='csv',matchPattern='SSM',lookup=True)\n",
    "\n",
    "t.inventory"
   ]
  },
  {
   "cell_type": "code",
   "execution_count": null,
   "metadata": {},
   "outputs": [],
   "source": [
    "import pandas as pd\n",
    "pd.date_range('2025-03-01','2025-03-02',freq='50ms')"
   ]
  },
  {
   "cell_type": "code",
   "execution_count": null,
   "metadata": {},
   "outputs": [],
   "source": [
    "# fn\n",
    "import os\n",
    "import rawDataFile_bu2 as rawDataFile_bu2\n",
    "importlib.reload(rawDataFile_bu2)\n",
    "# fn = fi['SCL']['TS_Profile-WSM']['c:\\\\Users\\\\jskeeter\\\\gsc-permafrost\\\\SCL_2024']['sourceFiles'][0]\n",
    "# fn = os.path.join('c:\\\\Users\\\\jskeeter\\\\gsc-permafrost\\\\SCL_2024',fn)\n",
    "fn = r'c:\\\\Users\\\\jskeeter\\\\gsc-permafrost\\\\SCL_2024\\\\20240724\\\\20750527-SHSC.WSM.SGT.240720_240724readout.csv'\n",
    "rd = rawDataFile_bu2.hoboCSV(projectPath=projectPath,source=fn,siteID='SCL',measurementType='TS_Profile',loggerID='WSM',\n",
    "                         Metadata='test.yml')\n",
    "\n",
    "with open('test.yml','w+') as f:\n",
    "    yaml.safe_dump(rd.Metadata,f,sort_keys=False)"
   ]
  },
  {
   "cell_type": "markdown",
   "metadata": {},
   "source": [
    "# Database"
   ]
  },
  {
   "cell_type": "code",
   "execution_count": null,
   "metadata": {},
   "outputs": [],
   "source": [
    "importlib.reload(ND)\n",
    "\n",
    "# projectPath = os.path.join(os.getcwd(),'test2')\n",
    "# # if os.path.isdir(projectPath):\n",
    "# #     shutil.rmtree(projectPath)\n",
    "\n",
    "# db = pyDB.database(projectPath=projectPath)\n",
    "# # db = pyDB.database(projectPath=projectPath,\n",
    "# #     # siteID=['SCL'],\n",
    "# #     # Years=[str(y) for y in range(2024,2025)],\n",
    "# #     # verbose=False\n",
    "# #     )\n",
    "# # db.\n",
    "n = ND.rawDatabaseImport(projectPath=projectPath,measurementID ='test',dataIn=rd.Data,metadataIn=rd.Metadata)\n",
    "\n",
    "n"
   ]
  },
  {
   "cell_type": "code",
   "execution_count": null,
   "metadata": {},
   "outputs": [],
   "source": [
    "\n",
    "# siteFields = set(self.__dataclass_fields__) - {f for base in siteRecord.__bases__ if hasattr(base,'__dataclass_fields__') for f in base.__dataclass_fields__}\n",
    "# siteFields = set(self.__dataclass_fields__) - {f for base in origin.__bases__ if hasattr(base,'__dataclass_fields__') for f in base.__dataclass_fields__}\n",
    "\n",
    "\n",
    "def baseFields(self,repr=True,orderd=True):\n",
    "    X = (set(self.__dataclass_fields__) - {f for base in type(self).__bases__ if hasattr(base,'__dataclass_fields__') for f,v in base.__dataclass_fields__.items() if v.repr==repr})\n",
    "    print(X)\n",
    "    print([k for k in self.__dataclass_fields__ if k in X])\n",
    "\n",
    "\n",
    "from dataclasses import dataclass, field\n",
    "@dataclass\n",
    "class A:\n",
    "    b: int = field(default=2,repr=False)\n",
    "    j: int = 1\n",
    "\n",
    "@dataclass\n",
    "class B(A):\n",
    "    x: str = 'a'\n",
    "    b: int = field(default=3,repr=False)\n",
    "    y: str = 'a'\n",
    "\n",
    "baseFields(B())"
   ]
  }
 ],
 "metadata": {
  "kernelspec": {
   "display_name": "Python 3",
   "language": "python",
   "name": "python3"
  },
  "language_info": {
   "codemirror_mode": {
    "name": "ipython",
    "version": 3
   },
   "file_extension": ".py",
   "mimetype": "text/x-python",
   "name": "python",
   "nbconvert_exporter": "python",
   "pygments_lexer": "ipython3",
   "version": "3.10.4"
  }
 },
 "nbformat": 4,
 "nbformat_minor": 2
}
