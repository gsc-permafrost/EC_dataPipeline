{
 "cells": [
  {
   "cell_type": "markdown",
   "metadata": {},
   "source": [
    "# Fresh take\n",
    "\n",
    "Trying to get this right.  2024/02/18"
   ]
  },
  {
   "cell_type": "markdown",
   "metadata": {},
   "source": [
    "## Setup an inventory"
   ]
  },
  {
   "cell_type": "code",
   "execution_count": 174,
   "metadata": {},
   "outputs": [
    {
     "name": "stdout",
     "output_type": "stream",
     "text": [
      "c:\\Users\\User\\GSC_Work\\EC_dataPipeline\\test\n",
      "c:\\Users\\User\\GSC_Work\\EC_dataPipeline\\test\n",
      "                siteID                                description  name  \\\n",
      "SCL-.site-.base    SCL  Swiss Cheese Lake Eddy Covariance Station  None   \n",
      "\n",
      "                                        PI dateEstablished landCoverType  \\\n",
      "SCL-.site-.base  June Skeeter, Peter Morse      2024-07-20          None   \n",
      "\n",
      "                  longitude   latitude measurementType replicateID  \n",
      "SCL-.site-.base -135.251907  69.226417           .site       .base  \n",
      "c:\\Users\\User\\GSC_Work\\EC_dataPipeline\\test\n",
      "                siteID                                description  name  \\\n",
      "SCL-.site-.base    SCL  Swiss Cheese Lake Eddy Covariance Station  None   \n",
      "SCL-TS-SSM         SCL                                       None  None   \n",
      "\n",
      "                                        PI dateEstablished landCoverType  \\\n",
      "SCL-.site-.base  June Skeeter, Peter Morse      2024-07-20          None   \n",
      "SCL-TS-SSM                            None            None          None   \n",
      "\n",
      "                  longitude   latitude measurementType replicateID  \n",
      "SCL-.site-.base -135.251907  69.226417           .site       .base  \n",
      "SCL-TS-SSM      -135.252263  69.225398              TS         SSM  \n"
     ]
    },
    {
     "data": {
      "text/plain": [
       "{'SCL-.site-.base': {'siteID': 'SCL',\n",
       "  'description': 'Swiss Cheese Lake Eddy Covariance Station',\n",
       "  'name': None,\n",
       "  'PI': 'June Skeeter, Peter Morse',\n",
       "  'dateEstablished': '2024-07-20',\n",
       "  'landCoverType': None,\n",
       "  'longitude': -135.2519067,\n",
       "  'latitude': 69.2264167,\n",
       "  'measurementType': '.site',\n",
       "  'replicateID': '.base'},\n",
       " 'SCL-TS-SSM': {'siteID': 'SCL',\n",
       "  'description': None,\n",
       "  'name': None,\n",
       "  'PI': None,\n",
       "  'dateEstablished': None,\n",
       "  'landCoverType': None,\n",
       "  'longitude': -135.2522633,\n",
       "  'latitude': 69.2253983,\n",
       "  'measurementType': 'TS',\n",
       "  'replicateID': 'SSM'},\n",
       " 'SCL-TS-WSM': {'siteID': 'SCL',\n",
       "  'description': None,\n",
       "  'name': None,\n",
       "  'PI': None,\n",
       "  'dateEstablished': None,\n",
       "  'landCoverType': None,\n",
       "  'longitude': -135.25225,\n",
       "  'latitude': 69.2258683,\n",
       "  'measurementType': 'TS',\n",
       "  'replicateID': 'WSM'}}"
      ]
     },
     "execution_count": 174,
     "metadata": {},
     "output_type": "execute_result"
    }
   ],
   "source": [
    "import os\n",
    "import yaml\n",
    "import copy\n",
    "import shutil\n",
    "import numpy as np\n",
    "import pandas as pd\n",
    "import importlib\n",
    "import NewDev as ND\n",
    "import helperFunctions as hf\n",
    "importlib.reload(ND)\n",
    "importlib.reload(hf)\n",
    "                          \n",
    "dbpth = os.path.join(os.getcwd(),'test')\n",
    "shutil.rmtree(dbpth)\n",
    "os.mkdir(dbpth)\n",
    "\n",
    "si = ND.siteInventory(dbpth,siteID='SCL',description='Swiss Cheese Lake Eddy Covariance Station',\n",
    "                latitude='N 69 13.5850',longitude='W 135 15.1144',\n",
    "                PI = 'June Skeeter, Peter Morse',dateEstablished='2024-07-20')\n",
    "si = ND.siteInventory(dbpth,siteID='SCL',measurementType='TS',replicateID='SSM',\n",
    "                  latitude='N 69 13.5239',longitude='W 135 15.1358')\n",
    "si = ND.siteInventory(dbpth,siteID='SCL',measurementType='TS',replicateID='WSM',\n",
    "                  latitude='N 69 13.5521',longitude='W 135 15.1350')\n",
    "si.siteInventory"
   ]
  },
  {
   "cell_type": "code",
   "execution_count": null,
   "metadata": {},
   "outputs": [
    {
     "data": {
      "text/plain": [
       "{'SCL': {'_': {'_': {'siteID': 'SCL',\n",
       "    'description': 'Swiss Cheese Lake Eddy Covariance Station',\n",
       "    'dateEst': None,\n",
       "    'name': None,\n",
       "    'PI': None,\n",
       "    'dateEstablished': None,\n",
       "    'landCoverType': None,\n",
       "    'longitude': 'W 135 15.1144',\n",
       "    'latitude': 'N 69 13.5850'}},\n",
       "  'TS': {'SSM': {'siteID': 'SCL',\n",
       "    'measurementType': 'TS',\n",
       "    'replicateID': 'SSM',\n",
       "    'longitude': 'W 135 15.1350',\n",
       "    'latitude': 'N 69 13.5239'},\n",
       "   'WSM': {'siteID': 'SCL',\n",
       "    'measurementType': 'TS',\n",
       "    'replicateID': 'WSM',\n",
       "    'longitude': 'W 135 15.1350',\n",
       "    'latitude': 'N 69 13.5521'}}}}"
      ]
     },
     "execution_count": 17,
     "metadata": {},
     "output_type": "execute_result"
    }
   ],
   "source": [
    "import os\n",
    "import re\n",
    "import yaml\n",
    "import copy\n",
    "import shutil\n",
    "import datetime\n",
    "import importlib\n",
    "from typing import Literal\n",
    "from dataclasses import dataclass, field\n",
    "import helperFunctions as hf\n",
    "importlib.reload(hf)\n",
    "\n",
    "@dataclass(kw_only=True)\n",
    "class record:\n",
    "    fillChar = '_'\n",
    "    sepChar = '-'\n",
    "    siteInventory = {}\n",
    "\n",
    "    siteID: str\n",
    "    measurementType: str = fillChar\n",
    "    replicateID: str = fillChar\n",
    "    description: str = field(default=None,repr=False)\n",
    "    dateEst: str = field(default=None,repr=False)\n",
    "    name: str = field(default=None,repr=False)\n",
    "    PI: str = field(default=None,repr=False)\n",
    "    dateEstablished: str = field(default=None,repr=False)\n",
    "    landCoverType: str = field(default=None,repr=False)\n",
    "    longitude: float = field(default=None,repr=False)\n",
    "    latitude: float = field(default=None,repr=False)\n",
    "    def __post_init__(self):\n",
    "        self.MRO_fields = {v.__name__:list(v.__dict__['__dataclass_fields__'].keys()) \n",
    "                      for v in type(self).__mro__\n",
    "                      if v.__name__ != 'object'}\n",
    "        for k in self.__dataclass_fields__.keys():\n",
    "            if self.__dataclass_fields__[k].repr and self.__dict__[k] is not None:\n",
    "                self.__dict__[k] = re.sub('[^0-9a-zA-Z]+',self.fillChar, self.__dict__[k])\n",
    "        self.measurementID = self.sepChar.join([str(self.__dict__[k]) for k in self.__dataclass_fields__.keys() \n",
    "                                       if self.__dataclass_fields__[k].repr and self.__dict__[k] is not None\n",
    "                                       ])\n",
    "        if self.measurementID not in self.siteInventory.keys() or self.overwrite:\n",
    "            self.siteInventory[self.measurementID] = {}\n",
    "            for f,v in self.__dataclass_fields__.items():\n",
    "                if (self.__dict__[f] != self.fillChar and (v.kw_only and self.__dict__[f] is not None or  \n",
    "                    self.measurementID.endswith(self.sepChar.join([self.fillChar,self.fillChar]))) and\n",
    "                    f in self.MRO_fields['record']):\n",
    "                    self.siteInventory[self.measurementID][f] = self.__dict__[f]\n",
    "        \n",
    "@dataclass\n",
    "class siteInventory(record):\n",
    "    siteInventory = {}\n",
    "    source: str = field(repr=False)\n",
    "    overwrite: bool = field(default=False,repr=False)\n",
    "\n",
    "    def __post_init__(self):\n",
    "        self.load(self.source)\n",
    "        super().__post_init__()\n",
    "        self.save(self.source)\n",
    "\n",
    "    def load(self,source):\n",
    "        if os.path.isfile(os.path.join(source,'siteInventory.yml')):\n",
    "            with open(os.path.join(source,'siteInventory.yml')) as f:\n",
    "                inv = yaml.safe_load(f)\n",
    "                if inv is not None:\n",
    "                    self.siteInventory = hf.unpackDict(inv,'-',limit=2)\n",
    "        elif os.path.isdir(source):\n",
    "            with open(os.path.join(source,'siteInventory.yml'),'w+') as f:\n",
    "                yaml.safe_dump(self.siteInventory,f)\n",
    "        elif os.path.isfile(source):\n",
    "            print('csv?')\n",
    "            \n",
    "    def save(self,source):\n",
    "        with open(os.path.join(source,'siteInventory.yml'),'w+') as f:\n",
    "            # Sort alphabetically by ID, maintaining order of metadata\n",
    "            # Hacked up to maintain desirable sort order regardless of case or pattern used to represent \"blank\" values\n",
    "            self.siteInventory = {key.replace(self.fillChar,' '):value for key,value in self.siteInventory.items()}\n",
    "            self.siteInventory = {key.replace(' ',self.fillChar):value for key,value in dict(sorted(self.siteInventory.items())).items()}\n",
    "            self.siteInventory = hf.packDict(copy.deepcopy(self.siteInventory),'-',limit=2,order=1)\n",
    "            yaml.safe_dump(self.siteInventory,f,sort_keys=False)\n",
    "\n",
    "\n",
    "dbpth = os.path.join(os.getcwd(),'test')\n",
    "shutil.rmtree()\n",
    "M = siteInventory(source=dbpth,siteID='SCL',description='Swiss Cheese Lake Eddy Covariance Station',\n",
    "                  latitude='N 69 13.5850',longitude='W 135 15.1144',\n",
    "                #   siteVisitDates=['2024-07-24','2024-09-12','2024-09-14']\n",
    "                PI = 'June Skeeter, Peter Morse',\n",
    "                dateEstablished='2024-07-20'\n",
    "                  )\n",
    "M = siteInventory(source=dbpth,siteID='SCL',measurementType='TS',replicateID='SSM',\n",
    "                  latitude='N 69 13.5239',longitude='W 135 15.1350')\n",
    "M = siteInventory(source=dbpth,siteID='SCL',measurementType='TS',replicateID='WSM',\n",
    "                  latitude='N 69 13.5521',longitude='W 135 15.1350')\n",
    "# M.measurementID\n",
    "M.siteInventory"
   ]
  },
  {
   "cell_type": "code",
   "execution_count": 16,
   "metadata": {},
   "outputs": [
    {
     "data": {
      "text/plain": [
       "{'SCL-_-_': {'siteID': 'SCL',\n",
       "  'description': 'Swiss Cheese Lake Eddy Covariance Station',\n",
       "  'dateEst': None,\n",
       "  'name': None,\n",
       "  'PI': None,\n",
       "  'dateEstablished': None,\n",
       "  'landCoverType': None,\n",
       "  'longitude': 'W 135 15.1144',\n",
       "  'latitude': 'N 69 13.5850'},\n",
       " 'SCL-TS-SSM': {'siteID': 'SCL',\n",
       "  'measurementType': 'TS',\n",
       "  'replicateID': 'SSM',\n",
       "  'longitude': 'W 135 15.1350',\n",
       "  'latitude': 'N 69 13.5239'},\n",
       " 'SCL-TS-WSM': {'siteID': 'SCL',\n",
       "  'measurementType': 'TS',\n",
       "  'replicateID': 'WSM',\n",
       "  'longitude': 'W 135 15.1350',\n",
       "  'latitude': 'N 69 13.5521'}}"
      ]
     },
     "execution_count": 16,
     "metadata": {},
     "output_type": "execute_result"
    }
   ],
   "source": [
    "hf.unpackDict(M.siteInventory,'-',limit=2)"
   ]
  },
  {
   "cell_type": "code",
   "execution_count": null,
   "metadata": {},
   "outputs": [
    {
     "name": "stdout",
     "output_type": "stream",
     "text": [
      "! pie\n",
      "!! food\n",
      "!!! pie\n",
      "{'food': ['r', 't', 'a', 'b'], 'pie': ['r', 't', 'a', 'b'], 'filling': ['r', 't']}\n"
     ]
    },
    {
     "data": {
      "text/plain": [
       "food(r='1', t='b', a='1', b='b')"
      ]
     },
     "execution_count": 87,
     "metadata": {},
     "output_type": "execute_result"
    }
   ],
   "source": [
    "\n",
    "@dataclass\n",
    "class filling:\n",
    "    r: str = '1'\n",
    "    t: str = 'b'\n",
    "\n",
    "    def __post_init__(self):\n",
    "        j  = '1'\n",
    "        print('!!!',type(self).__base__.__name__)\n",
    "\n",
    "\n",
    "\n",
    "@dataclass\n",
    "class pie(filling):\n",
    "    a: str = '1'\n",
    "    b: str = 'b'\n",
    "\n",
    "    def __post_init__(self):\n",
    "        print('!!',type(self).)#.__base__.__name__)\n",
    "        super().__post_init__()\n",
    "\n",
    "\n",
    "@dataclass\n",
    "class food(pie):\n",
    "\n",
    "    def __post_init__(self):\n",
    "        print('!',type(self).__base__.__name__)\n",
    "        super().__post_init__()\n",
    "        self.c = 1\n",
    "        MRO_fields = {v.__name__:list(v.__dict__['__dataclass_fields__'].keys()) \n",
    "                      for v in type(self).__mro__\n",
    "                      if v.__name__ != 'object'}\n",
    "        print(MRO_fields)\n",
    "        # print(self.__doc__)\n",
    "        # print(list(type(self).__mro__[0].__dict__['__dataclass_fields__'].keys()))\n",
    "    # def __init__(self,**kwargs):\n",
    "    #     super().__init__()\n",
    "    #     # pass\n",
    "\n",
    "food()\n",
    "# kwargs"
   ]
  },
  {
   "cell_type": "code",
   "execution_count": 31,
   "metadata": {},
   "outputs": [
    {
     "name": "stdout",
     "output_type": "stream",
     "text": [
      "{'a': Field(name='a',type=<class 'str'>,default='pi',default_factory=<dataclasses._MISSING_TYPE object at 0x000001992830AE40>,init=True,repr=True,hash=None,compare=True,metadata=mappingproxy({}),kw_only=True,_field_type=_FIELD), 'source': Field(name='source',type=<class 'str'>,default=<dataclasses._MISSING_TYPE object at 0x000001992830AE40>,default_factory=<dataclasses._MISSING_TYPE object at 0x000001992830AE40>,init=True,repr=False,hash=None,compare=True,metadata=mappingproxy({}),kw_only=False,_field_type=_FIELD)}\n"
     ]
    },
    {
     "data": {
      "text/plain": [
       "tst(a='pi')"
      ]
     },
     "execution_count": 31,
     "metadata": {},
     "output_type": "execute_result"
    }
   ],
   "source": [
    "@dataclass(kw_only=True)\n",
    "class tt:\n",
    "    a: str = 'pi'\n",
    "\n",
    "    def __post_init__(self):\n",
    "        print(self.__dataclass_fields__)\n",
    "\n",
    "@dataclass\n",
    "class tst(tt):\n",
    "    source: str = field(repr=False)\n",
    "    def __post_init__(self):\n",
    "        return super().__post_init__()\n",
    "    \n",
    "tst(source='C:/a')"
   ]
  },
  {
   "cell_type": "markdown",
   "metadata": {},
   "source": [
    "## File Management"
   ]
  },
  {
   "cell_type": "code",
   "execution_count": null,
   "metadata": {},
   "outputs": [],
   "source": [
    "\n",
    "source = r'..\\SCL_2024'\n",
    "# print(source)\n",
    "for dir,_,files in os.walk(source):\n",
    "    # print(dir)\n",
    "    for f in files:\n",
    "        if f.endswith('.csv'):\n",
    "            file = os.path.join(dir,f)\n",
    "            for key in ['WSM']:\n",
    "                if key in file:\n",
    "                    fn = file"
   ]
  },
  {
   "cell_type": "markdown",
   "metadata": {},
   "source": [
    "# Database"
   ]
  },
  {
   "cell_type": "code",
   "execution_count": 51,
   "metadata": {},
   "outputs": [
    {
     "name": "stdout",
     "output_type": "stream",
     "text": [
      "Standardizing and documenting traces\n",
      "Re-named:  #  to:  _\n",
      "observation(ignore=True, name_in='#', unit_in=None, safe_name='_', dtype='<i8', variableDescription=None)\n",
      "Re-named:  Date Time, GMT+00:00  to:  Date_Time_GMT_00_00\n",
      "observation(ignore=True, name_in='Date Time, GMT+00:00', unit_in=None, safe_name='Date_Time_GMT_00_00', dtype='|O', variableDescription=None)\n",
      "Re-named:  Temp, °C (5cm  to:  Temp_C_5cm\n",
      "observation(ignore=False, name_in='Temp, °C (5cm', unit_in=None, safe_name='Temp_C_5cm', dtype='<f8', variableDescription=None)\n",
      "Re-named:  Temp, °C (25cm  to:  Temp_C_25cm\n",
      "observation(ignore=False, name_in='Temp, °C (25cm', unit_in=None, safe_name='Temp_C_25cm', dtype='<f8', variableDescription=None)\n",
      "Re-named:  Temp, °C (50cm  to:  Temp_C_50cm\n",
      "observation(ignore=False, name_in='Temp, °C (50cm', unit_in=None, safe_name='Temp_C_50cm', dtype='<f8', variableDescription=None)\n",
      "Re-named:  Temp, °C (100cm  to:  Temp_C_100cm\n",
      "observation(ignore=False, name_in='Temp, °C (100cm', unit_in=None, safe_name='Temp_C_100cm', dtype='<f8', variableDescription=None)\n"
     ]
    },
    {
     "data": {
      "text/plain": [
       "{'verbose': True,\n",
       " 'loggerName': None,\n",
       " 'frequency': '30min',\n",
       " 'timeZone': 'UTC',\n",
       " 'yearfirst': True,\n",
       " 'Variables': {'_': {'ignore': True,\n",
       "   'name_in': '#',\n",
       "   'unit_in': None,\n",
       "   'safe_name': '_',\n",
       "   'dtype': '<i8',\n",
       "   'variableDescription': None},\n",
       "  'Date_Time_GMT_00_00': {'ignore': True,\n",
       "   'name_in': 'Date Time, GMT+00:00',\n",
       "   'unit_in': None,\n",
       "   'safe_name': 'Date_Time_GMT_00_00',\n",
       "   'dtype': '|O',\n",
       "   'variableDescription': None},\n",
       "  'Temp_C_5cm': {'ignore': False,\n",
       "   'name_in': 'Temp, °C (5cm',\n",
       "   'unit_in': None,\n",
       "   'safe_name': 'Temp_C_5cm',\n",
       "   'dtype': '<f8',\n",
       "   'variableDescription': None},\n",
       "  'Temp_C_25cm': {'ignore': False,\n",
       "   'name_in': 'Temp, °C (25cm',\n",
       "   'unit_in': None,\n",
       "   'safe_name': 'Temp_C_25cm',\n",
       "   'dtype': '<f8',\n",
       "   'variableDescription': None},\n",
       "  'Temp_C_50cm': {'ignore': False,\n",
       "   'name_in': 'Temp, °C (50cm',\n",
       "   'unit_in': None,\n",
       "   'safe_name': 'Temp_C_50cm',\n",
       "   'dtype': '<f8',\n",
       "   'variableDescription': None},\n",
       "  'Temp_C_100cm': {'ignore': False,\n",
       "   'name_in': 'Temp, °C (100cm',\n",
       "   'unit_in': None,\n",
       "   'safe_name': 'Temp_C_100cm',\n",
       "   'dtype': '<f8',\n",
       "   'variableDescription': None}}}"
      ]
     },
     "execution_count": 51,
     "metadata": {},
     "output_type": "execute_result"
    }
   ],
   "source": [
    "fn\n",
    "\n",
    "import rawDataFile as rawDataFile\n",
    "importlib.reload(rawDataFile)\n",
    "\n",
    "rd = rawDataFile.hoboCSV(source=fn,excludePattern={r\"LGR(.*?)LBL: \":'',\n",
    "                                                   r'\\)':'cm'})\n",
    "rd.Metadata"
   ]
  },
  {
   "cell_type": "code",
   "execution_count": 63,
   "metadata": {},
   "outputs": [
    {
     "name": "stdout",
     "output_type": "stream",
     "text": [
      "Initializing empty database\n",
      "Creating folder:  c:\\Users\\jskeeter\\gsc-permafrost\\EC_dataPipeline\\test\\_metadataFile.yml\n",
      "Creating file:  c:\\Users\\jskeeter\\gsc-permafrost\\EC_dataPipeline\\test\\_logFile.txt\n",
      "_ {'ignore': True, 'name_in': '#', 'unit_in': None, 'safe_name': '_', 'dtype': '<i8', 'variableDescription': None}\n",
      "Date_Time_GMT_00_00 {'ignore': True, 'name_in': 'Date Time, GMT+00:00', 'unit_in': None, 'safe_name': 'Date_Time_GMT_00_00', 'dtype': '|O', 'variableDescription': None}\n",
      "Temp_C_5cm {'ignore': False, 'name_in': 'Temp, °C (5cm', 'unit_in': None, 'safe_name': 'Temp_C_5cm', 'dtype': '<f8', 'variableDescription': None}\n",
      "Temp_C_25cm {'ignore': False, 'name_in': 'Temp, °C (25cm', 'unit_in': None, 'safe_name': 'Temp_C_25cm', 'dtype': '<f8', 'variableDescription': None}\n",
      "Temp_C_50cm {'ignore': False, 'name_in': 'Temp, °C (50cm', 'unit_in': None, 'safe_name': 'Temp_C_50cm', 'dtype': '<f8', 'variableDescription': None}\n",
      "Temp_C_100cm {'ignore': False, 'name_in': 'Temp, °C (100cm', 'unit_in': None, 'safe_name': 'Temp_C_100cm', 'dtype': '<f8', 'variableDescription': None}\n",
      "c:\\Users\\jskeeter\\gsc-permafrost\\EC_dataPipeline\\test\\2024\\SCL\\raw\\TS-1\n"
     ]
    },
    {
     "data": {
      "text/html": [
       "<div>\n",
       "<style scoped>\n",
       "    .dataframe tbody tr th:only-of-type {\n",
       "        vertical-align: middle;\n",
       "    }\n",
       "\n",
       "    .dataframe tbody tr th {\n",
       "        vertical-align: top;\n",
       "    }\n",
       "\n",
       "    .dataframe thead th {\n",
       "        text-align: right;\n",
       "    }\n",
       "</style>\n",
       "<table border=\"1\" class=\"dataframe\">\n",
       "  <thead>\n",
       "    <tr style=\"text-align: right;\">\n",
       "      <th></th>\n",
       "      <th>Temp_C_5cm</th>\n",
       "      <th>Temp_C_25cm</th>\n",
       "      <th>Temp_C_50cm</th>\n",
       "      <th>Temp_C_100cm</th>\n",
       "    </tr>\n",
       "  </thead>\n",
       "  <tbody>\n",
       "    <tr>\n",
       "      <th>2024-07-20 21:00:00</th>\n",
       "      <td>7.217</td>\n",
       "      <td>2.423</td>\n",
       "      <td>-0.032</td>\n",
       "      <td>-1.470</td>\n",
       "    </tr>\n",
       "    <tr>\n",
       "      <th>2024-07-20 21:30:00</th>\n",
       "      <td>11.759</td>\n",
       "      <td>6.712</td>\n",
       "      <td>-0.060</td>\n",
       "      <td>-1.470</td>\n",
       "    </tr>\n",
       "    <tr>\n",
       "      <th>2024-07-20 22:00:00</th>\n",
       "      <td>11.467</td>\n",
       "      <td>5.257</td>\n",
       "      <td>-0.060</td>\n",
       "      <td>-1.470</td>\n",
       "    </tr>\n",
       "    <tr>\n",
       "      <th>2024-07-20 22:30:00</th>\n",
       "      <td>11.029</td>\n",
       "      <td>4.428</td>\n",
       "      <td>-0.088</td>\n",
       "      <td>-1.470</td>\n",
       "    </tr>\n",
       "    <tr>\n",
       "      <th>2024-07-20 23:00:00</th>\n",
       "      <td>10.907</td>\n",
       "      <td>4.011</td>\n",
       "      <td>-0.088</td>\n",
       "      <td>-1.470</td>\n",
       "    </tr>\n",
       "    <tr>\n",
       "      <th>...</th>\n",
       "      <td>...</td>\n",
       "      <td>...</td>\n",
       "      <td>...</td>\n",
       "      <td>...</td>\n",
       "    </tr>\n",
       "    <tr>\n",
       "      <th>2024-09-13 16:00:00</th>\n",
       "      <td>4.869</td>\n",
       "      <td>3.670</td>\n",
       "      <td>0.412</td>\n",
       "      <td>-0.845</td>\n",
       "    </tr>\n",
       "    <tr>\n",
       "      <th>2024-09-13 16:30:00</th>\n",
       "      <td>4.869</td>\n",
       "      <td>3.643</td>\n",
       "      <td>0.412</td>\n",
       "      <td>-0.845</td>\n",
       "    </tr>\n",
       "    <tr>\n",
       "      <th>2024-09-13 17:00:00</th>\n",
       "      <td>4.869</td>\n",
       "      <td>3.643</td>\n",
       "      <td>0.412</td>\n",
       "      <td>-0.845</td>\n",
       "    </tr>\n",
       "    <tr>\n",
       "      <th>2024-09-13 17:30:00</th>\n",
       "      <td>4.895</td>\n",
       "      <td>3.617</td>\n",
       "      <td>0.412</td>\n",
       "      <td>-0.845</td>\n",
       "    </tr>\n",
       "    <tr>\n",
       "      <th>2024-09-13 18:00:00</th>\n",
       "      <td>4.921</td>\n",
       "      <td>3.591</td>\n",
       "      <td>0.412</td>\n",
       "      <td>-0.845</td>\n",
       "    </tr>\n",
       "  </tbody>\n",
       "</table>\n",
       "<p>2634 rows × 4 columns</p>\n",
       "</div>"
      ],
      "text/plain": [
       "                     Temp_C_5cm  Temp_C_25cm  Temp_C_50cm  Temp_C_100cm\n",
       "2024-07-20 21:00:00       7.217        2.423       -0.032        -1.470\n",
       "2024-07-20 21:30:00      11.759        6.712       -0.060        -1.470\n",
       "2024-07-20 22:00:00      11.467        5.257       -0.060        -1.470\n",
       "2024-07-20 22:30:00      11.029        4.428       -0.088        -1.470\n",
       "2024-07-20 23:00:00      10.907        4.011       -0.088        -1.470\n",
       "...                         ...          ...          ...           ...\n",
       "2024-09-13 16:00:00       4.869        3.670        0.412        -0.845\n",
       "2024-09-13 16:30:00       4.869        3.643        0.412        -0.845\n",
       "2024-09-13 17:00:00       4.869        3.643        0.412        -0.845\n",
       "2024-09-13 17:30:00       4.895        3.617        0.412        -0.845\n",
       "2024-09-13 18:00:00       4.921        3.591        0.412        -0.845\n",
       "\n",
       "[2634 rows x 4 columns]"
      ]
     },
     "execution_count": 63,
     "metadata": {},
     "output_type": "execute_result"
    }
   ],
   "source": [
    "import shutil\n",
    "import database as pyDB\n",
    "importlib.reload(pyDB)\n",
    "\n",
    "dbpth = os.path.join(os.getcwd(),'test')\n",
    "if os.path.isdir(dbpth):\n",
    "    shutil.rmtree(dbpth)\n",
    "\n",
    "# db = pyDB.database(projectPath=dbpth,\n",
    "#     # siteID=['SCL'],\n",
    "#     # Years=[str(y) for y in range(2024,2025)],\n",
    "#     # verbose=False\n",
    "#     )\n",
    "# db.\n",
    "n = pyDB.rawDatabaseImport(projectPath=dbpth,measurementID=M.measurementID,dataIn=rd.Data,metadataIn=rd.Metadata)\n",
    "n.dataIn"
   ]
  },
  {
   "cell_type": "code",
   "execution_count": 61,
   "metadata": {},
   "outputs": [
    {
     "ename": "ValueError",
     "evalue": "not enough values to unpack (expected 2, got 1)",
     "output_type": "error",
     "traceback": [
      "\u001b[1;31m---------------------------------------------------------------------------\u001b[0m",
      "\u001b[1;31mValueError\u001b[0m                                Traceback (most recent call last)",
      "Cell \u001b[1;32mIn[61], line 1\u001b[0m\n\u001b[1;32m----> 1\u001b[0m siteID,subsiteID\u001b[38;5;241m=\u001b[39m\u001b[38;5;124m'\u001b[39m\u001b[38;5;124ma\u001b[39m\u001b[38;5;124m'\u001b[39m\u001b[38;5;241m.\u001b[39msplit(\u001b[38;5;124m'\u001b[39m\u001b[38;5;124m-\u001b[39m\u001b[38;5;124m'\u001b[39m,\u001b[38;5;241m1\u001b[39m)\n",
      "\u001b[1;31mValueError\u001b[0m: not enough values to unpack (expected 2, got 1)"
     ]
    }
   ],
   "source": [
    "siteID,subsiteID='a'.split('-',1)"
   ]
  },
  {
   "cell_type": "code",
   "execution_count": null,
   "metadata": {},
   "outputs": [],
   "source": []
  }
 ],
 "metadata": {
  "kernelspec": {
   "display_name": "Python 3",
   "language": "python",
   "name": "python3"
  },
  "language_info": {
   "codemirror_mode": {
    "name": "ipython",
    "version": 3
   },
   "file_extension": ".py",
   "mimetype": "text/x-python",
   "name": "python",
   "nbconvert_exporter": "python",
   "pygments_lexer": "ipython3",
   "version": "3.11.5"
  }
 },
 "nbformat": 4,
 "nbformat_minor": 2
}
