{
 "cells": [
  {
   "cell_type": "markdown",
   "id": "ea4d8577",
   "metadata": {},
   "source": [
    "# How to use the dbpipeline module:\n",
    "\n",
    "1. Import the module and some dependencies (for the notebook)"
   ]
  },
  {
   "cell_type": "code",
   "execution_count": 1,
   "id": "bcadcbdc",
   "metadata": {},
   "outputs": [],
   "source": [
    "import os\n",
    "import shutil\n",
    "import dbPipeline\n",
    "from parseFiles.helperFunctions.loadDict import loadDict"
   ]
  },
  {
   "cell_type": "markdown",
   "id": "62e1404e",
   "metadata": {},
   "source": [
    "2. define the directories containing the raw data and the project path (to be created if it does not exist)\n",
    "\n",
    "* Here we are just using the example data"
   ]
  },
  {
   "cell_type": "code",
   "execution_count": 2,
   "id": "db7f6007",
   "metadata": {},
   "outputs": [],
   "source": [
    "data_dump = os.path.join(os.getcwd(),'example_data')\n",
    "\n",
    "projectPath = os.path.join(os.getcwd(),'test')\n",
    "\n",
    "# Just for the example, we will delete the exiting test project directory\n",
    "try:\n",
    "    shutil.rmtree(projectPath)\n",
    "except:\n",
    "    pass"
   ]
  },
  {
   "cell_type": "markdown",
   "id": "5decd990",
   "metadata": {},
   "source": [
    "3. Create a new, empty database, with a template for defining the sites and measurements"
   ]
  },
  {
   "cell_type": "code",
   "execution_count": 3,
   "id": "04d71b37",
   "metadata": {},
   "outputs": [
    {
     "name": "stdout",
     "output_type": "stream",
     "text": [
      "\n",
      "Creating empty project from template\n",
      "\n",
      "Saving:  c:\\Users\\jskeeter\\gsc-permafrost\\EC_dataPipeline\\test\\Sites\\siteID\\siteID_metadata.yml\n",
      "\n",
      "Saving:  c:\\Users\\jskeeter\\gsc-permafrost\\EC_dataPipeline\\test\\Sites\\siteID\\measurementID\\sourceFiles.yml\n",
      "\n",
      "Saving:  c:\\Users\\jskeeter\\gsc-permafrost\\EC_dataPipeline\\test\\Sites\\siteID\\siteID_metadata.yml\n",
      "\n",
      "Saving:  c:\\Users\\jskeeter\\gsc-permafrost\\EC_dataPipeline\\test\\Sites\\siteID\\measurementID\\sourceFiles.yml\n"
     ]
    }
   ],
   "source": [
    "db = dbPipeline.database(projectPath=projectPath,verbose=True,template=True)"
   ]
  }
 ],
 "metadata": {
  "kernelspec": {
   "display_name": ".venv",
   "language": "python",
   "name": "python3"
  },
  "language_info": {
   "codemirror_mode": {
    "name": "ipython",
    "version": 3
   },
   "file_extension": ".py",
   "mimetype": "text/x-python",
   "name": "python",
   "nbconvert_exporter": "python",
   "pygments_lexer": "ipython3",
   "version": "3.12.9"
  }
 },
 "nbformat": 4,
 "nbformat_minor": 5
}
