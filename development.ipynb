{
 "cells": [
  {
   "cell_type": "markdown",
   "metadata": {},
   "source": [
    "## Find and import HOBO files"
   ]
  },
  {
   "cell_type": "code",
   "execution_count": 1,
   "metadata": {},
   "outputs": [
    {
     "data": {
      "text/plain": [
       "{'a': 'b', 'b': 'c'}"
      ]
     },
     "execution_count": 1,
     "metadata": {},
     "output_type": "execute_result"
    }
   ],
   "source": [
    "a = {'a':'b'}\n",
    "b = {'b':'c'}\n",
    "c = a | b\n",
    "c"
   ]
  },
  {
   "cell_type": "code",
   "execution_count": 7,
   "metadata": {},
   "outputs": [
    {
     "name": "stdout",
     "output_type": "stream",
     "text": [
      "{'siteID': 'SCL', 'fileType': 'HoboCSV', 'loggerName': None, 'subSiteID': 'WSM', 'siteDescription': 'Wet Sedge Meadow at Swiss Cheese Lake', 'replicateID': 1, 'frequency': '30min', 'timeZone': 'UTC', 'latlon': [69.5, -134.0], 'Variables': {'_': {'ignore': True, 'name_in': '#', 'unit_in': None, 'unit_out': None, 'name_out': '_', 'dtype': '<i8', 'variableDescription': None, 'V': None, 'H': None, 'R': None}, 'Date_Time_GMT_00_00': {'ignore': True, 'name_in': 'Date Time, GMT+00:00', 'unit_in': None, 'unit_out': None, 'name_out': 'Date_Time_GMT_00_00', 'dtype': '|O', 'variableDescription': None, 'V': None, 'H': None, 'R': None}, 'Temp_C_LGR_S_N_20750527_SEN_S_N_20750527_LBL_5_': {'ignore': True, 'name_in': 'Temp, °C (LGR S/N: 20750527, SEN S/N: 20750527, LBL: 5)', 'unit_in': None, 'unit_out': None, 'name_out': 'Temp_C_LGR_S_N_20750527_SEN_S_N_20750527_LBL_5_', 'dtype': '<f8', 'variableDescription': None, 'V': None, 'H': None, 'R': None}, 'Temp_C_LGR_S_N_20750527_SEN_S_N_20750527_LBL_25_': {'ignore': True, 'name_in': 'Temp, °C (LGR S/N: 20750527, SEN S/N: 20750527, LBL: 25)', 'unit_in': None, 'unit_out': None, 'name_out': 'Temp_C_LGR_S_N_20750527_SEN_S_N_20750527_LBL_25_', 'dtype': '<f8', 'variableDescription': None, 'V': None, 'H': None, 'R': None}, 'Temp_C_LGR_S_N_20750527_SEN_S_N_20750527_LBL_50_': {'ignore': True, 'name_in': 'Temp, °C (LGR S/N: 20750527, SEN S/N: 20750527, LBL: 50)', 'unit_in': None, 'unit_out': None, 'name_out': 'Temp_C_LGR_S_N_20750527_SEN_S_N_20750527_LBL_50_', 'dtype': '<f8', 'variableDescription': None, 'V': None, 'H': None, 'R': None}, 'Temp_C_LGR_S_N_20750527_SEN_S_N_20750527_LBL_100_': {'ignore': True, 'name_in': 'Temp, °C (LGR S/N: 20750527, SEN S/N: 20750527, LBL: 100)', 'unit_in': None, 'unit_out': None, 'name_out': 'Temp_C_LGR_S_N_20750527_SEN_S_N_20750527_LBL_100_', 'dtype': '<f8', 'variableDescription': None, 'V': None, 'H': None, 'R': None}, 'Host_Connected_LGR_S_N_20750527_': {'ignore': True, 'name_in': 'Host Connected (LGR S/N: 20750527)', 'unit_in': None, 'unit_out': None, 'name_out': 'Host_Connected_LGR_S_N_20750527_', 'dtype': '|O', 'variableDescription': None, 'V': None, 'H': None, 'R': None}, 'End_Of_File_LGR_S_N_20750527_': {'ignore': True, 'name_in': 'End Of File (LGR S/N: 20750527)', 'unit_in': None, 'unit_out': None, 'name_out': 'End_Of_File_LGR_S_N_20750527_', 'dtype': '|O', 'variableDescription': None, 'V': None, 'H': None, 'R': None}}}\n",
      "{'siteID': 'SCL', 'fileType': 'HoboCSV', 'loggerName': None, 'subSiteID': 'SSM', 'siteDescription': 'Salix Sedge Meadow at Swiss Cheese Lake', 'replicateID': 2, 'frequency': '30min', 'timeZone': 'UTC', 'latlon': [69.5, -134.0], 'Variables': {'_': {'ignore': True, 'name_in': '#', 'unit_in': None, 'unit_out': None, 'name_out': '_', 'dtype': '<i8', 'variableDescription': None, 'V': None, 'H': None, 'R': None}, 'Date_Time_GMT_00_00': {'ignore': True, 'name_in': 'Date Time, GMT+00:00', 'unit_in': None, 'unit_out': None, 'name_out': 'Date_Time_GMT_00_00', 'dtype': '|O', 'variableDescription': None, 'V': None, 'H': None, 'R': None}, 'Temp_C_LGR_S_N_20750528_SEN_S_N_20750528_LBL_5_': {'ignore': True, 'name_in': 'Temp, °C (LGR S/N: 20750528, SEN S/N: 20750528, LBL: 5)', 'unit_in': None, 'unit_out': None, 'name_out': 'Temp_C_LGR_S_N_20750528_SEN_S_N_20750528_LBL_5_', 'dtype': '<f8', 'variableDescription': None, 'V': None, 'H': None, 'R': None}, 'Temp_C_LGR_S_N_20750528_SEN_S_N_20750528_LBL_25_': {'ignore': True, 'name_in': 'Temp, °C (LGR S/N: 20750528, SEN S/N: 20750528, LBL: 25)', 'unit_in': None, 'unit_out': None, 'name_out': 'Temp_C_LGR_S_N_20750528_SEN_S_N_20750528_LBL_25_', 'dtype': '<f8', 'variableDescription': None, 'V': None, 'H': None, 'R': None}, 'Temp_C_LGR_S_N_20750528_SEN_S_N_20750528_LBL_50_': {'ignore': True, 'name_in': 'Temp, °C (LGR S/N: 20750528, SEN S/N: 20750528, LBL: 50)', 'unit_in': None, 'unit_out': None, 'name_out': 'Temp_C_LGR_S_N_20750528_SEN_S_N_20750528_LBL_50_', 'dtype': '<f8', 'variableDescription': None, 'V': None, 'H': None, 'R': None}, 'Temp_C_LGR_S_N_20750528_SEN_S_N_20750528_LBL_100_': {'ignore': True, 'name_in': 'Temp, °C (LGR S/N: 20750528, SEN S/N: 20750528, LBL: 100)', 'unit_in': None, 'unit_out': None, 'name_out': 'Temp_C_LGR_S_N_20750528_SEN_S_N_20750528_LBL_100_', 'dtype': '<f8', 'variableDescription': None, 'V': None, 'H': None, 'R': None}, 'Host_Connected_LGR_S_N_20750528_': {'ignore': True, 'name_in': 'Host Connected (LGR S/N: 20750528)', 'unit_in': None, 'unit_out': None, 'name_out': 'Host_Connected_LGR_S_N_20750528_', 'dtype': '|O', 'variableDescription': None, 'V': None, 'H': None, 'R': None}, 'End_Of_File_LGR_S_N_20750528_': {'ignore': True, 'name_in': 'End Of File (LGR S/N: 20750528)', 'unit_in': None, 'unit_out': None, 'name_out': 'End_Of_File_LGR_S_N_20750528_', 'dtype': '|O', 'variableDescription': None, 'V': None, 'H': None, 'R': None}}}\n",
      "{'siteID': 'SCL', 'fileType': 'HoboCSV', 'loggerName': None, 'subSiteID': 'WSM', 'siteDescription': 'Wet Sedge Meadow at Swiss Cheese Lake', 'replicateID': 1, 'frequency': '30min', 'timeZone': 'UTC', 'latlon': [69.5, -134.0], 'Variables': {'_': {'ignore': True, 'name_in': '#', 'unit_in': None, 'unit_out': None, 'name_out': '_', 'dtype': '<i8', 'variableDescription': None, 'V': None, 'H': None, 'R': None}, 'Date_Time_GMT_00_00': {'ignore': True, 'name_in': 'Date Time, GMT+00:00', 'unit_in': None, 'unit_out': None, 'name_out': 'Date_Time_GMT_00_00', 'dtype': '|O', 'variableDescription': None, 'V': None, 'H': None, 'R': None}, 'Temp_C_LGR_S_N_20750527_SEN_S_N_20750527_LBL_5_': {'ignore': True, 'name_in': 'Temp, °C (LGR S/N: 20750527, SEN S/N: 20750527, LBL: 5)', 'unit_in': None, 'unit_out': None, 'name_out': 'Temp_C_LGR_S_N_20750527_SEN_S_N_20750527_LBL_5_', 'dtype': '<f8', 'variableDescription': None, 'V': None, 'H': None, 'R': None}, 'Temp_C_LGR_S_N_20750527_SEN_S_N_20750527_LBL_25_': {'ignore': True, 'name_in': 'Temp, °C (LGR S/N: 20750527, SEN S/N: 20750527, LBL: 25)', 'unit_in': None, 'unit_out': None, 'name_out': 'Temp_C_LGR_S_N_20750527_SEN_S_N_20750527_LBL_25_', 'dtype': '<f8', 'variableDescription': None, 'V': None, 'H': None, 'R': None}, 'Temp_C_LGR_S_N_20750527_SEN_S_N_20750527_LBL_50_': {'ignore': True, 'name_in': 'Temp, °C (LGR S/N: 20750527, SEN S/N: 20750527, LBL: 50)', 'unit_in': None, 'unit_out': None, 'name_out': 'Temp_C_LGR_S_N_20750527_SEN_S_N_20750527_LBL_50_', 'dtype': '<f8', 'variableDescription': None, 'V': None, 'H': None, 'R': None}, 'Temp_C_LGR_S_N_20750527_SEN_S_N_20750527_LBL_100_': {'ignore': True, 'name_in': 'Temp, °C (LGR S/N: 20750527, SEN S/N: 20750527, LBL: 100)', 'unit_in': None, 'unit_out': None, 'name_out': 'Temp_C_LGR_S_N_20750527_SEN_S_N_20750527_LBL_100_', 'dtype': '<f8', 'variableDescription': None, 'V': None, 'H': None, 'R': None}, 'Host_Connected_LGR_S_N_20750527_': {'ignore': True, 'name_in': 'Host Connected (LGR S/N: 20750527)', 'unit_in': None, 'unit_out': None, 'name_out': 'Host_Connected_LGR_S_N_20750527_', 'dtype': '|O', 'variableDescription': None, 'V': None, 'H': None, 'R': None}, 'Stopped_LGR_S_N_20750527_': {'ignore': True, 'name_in': 'Stopped (LGR S/N: 20750527)', 'unit_in': None, 'unit_out': None, 'name_out': 'Stopped_LGR_S_N_20750527_', 'dtype': '|O', 'variableDescription': None, 'V': None, 'H': None, 'R': None}, 'End_Of_File_LGR_S_N_20750527_': {'ignore': True, 'name_in': 'End Of File (LGR S/N: 20750527)', 'unit_in': None, 'unit_out': None, 'name_out': 'End_Of_File_LGR_S_N_20750527_', 'dtype': '|O', 'variableDescription': None, 'V': None, 'H': None, 'R': None}}}\n",
      "{'dictionary_item_added': [\"root['Variables']['Stopped_LGR_S_N_20750527_']\"]}\n",
      "{'siteID': 'SCL', 'fileType': 'HoboCSV', 'loggerName': None, 'subSiteID': 'SSM', 'siteDescription': 'Salix Sedge Meadow at Swiss Cheese Lake', 'replicateID': 2, 'frequency': '30min', 'timeZone': 'UTC', 'latlon': [69.5, -134.0], 'Variables': {'_': {'ignore': True, 'name_in': '#', 'unit_in': None, 'unit_out': None, 'name_out': '_', 'dtype': '<i8', 'variableDescription': None, 'V': None, 'H': None, 'R': None}, 'Date_Time_GMT_00_00': {'ignore': True, 'name_in': 'Date Time, GMT+00:00', 'unit_in': None, 'unit_out': None, 'name_out': 'Date_Time_GMT_00_00', 'dtype': '|O', 'variableDescription': None, 'V': None, 'H': None, 'R': None}, 'Temp_C_LGR_S_N_20750528_SEN_S_N_20750528_LBL_5_': {'ignore': True, 'name_in': 'Temp, °C (LGR S/N: 20750528, SEN S/N: 20750528, LBL: 5)', 'unit_in': None, 'unit_out': None, 'name_out': 'Temp_C_LGR_S_N_20750528_SEN_S_N_20750528_LBL_5_', 'dtype': '<f8', 'variableDescription': None, 'V': None, 'H': None, 'R': None}, 'Temp_C_LGR_S_N_20750528_SEN_S_N_20750528_LBL_25_': {'ignore': True, 'name_in': 'Temp, °C (LGR S/N: 20750528, SEN S/N: 20750528, LBL: 25)', 'unit_in': None, 'unit_out': None, 'name_out': 'Temp_C_LGR_S_N_20750528_SEN_S_N_20750528_LBL_25_', 'dtype': '<f8', 'variableDescription': None, 'V': None, 'H': None, 'R': None}, 'Temp_C_LGR_S_N_20750528_SEN_S_N_20750528_LBL_50_': {'ignore': True, 'name_in': 'Temp, °C (LGR S/N: 20750528, SEN S/N: 20750528, LBL: 50)', 'unit_in': None, 'unit_out': None, 'name_out': 'Temp_C_LGR_S_N_20750528_SEN_S_N_20750528_LBL_50_', 'dtype': '<f8', 'variableDescription': None, 'V': None, 'H': None, 'R': None}, 'Temp_C_LGR_S_N_20750528_SEN_S_N_20750528_LBL_100_': {'ignore': True, 'name_in': 'Temp, °C (LGR S/N: 20750528, SEN S/N: 20750528, LBL: 100)', 'unit_in': None, 'unit_out': None, 'name_out': 'Temp_C_LGR_S_N_20750528_SEN_S_N_20750528_LBL_100_', 'dtype': '<f8', 'variableDescription': None, 'V': None, 'H': None, 'R': None}, 'Host_Connected_LGR_S_N_20750528_': {'ignore': True, 'name_in': 'Host Connected (LGR S/N: 20750528)', 'unit_in': None, 'unit_out': None, 'name_out': 'Host_Connected_LGR_S_N_20750528_', 'dtype': '|O', 'variableDescription': None, 'V': None, 'H': None, 'R': None}, 'Stopped_LGR_S_N_20750528_': {'ignore': True, 'name_in': 'Stopped (LGR S/N: 20750528)', 'unit_in': None, 'unit_out': None, 'name_out': 'Stopped_LGR_S_N_20750528_', 'dtype': '|O', 'variableDescription': None, 'V': None, 'H': None, 'R': None}, 'End_Of_File_LGR_S_N_20750528_': {'ignore': True, 'name_in': 'End Of File (LGR S/N: 20750528)', 'unit_in': None, 'unit_out': None, 'name_out': 'End_Of_File_LGR_S_N_20750528_', 'dtype': '|O', 'variableDescription': None, 'V': None, 'H': None, 'R': None}}}\n",
      "{'dictionary_item_added': [\"root['Variables']['Stopped_LGR_S_N_20750528_']\"]}\n"
     ]
    }
   ],
   "source": [
    "import importlib\n",
    "import database as pyDB\n",
    "importlib.reload(pyDB)\n",
    "import rawDataFile as rawDataFile\n",
    "importlib.reload(rawDataFile)\n",
    "\n",
    "import os\n",
    "import shutil\n",
    "import numpy as np\n",
    "import pandas as pd\n",
    "import matplotlib.pyplot as plt\n",
    "\n",
    "\n",
    "dbpth = os.path.join(os.getcwd(),'test')\n",
    "\n",
    "if os.path.isdir(dbpth):\n",
    "    shutil.rmtree(dbpth)\n",
    "\n",
    "df = pyDB.database(projectPath=dbpth,\n",
    "    siteID=['SCL'],\n",
    "    Years=[str(y) for y in range(2024,2025)],\n",
    "    verbose=False\n",
    "    )\n",
    "\n",
    "subSite = {\n",
    "    'WSM':{'replicateID':1,\n",
    "        'subSiteID':'WSM',\n",
    "        'latlon':[69.5,-134.0],\n",
    "        'siteDescription':'Wet Sedge Meadow at Swiss Cheese Lake'},\n",
    "    'SSM':{'replicateID':2,\n",
    "        'subSiteID':'SSM',\n",
    "        'latlon':[69.5,-134.0],\n",
    "        'siteDescription':'Salix Sedge Meadow at Swiss Cheese Lake'}\n",
    "}\n",
    "\n",
    "source = r'..\\SCL_2024'\n",
    "# print(source)\n",
    "for dir,_,files in os.walk(source):\n",
    "    # print(dir)\n",
    "    for f in files:\n",
    "        if f.endswith('.csv'):\n",
    "            file = os.path.join(dir,f)\n",
    "            for key in subSite:\n",
    "                if key in file:\n",
    "                    # print(file)\n",
    "                    hf = rawDataFile.hoboCSV(sourcePath=file,\n",
    "                                  siteID='SCL',\n",
    "                                  **subSite[key],\n",
    "                                  verbose = False)\n",
    "                    print(hf.Metadata)\n",
    "                    df.rawDatabaseImport(hf.Data,hf.Metadata)\n",
    "                    "
   ]
  },
  {
   "cell_type": "code",
   "execution_count": 86,
   "metadata": {},
   "outputs": [
    {
     "name": "stdout",
     "output_type": "stream",
     "text": [
      "Empty DataFrame\n",
      "Columns: []\n",
      "Index: []\n"
     ]
    }
   ],
   "source": [
    "\n",
    "importlib.reload(rawDataFile)\n",
    "rd = rawDataFile.genericLoggerFile()\n",
    "print(rd.Data)"
   ]
  },
  {
   "cell_type": "code",
   "execution_count": 19,
   "metadata": {},
   "outputs": [],
   "source": [
    "import importlib\n",
    "import rawDataFile as rawDataFile\n",
    "importlib.reload(rawDataFile)\n",
    "file = r'..\\SCL_2024\\20240914\\20750527-SHSC.WSM.SGT.240720_240913readout.csv'\n",
    "\n",
    "hf = rawDataFile.hoboCSV(sourcePath=file,\n",
    "        siteID='SCL',\n",
    "        loggerName='WSM',\n",
    "        frequency='30min',\n",
    "        siteDescription='Wet Sedge Meadow Soil Temperature Profile',\n",
    "        latlon=[69.5,-134.0],\n",
    "        varRepMap={'Temp':'TS'}\n",
    ")\n",
    "\n",
    "# hf.Metadata\n",
    "# hf.Data\n"
   ]
  },
  {
   "cell_type": "code",
   "execution_count": 28,
   "metadata": {},
   "outputs": [
    {
     "name": "stdout",
     "output_type": "stream",
     "text": [
      "['#', 'Date Time, GMT+00:00', 'Temp, DegC (LGR S/N: 20750527, SEN S/N: 20750527, LBL: 5)', 'Temp, DegC (LGR S/N: 20750527, SEN S/N: 20750527, LBL: 25)', 'Temp, DegC (LGR S/N: 20750527, SEN S/N: 20750527, LBL: 50)', 'Temp, DegC (LGR S/N: 20750527, SEN S/N: 20750527, LBL: 100)', 'Host Connected (LGR S/N: 20750527)', 'Stopped (LGR S/N: 20750527)', 'End Of File (LGR S/N: 20750527)']\n"
     ]
    }
   ],
   "source": [
    "from dataclasses import dataclass,field\n",
    "\n",
    "@dataclass\n",
    "class repMap:\n",
    "    # Applies a default (defaultMap) and user defined (customMap) set of replacements\n",
    "    # User defined values will superceed defaults wherever applicable\n",
    "    # Key = replacment, value = to be replaced\n",
    "    defaultMap: dict = field(default_factory=lambda:{\n",
    "        'Deg':'°'\n",
    "    })\n",
    "    customMap: dict = field(default_factory=dict)\n",
    "    names: list = field(default_factory=list)\n",
    "\n",
    "    def __post_init__(self):\n",
    "        self.customMap = self.defaultMap | self.customMap\n",
    "        for name in self.names:\n",
    "\n",
    "\n",
    "rp = repMap(userDefined={\n",
    "    'Temp':'TS'\n",
    "})\n",
    "\n",
    "hf.Data\n",
    "repCols = []\n",
    "for col in hf.Data.columns:\n",
    "    for key,val in rp.fullRepMap.items():\n",
    "        col = col.replace(val,key)\n",
    "    repCols.append(col)\n",
    "print(repCols)"
   ]
  },
  {
   "cell_type": "code",
   "execution_count": 20,
   "metadata": {},
   "outputs": [
    {
     "data": {
      "text/plain": [
       "{'a': 'b', 'c': 'e', 'f': 'g'}"
      ]
     },
     "execution_count": 20,
     "metadata": {},
     "output_type": "execute_result"
    }
   ],
   "source": [
    "# hf.Data.index.diff()\n",
    "# hf.Data.index.\n",
    "a = {'a':'b','c':'d'}\n",
    "b = {'c':'e','f':'g'}\n",
    "c = a | b\n",
    "c"
   ]
  },
  {
   "cell_type": "code",
   "execution_count": 257,
   "metadata": {},
   "outputs": [
    {
     "data": {
      "text/plain": [
       "Index([                                                                 ['#'],\n",
       "                                                  ['Date Time', ' GMT+00:00'],\n",
       "         ['Temp', ' °C (LGR S/N: 20750527', ' SEN S/N: 20750527', ' LBL: 5)'],\n",
       "        ['Temp', ' °C (LGR S/N: 20750527', ' SEN S/N: 20750527', ' LBL: 25)'],\n",
       "        ['Temp', ' °C (LGR S/N: 20750527', ' SEN S/N: 20750527', ' LBL: 50)'],\n",
       "       ['Temp', ' °C (LGR S/N: 20750527', ' SEN S/N: 20750527', ' LBL: 100)'],\n",
       "                                       ['Host Connected (LGR S/N: 20750527)'],\n",
       "                                              ['Stopped (LGR S/N: 20750527)'],\n",
       "                                          ['End Of File (LGR S/N: 20750527)']],\n",
       "      dtype='object')"
      ]
     },
     "execution_count": 257,
     "metadata": {},
     "output_type": "execute_result"
    }
   ],
   "source": [
    "file = r'..\\SCL_2024\\20240914\\20750527-SHSC.WSM.SGT.240720_240913readout.csv'\n",
    "import importlib\n",
    "import pandas as pd\n",
    "import dateutil.parser as dateParse \n",
    "import fileParsers.hoboDataFile as hobo\n",
    "from dataclasses import dataclass,field,fields\n",
    "from fileParsers import observationClasses\n",
    "importlib.reload(hobo)\n",
    "importlib.reload(observationClasses)\n",
    "\n",
    "@dataclass\n",
    "class CSV(observationClasses.Logger):\n",
    "    fileType: str = \"HoboCSV\"\n",
    "    sourcePath: str = None\n",
    "    verbose: bool = True\n",
    "    timestamp: str = \"Date Time\"\n",
    "    varRepMap: dict = field(default_factory=dict)\n",
    "    yearfirst: bool = True\n",
    "    statusCols: list = field(default_factory=lambda:['Host Connected', 'Stopped', 'End Of File'])\n",
    "\n",
    "    def __post_init__(self):\n",
    "        rawFile = open(self.sourcePath,'r',encoding='utf-8-sig')\n",
    "        T = rawFile.readline().rstrip('\\n')\n",
    "        if not T.startswith('\"Plot Title: '):\n",
    "            self.fileType = False\n",
    "        self.Data = pd.read_csv(rawFile)\n",
    "        # ID the timestamp and parse to datetime index\n",
    "        self.Data.index = self.Data[\n",
    "            self.Data.columns[self.Data.columns.str.contains(self.timestamp)].values\n",
    "            ].apply(' '.join, axis=1).apply(dateParse.parse,yearfirst=self.yearfirst)\n",
    "        self.statusCols = self.Data.columns[self.Data.columns.str.contains('|'.join(self.statusCols))].values\n",
    "        self.Data[self.statusCols] = self.Data[self.statusCols].ffill(limit=1)\n",
    "        keep = pd.isna(self.Data[self.statusCols]).all(axis=1)\n",
    "        self.Data = self.Data.loc[keep].copy()\n",
    "        # if self.writeSafeHeaders:\n",
    "        #     if self.verbose: print('Replacing non-alphanumeric header names')\n",
    "        #     self.Data.columns = self.Data.columns.str.replace('[^0-9a-zA-Z]+','_',regex=True)\n",
    "        # if self.dropNonNumeric:\n",
    "        #     if self.verbose: print('Dropping non-numeric data')\n",
    "        #     self.Data = self.Data._get_numeric_data().copy()\n",
    "        \n",
    "# hf = hobo.\n",
    "hf = CSV(sourcePath=file,\n",
    "        siteID='SCL',\n",
    "        loggerName='WSM',\n",
    "        positionID=1,\n",
    "        descritption='Wet Sedge Meadow Soil Temperature Profile'\n",
    "        )\n",
    "hf.Data.columns.str.split(',')"
   ]
  },
  {
   "cell_type": "code",
   "execution_count": null,
   "metadata": {},
   "outputs": [],
   "source": []
  },
  {
   "cell_type": "code",
   "execution_count": 230,
   "metadata": {},
   "outputs": [
    {
     "data": {
      "text/plain": [
       "Index(['_', 'Date Time_ GMT_00_00',\n",
       "       'Temp_ _C _LGR S_N_ 20750527_ SEN S_N_ 20750527_ LBL_ 5_',\n",
       "       'Temp_ _C _LGR S_N_ 20750527_ SEN S_N_ 20750527_ LBL_ 25_',\n",
       "       'Temp_ _C _LGR S_N_ 20750527_ SEN S_N_ 20750527_ LBL_ 50_',\n",
       "       'Temp_ _C _LGR S_N_ 20750527_ SEN S_N_ 20750527_ LBL_ 100_',\n",
       "       'Host Connected _LGR S_N_ 20750527_', 'Stopped _LGR S_N_ 20750527_',\n",
       "       'End Of File _LGR S_N_ 20750527_'],\n",
       "      dtype='object')"
      ]
     },
     "execution_count": 230,
     "metadata": {},
     "output_type": "execute_result"
    }
   ],
   "source": [
    "hf.Data.columns = hf.Data.columns.str.replace('[^0-9a-zA-Z]+','_',regex=True)\n",
    "\n",
    "hf.Data.columns"
   ]
  },
  {
   "cell_type": "code",
   "execution_count": 196,
   "metadata": {},
   "outputs": [
    {
     "data": {
      "text/plain": [
       "['0.5', '1.0']"
      ]
     },
     "execution_count": 196,
     "metadata": {},
     "output_type": "execute_result"
    }
   ],
   "source": [
    "a = ['1.0','0.5']\n",
    "a.sort()\n",
    "a"
   ]
  },
  {
   "cell_type": "code",
   "execution_count": null,
   "metadata": {},
   "outputs": [],
   "source": [
    "a = []\n",
    "a \n"
   ]
  },
  {
   "cell_type": "code",
   "execution_count": 182,
   "metadata": {},
   "outputs": [
    {
     "data": {
      "text/plain": [
       "array([False,  True, False, False, False, False,  True, False, False])"
      ]
     },
     "execution_count": 182,
     "metadata": {},
     "output_type": "execute_result"
    }
   ],
   "source": [
    "hf.Data.columns.str.contains('|'.join(['a','Host']))"
   ]
  },
  {
   "cell_type": "code",
   "execution_count": 141,
   "metadata": {},
   "outputs": [
    {
     "name": "stdout",
     "output_type": "stream",
     "text": [
      "{'col_index': 0, 'name_in': 'RecordNumber', 'unit_in': '', 'unit_out': '', 'name_out': 'RecordNumber', 'variable': None, 'V': 1, 'H': 1, 'R': 1}\n",
      "{'col_index': 1, 'name_in': 'Date_Time', 'unit_in': 'GMT+00:00', 'unit_out': 'GMT+00:00', 'name_out': 'Date_Time', 'variable': None, 'V': 1, 'H': 1, 'R': 1}\n",
      "{'col_index': 2, 'name_in': 'Temp', 'unit_in': '°C', 'unit_out': '°C', 'name_out': 'Temp', 'variable': None, 'V': 1, 'H': 1, 'R': 1}\n",
      "{'col_index': 3, 'name_in': 'Temp', 'unit_in': '°C', 'unit_out': '°C', 'name_out': 'Temp', 'variable': None, 'V': 2, 'H': 1, 'R': 1}\n",
      "{'col_index': 4, 'name_in': 'Temp', 'unit_in': '°C', 'unit_out': '°C', 'name_out': 'Temp', 'variable': None, 'V': 3, 'H': 1, 'R': 1}\n",
      "{'col_index': 5, 'name_in': 'Temp', 'unit_in': '°C', 'unit_out': '°C', 'name_out': 'Temp', 'variable': None, 'V': 4, 'H': 1, 'R': 1}\n",
      "{'col_index': 6, 'name_in': 'Host_Connected', 'unit_in': '20750527', 'unit_out': '20750527', 'name_out': 'Host_Connected', 'variable': None, 'V': 1, 'H': 1, 'R': 1}\n",
      "{'col_index': 7, 'name_in': 'Stopped', 'unit_in': '20750527', 'unit_out': '20750527', 'name_out': 'Stopped', 'variable': None, 'V': 1, 'H': 1, 'R': 1}\n",
      "{'col_index': 8, 'name_in': 'End_Of_File', 'unit_in': '20750527', 'unit_out': '20750527', 'name_out': 'End_Of_File', 'variable': None, 'V': 1, 'H': 1, 'R': 1}\n"
     ]
    },
    {
     "data": {
      "text/plain": [
       "dataSet(dataIn={0: {'name_in': 'RecordNumber', 'unit_in': '', 'logger_sn': '', 'sensor_sn': '', 'label': '', 'V': 1}, 1: {'name_in': 'Date_Time', 'unit_in': 'GMT+00:00', 'logger_sn': '', 'sensor_sn': '', 'label': '', 'V': 1}, 2: {'name_in': 'Temp', 'unit_in': '°C', 'logger_sn': '20750527', 'sensor_sn': '20750527', 'label': '5', 'V': 1}, 3: {'name_in': 'Temp', 'unit_in': '°C', 'logger_sn': '20750527', 'sensor_sn': '20750527', 'label': '25', 'V': 2}, 4: {'name_in': 'Temp', 'unit_in': '°C', 'logger_sn': '20750527', 'sensor_sn': '20750527', 'label': '50', 'V': 3}, 5: {'name_in': 'Temp', 'unit_in': '°C', 'logger_sn': '20750527', 'sensor_sn': '20750527', 'label': '100', 'V': 4}, 6: {'name_in': 'Host_Connected', 'unit_in': '20750527', 'logger_sn': '', 'sensor_sn': '', 'label': '', 'V': 1}, 7: {'name_in': 'Stopped', 'unit_in': '20750527', 'logger_sn': '', 'sensor_sn': '', 'label': '', 'V': 1}, 8: {'name_in': 'End_Of_File', 'unit_in': '20750527', 'logger_sn': '', 'sensor_sn': '', 'label': '', 'V': 1}}, field_names={'unit_out', 'unit_in', 'H', 'col_index', 'R', 'name_in', 'variable', 'V', 'name_out'})"
      ]
     },
     "execution_count": 141,
     "metadata": {},
     "output_type": "execute_result"
    }
   ],
   "source": [
    "\n",
    "from dataclasses import dataclass,field,fields\n",
    "\n",
    "@dataclass\n",
    "class dataTrace:\n",
    "    col_index: int = 0\n",
    "    name_in: str = None\n",
    "    unit_in: str = None\n",
    "    unit_out: str = None\n",
    "    name_out: str = None\n",
    "    variable: str = None\n",
    "    # positional variables (vertical, horizontal, repetition)\n",
    "    V: int = 1\n",
    "    H: int = 1\n",
    "    R: int = 1\n",
    "\n",
    "    def __post_init__(self):\n",
    "        if self.variable is not None and min([self.V,self.H,self.R])>0:\n",
    "            self.name_out = '_'.join([str(i) for i in [self.variable,self.V,self.H,self.R]])\n",
    "        elif self.variable is not None:\n",
    "            self.name_out = self.variable\n",
    "        else:\n",
    "            self.name_out = self.name_in\n",
    "        self.name_out.replace(' ','_')\n",
    "        if self.unit_in is not None and self.unit_out is None:\n",
    "            self.unit_out = self.unit_in\n",
    "\n",
    "@dataclass\n",
    "class dataSet:\n",
    "    dataIn: dict = field(default_factory=dict) \n",
    "    field_names: set = field(default_factory=lambda:set(f.name for f in fields(dataTrace)))\n",
    "\n",
    "\n",
    "    def __post_init__(self):\n",
    "        for key,value in self.dataIn.items():\n",
    "            obs = dataTrace(col_index=key,**{k:v for k,v in value.items() if k in self.field_names})\n",
    "            print(obs.__dict__)\n",
    "\n",
    "d = hf.Header.to_dict()\n",
    "\n",
    "dataSet(d)\n",
    "\n"
   ]
  },
  {
   "cell_type": "code",
   "execution_count": 128,
   "metadata": {},
   "outputs": [],
   "source": [
    "# hf.Header[(hf.Header.loc['name_in'].duplicated()&hf.Header.loc['unit_in'].duplicated())]\n"
   ]
  },
  {
   "cell_type": "code",
   "execution_count": 199,
   "metadata": {},
   "outputs": [
    {
     "data": {
      "image/png": "[encoded data removed]",
      "text/plain": [
       "<Figure size 640x480 with 1 Axes>"
      ]
     },
     "metadata": {},
     "output_type": "display_data"
    }
   ],
   "source": [
    "\n",
    "out = df.readDatabaseFolder(os.path.join(df.projectPath,r\"2024\\SCL\\raw\\HoboCSV\\SSm\"))\n",
    "fig = plt.figure()\n",
    "plt.plot(out['Temp_LBL_5'])\n",
    "fig.autofmt_xdate()"
   ]
  },
  {
   "cell_type": "code",
   "execution_count": 91,
   "metadata": {},
   "outputs": [
    {
     "data": {
      "text/plain": [
       "DatetimeIndex(['2024-07-20 21:00:00', '2024-07-20 21:30:00',\n",
       "               '2024-07-20 22:00:00', '2024-07-20 22:30:00',\n",
       "               '2024-07-20 23:00:00', '2024-07-20 23:30:00',\n",
       "               '2024-07-21 00:00:00', '2024-07-21 00:30:00',\n",
       "               '2024-07-21 01:00:00', '2024-07-21 01:30:00',\n",
       "               ...\n",
       "               '2024-09-13 13:00:00', '2024-09-13 13:30:00',\n",
       "               '2024-09-13 14:00:00', '2024-09-13 14:30:00',\n",
       "               '2024-09-13 15:00:00', '2024-09-13 15:30:00',\n",
       "               '2024-09-13 16:00:00', '2024-09-13 16:30:00',\n",
       "               '2024-09-13 17:00:00', '2024-09-13 17:30:00'],\n",
       "              dtype='datetime64[ns]', length=2633, freq=None)"
      ]
     },
     "execution_count": 91,
     "metadata": {},
     "output_type": "execute_result"
    }
   ],
   "source": [
    "\n",
    "import fileParsers.hoboDataFile as hobo\n",
    "importlib.reload(hobo)\n",
    "\n",
    "file = r'C:\\Users\\jskeeter\\gsc-permafrost\\SCL_2024\\20240914\\20750528-SHSC.SSM.SGT.240720_240913readout.csv'\n",
    "\n",
    "hf = hobo.CSV(sourcePath=file,\n",
    "            siteID='SCL',\n",
    "            dropNonNumeric=False,\n",
    "            **subSite[key],)\n",
    "hf.Data.index"
   ]
  },
  {
   "cell_type": "code",
   "execution_count": 37,
   "metadata": {},
   "outputs": [
    {
     "data": {
      "text/html": [
       "<div>\n",
       "<style scoped>\n",
       "    .dataframe tbody tr th:only-of-type {\n",
       "        vertical-align: middle;\n",
       "    }\n",
       "\n",
       "    .dataframe tbody tr th {\n",
       "        vertical-align: top;\n",
       "    }\n",
       "\n",
       "    .dataframe thead th {\n",
       "        text-align: right;\n",
       "    }\n",
       "</style>\n",
       "<table border=\"1\" class=\"dataframe\">\n",
       "  <thead>\n",
       "    <tr style=\"text-align: right;\">\n",
       "      <th></th>\n",
       "      <th>Date</th>\n",
       "      <th>Time</th>\n",
       "      <th>TIMESTAMP</th>\n",
       "    </tr>\n",
       "  </thead>\n",
       "  <tbody>\n",
       "    <tr>\n",
       "      <th>0</th>\n",
       "      <td>2025/1/1</td>\n",
       "      <td>12:00</td>\n",
       "      <td>2025-01-01</td>\n",
       "    </tr>\n",
       "    <tr>\n",
       "      <th>1</th>\n",
       "      <td>2025/1/1</td>\n",
       "      <td>12:05</td>\n",
       "      <td>2025-01-01</td>\n",
       "    </tr>\n",
       "  </tbody>\n",
       "</table>\n",
       "</div>"
      ],
      "text/plain": [
       "       Date   Time  TIMESTAMP\n",
       "0  2025/1/1  12:00 2025-01-01\n",
       "1  2025/1/1  12:05 2025-01-01"
      ]
     },
     "execution_count": 37,
     "metadata": {},
     "output_type": "execute_result"
    }
   ],
   "source": [
    "\n",
    "import dateutil.parser as dateParse \n",
    "df = pd.DataFrame(data = {'Date':['2025/1/1','2025/1/1'],'Time':['12:00','12:05']})\n",
    "timestamp_cols = ['Date']\n",
    "df['TIMESTAMP'] = df[timestamp_cols].apply(' '.join, axis=1).apply(dateParse.parse)\n",
    "df\n"
   ]
  },
  {
   "cell_type": "code",
   "execution_count": 2,
   "metadata": {},
   "outputs": [],
   "source": [
    "## Helpers\n",
    "import os\n",
    "import sys\n",
    "import time\n",
    "def unpackDict(Tree,format=os.path.sep,limit=None):\n",
    "    # recursive function to condense a nested dict by concatenating keys to a string\n",
    "    def unpack(child,parent=None,root=None,format=os.path.sep,limit=None):\n",
    "        pth = {}\n",
    "        if type(child) is dict and (limit is None or limit >= 0) and child:\n",
    "            if limit is not None:\n",
    "                limit -= 1\n",
    "            for key,value in child.items():\n",
    "                if parent is None:\n",
    "                    pass\n",
    "                else:\n",
    "                    key = format.join([parent,key])\n",
    "                if type(value) is not dict or (limit is not None and limit < 0) or not value:\n",
    "                    pth[key] = unpack(value,key,root,format,limit)\n",
    "                else:\n",
    "                    pth = pth | unpack(value,key,root,format,limit)\n",
    "        else:\n",
    "            if type(child) is not dict or (limit is not None and limit < 0) or not child:\n",
    "                return(child)\n",
    "            else:\n",
    "                sys.exit('Error in file tree unpack')\n",
    "        return(pth)\n",
    "    return(unpack(Tree,format=format,limit=limit))"
   ]
  },
  {
   "cell_type": "code",
   "execution_count": 30,
   "metadata": {},
   "outputs": [
    {
     "ename": "FileNotFoundError",
     "evalue": "[WinError 3] The system cannot find the path specified: 'c:\\\\Users\\\\jskeeter\\\\gsc-permafrost\\\\dataPipeline\\\\test\\\\2024\\\\SCL\\\\raw/Hobo'",
     "output_type": "error",
     "traceback": [
      "\u001b[1;31m---------------------------------------------------------------------------\u001b[0m",
      "\u001b[1;31mFileNotFoundError\u001b[0m                         Traceback (most recent call last)",
      "Cell \u001b[1;32mIn[30], line 121\u001b[0m\n\u001b[0;32m    110\u001b[0m df \u001b[38;5;241m=\u001b[39m database(projectPath\u001b[38;5;241m=\u001b[39mdbpth,\n\u001b[0;32m    111\u001b[0m     siteID\u001b[38;5;241m=\u001b[39m[\u001b[38;5;124m'\u001b[39m\u001b[38;5;124mSCL\u001b[39m\u001b[38;5;124m'\u001b[39m],\n\u001b[0;32m    112\u001b[0m     Years\u001b[38;5;241m=\u001b[39m[\u001b[38;5;28mstr\u001b[39m(y) \u001b[38;5;28;01mfor\u001b[39;00m y \u001b[38;5;129;01min\u001b[39;00m \u001b[38;5;28mrange\u001b[39m(\u001b[38;5;241m2024\u001b[39m,\u001b[38;5;241m2026\u001b[39m)]\n\u001b[0;32m    113\u001b[0m     )\n\u001b[0;32m    115\u001b[0m test \u001b[38;5;241m=\u001b[39m pd\u001b[38;5;241m.\u001b[39mDataFrame(\n\u001b[0;32m    116\u001b[0m     index\u001b[38;5;241m=\u001b[39mpd\u001b[38;5;241m.\u001b[39mDatetimeIndex([\u001b[38;5;124m'\u001b[39m\u001b[38;5;124m2024-12-31 23:30\u001b[39m\u001b[38;5;124m'\u001b[39m, \u001b[38;5;124m'\u001b[39m\u001b[38;5;124m2025-01-01 00:00\u001b[39m\u001b[38;5;124m'\u001b[39m, \u001b[38;5;124m'\u001b[39m\u001b[38;5;124m2025-01-01 00:30\u001b[39m\u001b[38;5;124m'\u001b[39m,\u001b[38;5;124m'\u001b[39m\u001b[38;5;124m2025-01-01 01:00\u001b[39m\u001b[38;5;124m'\u001b[39m]),\n\u001b[0;32m    117\u001b[0m     data\u001b[38;5;241m=\u001b[39m{\u001b[38;5;124m'\u001b[39m\u001b[38;5;124mTA\u001b[39m\u001b[38;5;124m'\u001b[39m:[\u001b[38;5;241m-\u001b[39m\u001b[38;5;241m1\u001b[39m,\u001b[38;5;241m-\u001b[39m\u001b[38;5;241m2\u001b[39m,\u001b[38;5;241m-\u001b[39m\u001b[38;5;241m3\u001b[39m,\u001b[38;5;241m-\u001b[39m\u001b[38;5;241m4\u001b[39m],\n\u001b[0;32m    118\u001b[0m           \u001b[38;5;124m'\u001b[39m\u001b[38;5;124mTF\u001b[39m\u001b[38;5;124m'\u001b[39m:[\u001b[38;5;241m-\u001b[39m\u001b[38;5;241m1\u001b[39m,\u001b[38;5;241m-\u001b[39m\u001b[38;5;241m2\u001b[39m,\u001b[38;5;241m-\u001b[39m\u001b[38;5;241m3\u001b[39m,\u001b[38;5;241m-\u001b[39m\u001b[38;5;241m4\u001b[39m]}\n\u001b[0;32m    119\u001b[0m )\n\u001b[1;32m--> 121\u001b[0m \u001b[43mdf\u001b[49m\u001b[38;5;241;43m.\u001b[39;49m\u001b[43mwriteDatabase\u001b[49m\u001b[43m(\u001b[49m\u001b[43mtest\u001b[49m\u001b[43m,\u001b[49m\u001b[38;5;124;43m'\u001b[39;49m\u001b[38;5;124;43mSCL\u001b[39;49m\u001b[38;5;124;43m'\u001b[39;49m\u001b[43m,\u001b[49m\u001b[43mstage\u001b[49m\u001b[43m \u001b[49m\u001b[38;5;241;43m=\u001b[39;49m\u001b[43m \u001b[49m\u001b[38;5;124;43m'\u001b[39;49m\u001b[38;5;124;43mraw/Hobo\u001b[39;49m\u001b[38;5;124;43m'\u001b[39;49m\u001b[43m)\u001b[49m\n\u001b[0;32m    123\u001b[0m test2 \u001b[38;5;241m=\u001b[39m pd\u001b[38;5;241m.\u001b[39mDataFrame(\n\u001b[0;32m    124\u001b[0m     index\u001b[38;5;241m=\u001b[39mpd\u001b[38;5;241m.\u001b[39mDatetimeIndex([\u001b[38;5;124m'\u001b[39m\u001b[38;5;124m2024-12-31 23:30\u001b[39m\u001b[38;5;124m'\u001b[39m, \u001b[38;5;124m'\u001b[39m\u001b[38;5;124m2025-01-01 00:00\u001b[39m\u001b[38;5;124m'\u001b[39m, \u001b[38;5;124m'\u001b[39m\u001b[38;5;124m2025-01-01 00:30\u001b[39m\u001b[38;5;124m'\u001b[39m,\u001b[38;5;124m'\u001b[39m\u001b[38;5;124m2025-01-01 01:00\u001b[39m\u001b[38;5;124m'\u001b[39m,\u001b[38;5;124m'\u001b[39m\u001b[38;5;124m2025-01-01 01:30\u001b[39m\u001b[38;5;124m'\u001b[39m]),\n\u001b[0;32m    125\u001b[0m     data\u001b[38;5;241m=\u001b[39m{\u001b[38;5;124m'\u001b[39m\u001b[38;5;124mTA\u001b[39m\u001b[38;5;124m'\u001b[39m:[\u001b[38;5;241m-\u001b[39m\u001b[38;5;241m1\u001b[39m,\u001b[38;5;241m-\u001b[39m\u001b[38;5;241m2\u001b[39m,\u001b[38;5;241m-\u001b[39m\u001b[38;5;241m3\u001b[39m,\u001b[38;5;241m-\u001b[39m\u001b[38;5;241m9999\u001b[39m,\u001b[38;5;241m-\u001b[39m\u001b[38;5;241m5\u001b[39m],\n\u001b[0;32m    126\u001b[0m           \u001b[38;5;124m'\u001b[39m\u001b[38;5;124mTX\u001b[39m\u001b[38;5;124m'\u001b[39m:[\u001b[38;5;241m-\u001b[39m\u001b[38;5;241m1\u001b[39m,\u001b[38;5;241m-\u001b[39m\u001b[38;5;241m2\u001b[39m,\u001b[38;5;241m-\u001b[39m\u001b[38;5;241m3\u001b[39m,\u001b[38;5;241m-\u001b[39m\u001b[38;5;241m9999\u001b[39m,\u001b[38;5;241m-\u001b[39m\u001b[38;5;241m5\u001b[39m]}\n\u001b[0;32m    127\u001b[0m )\n\u001b[0;32m    129\u001b[0m df\u001b[38;5;241m.\u001b[39mwriteDatabase(test2,\u001b[38;5;124m'\u001b[39m\u001b[38;5;124mSCL\u001b[39m\u001b[38;5;124m'\u001b[39m,stage \u001b[38;5;241m=\u001b[39m \u001b[38;5;124m'\u001b[39m\u001b[38;5;124mraw/Hobo\u001b[39m\u001b[38;5;124m'\u001b[39m)\n",
      "Cell \u001b[1;32mIn[30], line 85\u001b[0m, in \u001b[0;36mdatabase.writeDatabase\u001b[1;34m(self, dataIn, siteID, stage, mode, freq)\u001b[0m\n\u001b[0;32m     83\u001b[0m \u001b[38;5;28;01mfor\u001b[39;00m y \u001b[38;5;129;01min\u001b[39;00m dataIn\u001b[38;5;241m.\u001b[39mindex\u001b[38;5;241m.\u001b[39myear\u001b[38;5;241m.\u001b[39munique():\n\u001b[0;32m     84\u001b[0m     dbpth \u001b[38;5;241m=\u001b[39m os\u001b[38;5;241m.\u001b[39mpath\u001b[38;5;241m.\u001b[39mjoin(\u001b[38;5;28mself\u001b[39m\u001b[38;5;241m.\u001b[39mprojectPath,\u001b[38;5;28mstr\u001b[39m(y),siteID,stage)\n\u001b[1;32m---> 85\u001b[0m     fullYear \u001b[38;5;241m=\u001b[39m \u001b[38;5;28;43mself\u001b[39;49m\u001b[38;5;241;43m.\u001b[39;49m\u001b[43mreadDatabaseFolder\u001b[49m\u001b[43m(\u001b[49m\u001b[43mdbpth\u001b[49m\u001b[43m)\u001b[49m\n\u001b[0;32m     86\u001b[0m     \u001b[38;5;28;01mif\u001b[39;00m fullYear\u001b[38;5;241m.\u001b[39mempty:\n\u001b[0;32m     87\u001b[0m         fullYear \u001b[38;5;241m=\u001b[39m pd\u001b[38;5;241m.\u001b[39mDataFrame(index\u001b[38;5;241m=\u001b[39mpd\u001b[38;5;241m.\u001b[39mdate_range(\u001b[38;5;28mstr\u001b[39m(y),\u001b[38;5;28mstr\u001b[39m(y\u001b[38;5;241m+\u001b[39m\u001b[38;5;241m1\u001b[39m),freq\u001b[38;5;241m=\u001b[39mfreq,inclusive\u001b[38;5;241m=\u001b[39m\u001b[38;5;124m'\u001b[39m\u001b[38;5;124mright\u001b[39m\u001b[38;5;124m'\u001b[39m))\n",
      "Cell \u001b[1;32mIn[30], line 73\u001b[0m, in \u001b[0;36mdatabase.readDatabaseFolder\u001b[1;34m(self, dbpth, filter)\u001b[0m\n\u001b[0;32m     72\u001b[0m \u001b[38;5;28;01mdef\u001b[39;00m \u001b[38;5;21mreadDatabaseFolder\u001b[39m(\u001b[38;5;28mself\u001b[39m,dbpth,\u001b[38;5;28mfilter\u001b[39m \u001b[38;5;241m=\u001b[39m \u001b[38;5;28;01mNone\u001b[39;00m):\n\u001b[1;32m---> 73\u001b[0m     files \u001b[38;5;241m=\u001b[39m [f \u001b[38;5;28;01mfor\u001b[39;00m f \u001b[38;5;129;01min\u001b[39;00m \u001b[43mos\u001b[49m\u001b[38;5;241;43m.\u001b[39;49m\u001b[43mlistdir\u001b[49m\u001b[43m(\u001b[49m\u001b[43mdbpth\u001b[49m\u001b[43m)\u001b[49m \u001b[38;5;28;01mif\u001b[39;00m \u001b[38;5;28mfilter\u001b[39m \u001b[38;5;129;01mis\u001b[39;00m \u001b[38;5;28;01mNone\u001b[39;00m \u001b[38;5;129;01mor\u001b[39;00m f \u001b[38;5;129;01min\u001b[39;00m \u001b[38;5;28mfilter\u001b[39m]\n\u001b[0;32m     74\u001b[0m     df \u001b[38;5;241m=\u001b[39m pd\u001b[38;5;241m.\u001b[39mDataFrame(data \u001b[38;5;241m=\u001b[39m {f:np\u001b[38;5;241m.\u001b[39mfromfile(os\u001b[38;5;241m.\u001b[39mpath\u001b[38;5;241m.\u001b[39mjoin(dbpth,f),dtype\u001b[38;5;241m=\u001b[39m\u001b[38;5;28mself\u001b[39m\u001b[38;5;241m.\u001b[39mmetadata[f][\u001b[38;5;124m'\u001b[39m\u001b[38;5;124mdtype\u001b[39m\u001b[38;5;124m'\u001b[39m]) \u001b[38;5;28;01mif\u001b[39;00m f \u001b[38;5;129;01min\u001b[39;00m \u001b[38;5;28mself\u001b[39m\u001b[38;5;241m.\u001b[39mmetadata\u001b[38;5;241m.\u001b[39mkeys() \n\u001b[0;32m     75\u001b[0m             \u001b[38;5;28;01melse\u001b[39;00m np\u001b[38;5;241m.\u001b[39mfromfile(os\u001b[38;5;241m.\u001b[39mpath\u001b[38;5;241m.\u001b[39mjoin(dbpth,f),dtype\u001b[38;5;241m=\u001b[39m\u001b[38;5;28mself\u001b[39m\u001b[38;5;241m.\u001b[39mmetadata[\u001b[38;5;124m'\u001b[39m\u001b[38;5;124mData_traces\u001b[39m\u001b[38;5;124m'\u001b[39m][\u001b[38;5;124m'\u001b[39m\u001b[38;5;124mdtype\u001b[39m\u001b[38;5;124m'\u001b[39m])\n\u001b[0;32m     76\u001b[0m             \u001b[38;5;28;01mfor\u001b[39;00m f \u001b[38;5;129;01min\u001b[39;00m files})\n\u001b[0;32m     77\u001b[0m     \u001b[38;5;28;01mif\u001b[39;00m \u001b[38;5;129;01mnot\u001b[39;00m df\u001b[38;5;241m.\u001b[39mempty:\n",
      "\u001b[1;31mFileNotFoundError\u001b[0m: [WinError 3] The system cannot find the path specified: 'c:\\\\Users\\\\jskeeter\\\\gsc-permafrost\\\\dataPipeline\\\\test\\\\2024\\\\SCL\\\\raw/Hobo'"
     ]
    }
   ],
   "source": [
    "import os\n",
    "import sys\n",
    "import yaml\n",
    "import shutil\n",
    "import datetime\n",
    "import numpy as np\n",
    "import pandas as pd\n",
    "from dataclasses import dataclass,field\n",
    "\n",
    "@dataclass\n",
    "class database:\n",
    "    # Declare the defaults for a database\n",
    "    isDatabase: bool = False\n",
    "    projectPath: str = None\n",
    "    logfile: str = ''\n",
    "    siteID: list = field(default_factory=list)\n",
    "    level: list = field(default_factory=lambda:['raw','Processed'])\n",
    "    Years: list = field(default_factory=lambda:[datetime.datetime.now().year])\n",
    "    metadata: dict = field(default_factory=lambda:{\n",
    "        'Data_traces':{\n",
    "            'dtype':'float32',\n",
    "            'precision':4\n",
    "            },\n",
    "        'POSIX_timestamp':{\n",
    "            'dtype':'float64',\n",
    "            'precision':8,\n",
    "            'timezone':'UTC'\n",
    "        }}\n",
    "            )\n",
    "    Database: dict = field(default_factory=dict)\n",
    "\n",
    "    def __post_init__(self):\n",
    "        self.Years = [str(Y) for Y in self.Years]\n",
    "        self._metadata = os.path.join(self.projectPath,\"_metadata.yml\")\n",
    "        self._logfile = os.path.join(self.projectPath,'_logfile.txt')\n",
    "        self._map = {os.path.join(Y,siteID,level):[]\n",
    "                           for Y in self.Years\n",
    "                           for siteID in self.siteID\n",
    "                           for level in self.level}\n",
    "        if not os.path.isdir(self.projectPath):\n",
    "            self.makeDatabase()\n",
    "        elif not os.path.isfile(self._metadata) and os.listdir(self.projectPath):\n",
    "           sys.exit('Non-empty, non-project directory provided')\n",
    "        else:\n",
    "            self.openDatabase()\n",
    "        self.isDatabase = True\n",
    "        \n",
    "    def now(self):\n",
    "        return(datetime.datetime.now().strftime('%Y-%m-%d %H:%M:%S'))\n",
    "\n",
    "    def makeDatabase(self):\n",
    "        now = self.now()\n",
    "        self.metadata['Date_created'] = now\n",
    "        self.metadata['Last_modified'] = now\n",
    "        self.logfile = 'Creating Database: ' + now + '\\n'\n",
    "        for dbpath in self._map:\n",
    "            os.makedirs(os.path.join(self.projectPath,dbpath))\n",
    "        with open(self._metadata,'w+') as file:\n",
    "            yaml.safe_dump(self.metadata,file,sort_keys=False)\n",
    "        with open(self._logfile,'w+') as file:\n",
    "            file.write(self.logfile)\n",
    "\n",
    "    def openDatabase(self):\n",
    "        with open(self._metadata) as file:\n",
    "            metadata = yaml.safe_load(file)\n",
    "            if sum(k not in metadata.keys() for k in self.metadata.keys()):\n",
    "                sys.exit('Database metadata are corrupted')\n",
    "            self.metadata = metadata\n",
    "        with open(self._logfile) as file:\n",
    "            self.logfile = file.read()\n",
    "    \n",
    "    def readDatabaseFolder(self,dbpth,filter = None):\n",
    "        files = [f for f in os.listdir(dbpth) if filter is None or f in filter]\n",
    "        df = pd.DataFrame(data = {f:np.fromfile(os.path.join(dbpth,f),dtype=self.metadata[f]['dtype']) if f in self.metadata.keys() \n",
    "                else np.fromfile(os.path.join(dbpth,f),dtype=self.metadata['Data_traces']['dtype'])\n",
    "                for f in files})\n",
    "        if not df.empty:\n",
    "            df.index=pd.to_datetime(df['POSIX_timestamp'],unit='s')\n",
    "        return(df)\n",
    "\n",
    "        \n",
    "    def writeDatabase(self,dataIn,siteID,stage='raw',mode='fill',freq='30min'):\n",
    "        for y in dataIn.index.year.unique():\n",
    "            dbpth = os.path.join(self.projectPath,str(y),siteID,stage)\n",
    "            if not os.path.isdir(dbpth):\n",
    "                os.makedirs(dbpth)\n",
    "            fullYear = self.readDatabaseFolder(dbpth)\n",
    "            if fullYear.empty:\n",
    "                fullYear = pd.DataFrame(index=pd.date_range(str(y),str(y+1),freq=freq,inclusive='right'))\n",
    "    \n",
    "                fullYear['POSIX_timestamp'] = (fullYear.index - pd.Timestamp(\"1970-01-01\")) / pd.Timedelta('1s')\n",
    "                fullYear = fullYear.join(dataIn)\n",
    "                for col in fullYear.columns:\n",
    "                    if col in self.metadata.keys():\n",
    "                        fullYear[col].astype(self.metadata[col]['dtype']).values.tofile(os.path.join(dbpth,col))\n",
    "                    else:\n",
    "                               fullYear[col].astype(self.metadata['Data_traces']['dtype']).values.tofile(os.path.join(dbpth,col))\n",
    "            else:\n",
    "                if mode == 'fill':\n",
    "                    fill_cols = [c for c in dataIn.columns if c in fullYear.columns]\n",
    "                    fullYear = fullYear.fillna(dataIn[fill_cols])\n",
    "                else: fill_cols = []\n",
    "                append_cols = [c for c in dataIn.columns if c not in fill_cols]\n",
    "                fullYear = fullYear.join(dataIn[append_cols])\n",
    "            print(fullYear.head())\n"
   ]
  },
  {
   "cell_type": "code",
   "execution_count": 46,
   "metadata": {},
   "outputs": [
    {
     "name": "stdout",
     "output_type": "stream",
     "text": [
      "e:\\gsc-permafrost\\dataPipeline\\test\\2024\\SCL\\raw\n",
      "True\n",
      "POSIX_timestamp\n",
      "TA\n",
      "TF\n",
      "e:\\gsc-permafrost\\dataPipeline\\test\\2025\\SCL\\raw\n",
      "True\n",
      "POSIX_timestamp\n",
      "TA\n",
      "TF\n"
     ]
    }
   ],
   "source": []
  },
  {
   "cell_type": "code",
   "execution_count": 119,
   "metadata": {},
   "outputs": [
    {
     "data": {
      "text/plain": [
       "DatetimeIndex(['2024-01-01 00:30:00', '2024-01-01 01:00:00',\n",
       "               '2024-01-01 01:30:00', '2024-01-01 02:00:00',\n",
       "               '2024-01-01 02:30:00', '2024-01-01 03:00:00',\n",
       "               '2024-01-01 03:30:00', '2024-01-01 04:00:00',\n",
       "               '2024-01-01 04:30:00', '2024-01-01 05:00:00',\n",
       "               ...\n",
       "               '2024-12-31 19:30:00', '2024-12-31 20:00:00',\n",
       "               '2024-12-31 20:30:00', '2024-12-31 21:00:00',\n",
       "               '2024-12-31 21:30:00', '2024-12-31 22:00:00',\n",
       "               '2024-12-31 22:30:00', '2024-12-31 23:00:00',\n",
       "               '2024-12-31 23:30:00', '2025-01-01 00:00:00'],\n",
       "              dtype='datetime64[ns]', length=17568, freq='30min')"
      ]
     },
     "execution_count": 119,
     "metadata": {},
     "output_type": "execute_result"
    }
   ],
   "source": []
  }
 ],
 "metadata": {
  "kernelspec": {
   "display_name": "Python 3",
   "language": "python",
   "name": "python3"
  },
  "language_info": {
   "codemirror_mode": {
    "name": "ipython",
    "version": 3
   },
   "file_extension": ".py",
   "mimetype": "text/x-python",
   "name": "python",
   "nbconvert_exporter": "python",
   "pygments_lexer": "ipython3",
   "version": "3.10.4"
  }
 },
 "nbformat": 4,
 "nbformat_minor": 2
}
